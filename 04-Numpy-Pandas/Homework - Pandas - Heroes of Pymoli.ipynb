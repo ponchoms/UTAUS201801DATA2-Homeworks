{
 "cells": [
  {
   "cell_type": "code",
   "execution_count": 257,
   "metadata": {
    "collapsed": true
   },
   "outputs": [],
   "source": [
    "import pandas as pd\n",
    "import numpy as np"
   ]
  },
  {
   "cell_type": "code",
   "execution_count": 258,
   "metadata": {},
   "outputs": [
    {
     "data": {
      "text/html": [
       "<div>\n",
       "<style scoped>\n",
       "    .dataframe tbody tr th:only-of-type {\n",
       "        vertical-align: middle;\n",
       "    }\n",
       "\n",
       "    .dataframe tbody tr th {\n",
       "        vertical-align: top;\n",
       "    }\n",
       "\n",
       "    .dataframe thead th {\n",
       "        text-align: right;\n",
       "    }\n",
       "</style>\n",
       "<table border=\"1\" class=\"dataframe\">\n",
       "  <thead>\n",
       "    <tr style=\"text-align: right;\">\n",
       "      <th></th>\n",
       "      <th>Age</th>\n",
       "      <th>Gender</th>\n",
       "      <th>Item ID</th>\n",
       "      <th>Item Name</th>\n",
       "      <th>Price</th>\n",
       "      <th>SN</th>\n",
       "    </tr>\n",
       "  </thead>\n",
       "  <tbody>\n",
       "    <tr>\n",
       "      <th>0</th>\n",
       "      <td>38</td>\n",
       "      <td>Male</td>\n",
       "      <td>165</td>\n",
       "      <td>Bone Crushing Silver Skewer</td>\n",
       "      <td>$3.37</td>\n",
       "      <td>Aelalis34</td>\n",
       "    </tr>\n",
       "    <tr>\n",
       "      <th>1</th>\n",
       "      <td>21</td>\n",
       "      <td>Male</td>\n",
       "      <td>119</td>\n",
       "      <td>Stormbringer, Dark Blade of Ending Misery</td>\n",
       "      <td>$2.32</td>\n",
       "      <td>Eolo46</td>\n",
       "    </tr>\n",
       "    <tr>\n",
       "      <th>2</th>\n",
       "      <td>34</td>\n",
       "      <td>Male</td>\n",
       "      <td>174</td>\n",
       "      <td>Primitive Blade</td>\n",
       "      <td>$2.46</td>\n",
       "      <td>Assastnya25</td>\n",
       "    </tr>\n",
       "    <tr>\n",
       "      <th>3</th>\n",
       "      <td>21</td>\n",
       "      <td>Male</td>\n",
       "      <td>92</td>\n",
       "      <td>Final Critic</td>\n",
       "      <td>$1.36</td>\n",
       "      <td>Pheusrical25</td>\n",
       "    </tr>\n",
       "    <tr>\n",
       "      <th>4</th>\n",
       "      <td>23</td>\n",
       "      <td>Male</td>\n",
       "      <td>63</td>\n",
       "      <td>Stormfury Mace</td>\n",
       "      <td>$1.27</td>\n",
       "      <td>Aela59</td>\n",
       "    </tr>\n",
       "  </tbody>\n",
       "</table>\n",
       "</div>"
      ],
      "text/plain": [
       "   Age Gender  Item ID                                  Item Name  Price  \\\n",
       "0   38   Male      165                Bone Crushing Silver Skewer  $3.37   \n",
       "1   21   Male      119  Stormbringer, Dark Blade of Ending Misery  $2.32   \n",
       "2   34   Male      174                            Primitive Blade  $2.46   \n",
       "3   21   Male       92                               Final Critic  $1.36   \n",
       "4   23   Male       63                             Stormfury Mace  $1.27   \n",
       "\n",
       "             SN  \n",
       "0     Aelalis34  \n",
       "1        Eolo46  \n",
       "2   Assastnya25  \n",
       "3  Pheusrical25  \n",
       "4        Aela59  "
      ]
     },
     "execution_count": 258,
     "metadata": {},
     "output_type": "execute_result"
    }
   ],
   "source": [
    "raw_data = [{\"SN\":\"Aelalis34\",\"Age\":38,\"Gender\":\"Male\",\"Item ID\":165,\"Item Name\":\"Bone Crushing Silver Skewer\",\"Price\":3.37},{\"SN\":\"Eolo46\",\"Age\":21,\"Gender\":\"Male\",\"Item ID\":119,\"Item Name\":\"Stormbringer, Dark Blade of Ending Misery\",\"Price\":2.32},{\"SN\":\"Assastnya25\",\"Age\":34,\"Gender\":\"Male\",\"Item ID\":174,\"Item Name\":\"Primitive Blade\",\"Price\":2.46},{\"SN\":\"Pheusrical25\",\"Age\":21,\"Gender\":\"Male\",\"Item ID\":92,\"Item Name\":\"Final Critic\",\"Price\":1.36},{\"SN\":\"Aela59\",\"Age\":23,\"Gender\":\"Male\",\"Item ID\":63,\"Item Name\":\"Stormfury Mace\",\"Price\":1.27},{\"SN\":\"Tanimnya91\",\"Age\":20,\"Gender\":\"Male\",\"Item ID\":10,\"Item Name\":\"Sleepwalker\",\"Price\":1.73},{\"SN\":\"Undjaskla97\",\"Age\":20,\"Gender\":\"Male\",\"Item ID\":153,\"Item Name\":\"Mercenary Sabre\",\"Price\":4.57},{\"SN\":\"Iathenudil29\",\"Age\":29,\"Gender\":\"Female\",\"Item ID\":169,\"Item Name\":\"Interrogator, Blood Blade of the Queen\",\"Price\":3.32},{\"SN\":\"Sondenasta63\",\"Age\":25,\"Gender\":\"Male\",\"Item ID\":118,\"Item Name\":\"Ghost Reaver, Longsword of Magic\",\"Price\":2.77},{\"SN\":\"Hilaerin92\",\"Age\":31,\"Gender\":\"Male\",\"Item ID\":99,\"Item Name\":\"Expiration, Warscythe Of Lost Worlds\",\"Price\":4.53},{\"SN\":\"Chamosia29\",\"Age\":24,\"Gender\":\"Male\",\"Item ID\":57,\"Item Name\":\"Despair, Favor of Due Diligence\",\"Price\":3.81},{\"SN\":\"Sally64\",\"Age\":20,\"Gender\":\"Male\",\"Item ID\":47,\"Item Name\":\"Alpha, Reach of Ending Hope\",\"Price\":1.55},{\"SN\":\"Iskossa88\",\"Age\":30,\"Gender\":\"Male\",\"Item ID\":81,\"Item Name\":\"Dreamkiss\",\"Price\":4.06},{\"SN\":\"Seorithstilis90\",\"Age\":23,\"Gender\":\"Male\",\"Item ID\":77,\"Item Name\":\"Piety, Guardian of Riddles\",\"Price\":3.68},{\"SN\":\"Sundast29\",\"Age\":40,\"Gender\":\"Male\",\"Item ID\":44,\"Item Name\":\"Bonecarvin Battle Axe\",\"Price\":2.46},{\"SN\":\"Haellysu29\",\"Age\":21,\"Gender\":\"Male\",\"Item ID\":96,\"Item Name\":\"Blood-Forged Skeletal Spine\",\"Price\":4.77},{\"SN\":\"Sundista85\",\"Age\":22,\"Gender\":\"Female\",\"Item ID\":123,\"Item Name\":\"Twilight's Carver\",\"Price\":1.14},{\"SN\":\"Aenarap34\",\"Age\":22,\"Gender\":\"Female\",\"Item ID\":59,\"Item Name\":\"Lightning, Etcher of the King\",\"Price\":1.65},{\"SN\":\"Iskista88\",\"Age\":28,\"Gender\":\"Male\",\"Item ID\":91,\"Item Name\":\"Celeste\",\"Price\":3.71},{\"SN\":\"Assossa43\",\"Age\":31,\"Gender\":\"Male\",\"Item ID\":177,\"Item Name\":\"Winterthorn, Defender of Shifting Worlds\",\"Price\":4.89},{\"SN\":\"Irith83\",\"Age\":24,\"Gender\":\"Male\",\"Item ID\":78,\"Item Name\":\"Glimmer, Ender of the Moon\",\"Price\":2.33},{\"SN\":\"Iaralrgue74\",\"Age\":15,\"Gender\":\"Male\",\"Item ID\":3,\"Item Name\":\"Phantomlight\",\"Price\":1.79},{\"SN\":\"Deural48\",\"Age\":11,\"Gender\":\"Female\",\"Item ID\":11,\"Item Name\":\"Brimstone\",\"Price\":2.52},{\"SN\":\"Chanosia65\",\"Age\":19,\"Gender\":\"Male\",\"Item ID\":183,\"Item Name\":\"Dragon's Greatsword\",\"Price\":2.36},{\"SN\":\"Qarwen67\",\"Age\":11,\"Gender\":\"Male\",\"Item ID\":65,\"Item Name\":\"Conqueror Adamantite Mace\",\"Price\":1.96},{\"SN\":\"Idai61\",\"Age\":21,\"Gender\":\"Male\",\"Item ID\":63,\"Item Name\":\"Stormfury Mace\",\"Price\":1.27},{\"SN\":\"Aerithllora36\",\"Age\":29,\"Gender\":\"Male\",\"Item ID\":132,\"Item Name\":\"Persuasion\",\"Price\":3.9},{\"SN\":\"Assastnya25\",\"Age\":34,\"Gender\":\"Male\",\"Item ID\":106,\"Item Name\":\"Crying Steel Sickle\",\"Price\":2.29},{\"SN\":\"Ilariarin45\",\"Age\":15,\"Gender\":\"Male\",\"Item ID\":49,\"Item Name\":\"The Oculus, Token of Lost Worlds\",\"Price\":4.23},{\"SN\":\"Phaedai25\",\"Age\":16,\"Gender\":\"Female\",\"Item ID\":45,\"Item Name\":\"Glinting Glass Edge\",\"Price\":2.46},{\"SN\":\"Eulaeria40\",\"Age\":21,\"Gender\":\"Female\",\"Item ID\":155,\"Item Name\":\"War-Forged Gold Deflector\",\"Price\":3.73},{\"SN\":\"Iarilis73\",\"Age\":18,\"Gender\":\"Male\",\"Item ID\":37,\"Item Name\":\"Shadow Strike, Glory of Ending Hope\",\"Price\":1.93},{\"SN\":\"Malunil62\",\"Age\":19,\"Gender\":\"Male\",\"Item ID\":48,\"Item Name\":\"Rage, Legacy of the Lone Victor\",\"Price\":4.32},{\"SN\":\"Iskimnya76\",\"Age\":24,\"Gender\":\"Male\",\"Item ID\":90,\"Item Name\":\"Betrayer\",\"Price\":1.67},{\"SN\":\"Yararmol43\",\"Age\":22,\"Gender\":\"Male\",\"Item ID\":47,\"Item Name\":\"Alpha, Reach of Ending Hope\",\"Price\":1.55},{\"SN\":\"Aisur51\",\"Age\":21,\"Gender\":\"Female\",\"Item ID\":13,\"Item Name\":\"Serenity\",\"Price\":1.49},{\"SN\":\"Undare39\",\"Age\":20,\"Gender\":\"Male\",\"Item ID\":44,\"Item Name\":\"Bonecarvin Battle Axe\",\"Price\":2.46},{\"SN\":\"Sondossa91\",\"Age\":31,\"Gender\":\"Male\",\"Item ID\":171,\"Item Name\":\"Scalpel\",\"Price\":3.62},{\"SN\":\"Chamjasknya65\",\"Age\":20,\"Gender\":\"Male\",\"Item ID\":25,\"Item Name\":\"Hero Cane\",\"Price\":1.03},{\"SN\":\"Lassilsa63\",\"Age\":23,\"Gender\":\"Male\",\"Item ID\":63,\"Item Name\":\"Stormfury Mace\",\"Price\":1.27},{\"SN\":\"Tyisur83\",\"Age\":32,\"Gender\":\"Male\",\"Item ID\":7,\"Item Name\":\"Thorn, Satchel of Dark Souls\",\"Price\":4.51},{\"SN\":\"Aeral43\",\"Age\":19,\"Gender\":\"Female\",\"Item ID\":124,\"Item Name\":\"Venom Claymore\",\"Price\":2.72},{\"SN\":\"Lassadarsda57\",\"Age\":24,\"Gender\":\"Male\",\"Item ID\":25,\"Item Name\":\"Hero Cane\",\"Price\":1.03},{\"SN\":\"Alaephos75\",\"Age\":22,\"Gender\":\"Male\",\"Item ID\":68,\"Item Name\":\"Storm-Weaver, Slayer of Inception\",\"Price\":2.49},{\"SN\":\"Frichjask31\",\"Age\":22,\"Gender\":\"Male\",\"Item ID\":85,\"Item Name\":\"Malificent Bag\",\"Price\":2.17},{\"SN\":\"Eusur90\",\"Age\":20,\"Gender\":\"Male\",\"Item ID\":120,\"Item Name\":\"Agatha\",\"Price\":1.91},{\"SN\":\"Palatyon26\",\"Age\":11,\"Gender\":\"Male\",\"Item ID\":17,\"Item Name\":\"Lazarus, Terror of the Earth\",\"Price\":3.47},{\"SN\":\"Saellyra72\",\"Age\":24,\"Gender\":\"Male\",\"Item ID\":141,\"Item Name\":\"Persuasion\",\"Price\":3.27},{\"SN\":\"Ililsa62\",\"Age\":20,\"Gender\":\"Male\",\"Item ID\":73,\"Item Name\":\"Ritual Mace\",\"Price\":3.74},{\"SN\":\"Eosur70\",\"Age\":22,\"Gender\":\"Male\",\"Item ID\":151,\"Item Name\":\"Severance\",\"Price\":1.85},{\"SN\":\"Saistyphos30\",\"Age\":32,\"Gender\":\"Female\",\"Item ID\":32,\"Item Name\":\"Orenmir\",\"Price\":4.95},{\"SN\":\"Reula64\",\"Age\":16,\"Gender\":\"Male\",\"Item ID\":169,\"Item Name\":\"Interrogator, Blood Blade of the Queen\",\"Price\":3.32},{\"SN\":\"Chanirrala39\",\"Age\":24,\"Gender\":\"Male\",\"Item ID\":165,\"Item Name\":\"Bone Crushing Silver Skewer\",\"Price\":3.37},{\"SN\":\"Chadanto83\",\"Age\":22,\"Gender\":\"Male\",\"Item ID\":51,\"Item Name\":\"Endbringer\",\"Price\":2.67},{\"SN\":\"Minduli80\",\"Age\":25,\"Gender\":\"Female\",\"Item ID\":101,\"Item Name\":\"Final Critic\",\"Price\":4.62},{\"SN\":\"Heunadil74\",\"Age\":24,\"Gender\":\"Male\",\"Item ID\":140,\"Item Name\":\"Striker\",\"Price\":3.82},{\"SN\":\"Marilsasya33\",\"Age\":23,\"Gender\":\"Male\",\"Item ID\":31,\"Item Name\":\"Trickster\",\"Price\":2.07},{\"SN\":\"Alallo58\",\"Age\":24,\"Gender\":\"Male\",\"Item ID\":34,\"Item Name\":\"Retribution Axe\",\"Price\":4.14},{\"SN\":\"Tyaeristi78\",\"Age\":24,\"Gender\":\"Female\",\"Item ID\":65,\"Item Name\":\"Conqueror Adamantite Mace\",\"Price\":1.96},{\"SN\":\"Ila44\",\"Age\":15,\"Gender\":\"Male\",\"Item ID\":2,\"Item Name\":\"Verdict\",\"Price\":3.4},{\"SN\":\"Iskossaya95\",\"Age\":31,\"Gender\":\"Male\",\"Item ID\":86,\"Item Name\":\"Stormfury Lantern\",\"Price\":1.28},{\"SN\":\"Rinallorap73\",\"Age\":24,\"Gender\":\"Male\",\"Item ID\":39,\"Item Name\":\"Betrayal, Whisper of Grieving Widows\",\"Price\":2.35},{\"SN\":\"Aeri84\",\"Age\":19,\"Gender\":\"Female\",\"Item ID\":39,\"Item Name\":\"Betrayal, Whisper of Grieving Widows\",\"Price\":2.35},{\"SN\":\"Ryanara76\",\"Age\":23,\"Gender\":\"Male\",\"Item ID\":28,\"Item Name\":\"Flux, Destroyer of Due Diligence\",\"Price\":3.04},{\"SN\":\"Syally44\",\"Age\":15,\"Gender\":\"Male\",\"Item ID\":160,\"Item Name\":\"Azurewrath\",\"Price\":2.22},{\"SN\":\"Shaidanu32\",\"Age\":15,\"Gender\":\"Male\",\"Item ID\":134,\"Item Name\":\"Undead Crusader\",\"Price\":4.67},{\"SN\":\"Syasriria69\",\"Age\":18,\"Gender\":\"Male\",\"Item ID\":13,\"Item Name\":\"Serenity\",\"Price\":1.49},{\"SN\":\"Lisiriya82\",\"Age\":25,\"Gender\":\"Male\",\"Item ID\":83,\"Item Name\":\"Lifebender\",\"Price\":3.51},{\"SN\":\"Qarwen67\",\"Age\":11,\"Gender\":\"Male\",\"Item ID\":38,\"Item Name\":\"The Void, Vengeance of Dark Magic\",\"Price\":2.82},{\"SN\":\"Iskosia51\",\"Age\":15,\"Gender\":\"Male\",\"Item ID\":7,\"Item Name\":\"Thorn, Satchel of Dark Souls\",\"Price\":4.51},{\"SN\":\"Eosurdru76\",\"Age\":7,\"Gender\":\"Female\",\"Item ID\":158,\"Item Name\":\"Darkheart, Butcher of the Champion\",\"Price\":3.56},{\"SN\":\"Lassimla92\",\"Age\":21,\"Gender\":\"Male\",\"Item ID\":85,\"Item Name\":\"Malificent Bag\",\"Price\":2.17},{\"SN\":\"Tauldilsa43\",\"Age\":34,\"Gender\":\"Male\",\"Item ID\":110,\"Item Name\":\"Suspension\",\"Price\":2.11},{\"SN\":\"Erudrion71\",\"Age\":16,\"Gender\":\"Male\",\"Item ID\":122,\"Item Name\":\"Unending Tyranny\",\"Price\":1.21},{\"SN\":\"Chanjaskan37\",\"Age\":20,\"Gender\":\"Male\",\"Item ID\":54,\"Item Name\":\"Eternal Cleaver\",\"Price\":3.14},{\"SN\":\"Sondastan54\",\"Age\":31,\"Gender\":\"Male\",\"Item ID\":31,\"Item Name\":\"Trickster\",\"Price\":2.07},{\"SN\":\"Strithenu87\",\"Age\":20,\"Gender\":\"Male\",\"Item ID\":105,\"Item Name\":\"Hailstorm Shadowsteel Scythe\",\"Price\":3.73},{\"SN\":\"Chanastsda67\",\"Age\":15,\"Gender\":\"Male\",\"Item ID\":87,\"Item Name\":\"Deluge, Edge of the West\",\"Price\":2.2},{\"SN\":\"Baelollodeu94\",\"Age\":23,\"Gender\":\"Male\",\"Item ID\":23,\"Item Name\":\"Crucifer\",\"Price\":2.77},{\"SN\":\"Undirrala66\",\"Age\":29,\"Gender\":\"Male\",\"Item ID\":144,\"Item Name\":\"Blood Infused Guardian\",\"Price\":2.86},{\"SN\":\"Chanosseya79\",\"Age\":16,\"Gender\":\"Female\",\"Item ID\":128,\"Item Name\":\"Blazeguard, Reach of Eternity\",\"Price\":4.0},{\"SN\":\"Yaristi64\",\"Age\":38,\"Gender\":\"Male\",\"Item ID\":175,\"Item Name\":\"Woeful Adamantite Claymore\",\"Price\":1.24},{\"SN\":\"Airi27\",\"Age\":23,\"Gender\":\"Male\",\"Item ID\":46,\"Item Name\":\"Hopeless Ebon Dualblade\",\"Price\":4.75},{\"SN\":\"Frichaststa61\",\"Age\":25,\"Gender\":\"Female\",\"Item ID\":32,\"Item Name\":\"Orenmir\",\"Price\":4.95},{\"SN\":\"Raysistast71\",\"Age\":25,\"Gender\":\"Male\",\"Item ID\":7,\"Item Name\":\"Thorn, Satchel of Dark Souls\",\"Price\":4.51},{\"SN\":\"Ithergue48\",\"Age\":20,\"Gender\":\"Female\",\"Item ID\":150,\"Item Name\":\"Deathraze\",\"Price\":4.54},{\"SN\":\"Chanastst38\",\"Age\":27,\"Gender\":\"Male\",\"Item ID\":152,\"Item Name\":\"Darkheart\",\"Price\":3.15},{\"SN\":\"Sundosiasta28\",\"Age\":22,\"Gender\":\"Male\",\"Item ID\":108,\"Item Name\":\"Extraction, Quickblade Of Trembling Hands\",\"Price\":3.39},{\"SN\":\"Undotesta33\",\"Age\":23,\"Gender\":\"Male\",\"Item ID\":132,\"Item Name\":\"Persuasion\",\"Price\":3.9},{\"SN\":\"Tyiaduenuru55\",\"Age\":22,\"Gender\":\"Male\",\"Item ID\":172,\"Item Name\":\"Blade of the Grave\",\"Price\":1.69},{\"SN\":\"Iskjaskst81\",\"Age\":33,\"Gender\":\"Male\",\"Item ID\":91,\"Item Name\":\"Celeste\",\"Price\":3.71},{\"SN\":\"Iskjaskan81\",\"Age\":24,\"Gender\":\"Male\",\"Item ID\":167,\"Item Name\":\"Malice, Legacy of the Queen\",\"Price\":2.38},{\"SN\":\"Frichim27\",\"Age\":24,\"Gender\":\"Male\",\"Item ID\":181,\"Item Name\":\"Reaper's Toll\",\"Price\":4.56},{\"SN\":\"Hailaphos89\",\"Age\":20,\"Gender\":\"Male\",\"Item ID\":20,\"Item Name\":\"Netherbane\",\"Price\":1.48},{\"SN\":\"Seorithstilis90\",\"Age\":23,\"Gender\":\"Male\",\"Item ID\":130,\"Item Name\":\"Alpha\",\"Price\":1.56},{\"SN\":\"Jiskjask80\",\"Age\":24,\"Gender\":\"Male\",\"Item ID\":111,\"Item Name\":\"Misery's End\",\"Price\":2.91},{\"SN\":\"Yasurra52\",\"Age\":22,\"Gender\":\"Female\",\"Item ID\":54,\"Item Name\":\"Eternal Cleaver\",\"Price\":3.14},{\"SN\":\"Assassasta79\",\"Age\":17,\"Gender\":\"Female\",\"Item ID\":49,\"Item Name\":\"The Oculus, Token of Lost Worlds\",\"Price\":4.23},{\"SN\":\"Lamyon68\",\"Age\":25,\"Gender\":\"Male\",\"Item ID\":47,\"Item Name\":\"Alpha, Reach of Ending Hope\",\"Price\":1.55},{\"SN\":\"Alo67\",\"Age\":20,\"Gender\":\"Male\",\"Item ID\":110,\"Item Name\":\"Suspension\",\"Price\":2.11},{\"SN\":\"Farenon57\",\"Age\":20,\"Gender\":\"Male\",\"Item ID\":103,\"Item Name\":\"Singed Scalpel\",\"Price\":4.87},{\"SN\":\"Assistasda90\",\"Age\":25,\"Gender\":\"Male\",\"Item ID\":30,\"Item Name\":\"Stormcaller\",\"Price\":4.15},{\"SN\":\"Frichaya88\",\"Age\":30,\"Gender\":\"Male\",\"Item ID\":51,\"Item Name\":\"Endbringer\",\"Price\":2.67},{\"SN\":\"Marassanya92\",\"Age\":27,\"Gender\":\"Male\",\"Item ID\":139,\"Item Name\":\"Mercy, Katana of Dismay\",\"Price\":4.37},{\"SN\":\"Iskista96\",\"Age\":34,\"Gender\":\"Male\",\"Item ID\":173,\"Item Name\":\"Stormfury Longsword\",\"Price\":4.83},{\"SN\":\"Mindirra92\",\"Age\":20,\"Gender\":\"Male\",\"Item ID\":55,\"Item Name\":\"Vindictive Glass Edge\",\"Price\":4.26},{\"SN\":\"Chadossa56\",\"Age\":37,\"Gender\":\"Female\",\"Item ID\":174,\"Item Name\":\"Primitive Blade\",\"Price\":2.46},{\"SN\":\"Undirrala66\",\"Age\":29,\"Gender\":\"Male\",\"Item ID\":115,\"Item Name\":\"Spectral Diamond Doomblade\",\"Price\":4.25},{\"SN\":\"Eoda93\",\"Age\":22,\"Gender\":\"Male\",\"Item ID\":35,\"Item Name\":\"Heartless Bone Dualblade\",\"Price\":2.63},{\"SN\":\"Lassast89\",\"Age\":20,\"Gender\":\"Female\",\"Item ID\":42,\"Item Name\":\"The Decapitator\",\"Price\":4.82},{\"SN\":\"Philodil43\",\"Age\":20,\"Gender\":\"Female\",\"Item ID\":13,\"Item Name\":\"Serenity\",\"Price\":1.49},{\"SN\":\"Tyirithnu40\",\"Age\":19,\"Gender\":\"Male\",\"Item ID\":160,\"Item Name\":\"Azurewrath\",\"Price\":2.22},{\"SN\":\"Haerith37\",\"Age\":25,\"Gender\":\"Male\",\"Item ID\":57,\"Item Name\":\"Despair, Favor of Due Diligence\",\"Price\":3.81},{\"SN\":\"Jeyciman68\",\"Age\":20,\"Gender\":\"Male\",\"Item ID\":152,\"Item Name\":\"Darkheart\",\"Price\":3.15},{\"SN\":\"Chamirraya83\",\"Age\":20,\"Gender\":\"Male\",\"Item ID\":130,\"Item Name\":\"Alpha\",\"Price\":1.56},{\"SN\":\"Yasur85\",\"Age\":23,\"Gender\":\"Male\",\"Item ID\":9,\"Item Name\":\"Thorn, Conqueror of the Corrupted\",\"Price\":2.04},{\"SN\":\"Koikirra25\",\"Age\":25,\"Gender\":\"Male\",\"Item ID\":84,\"Item Name\":\"Arcane Gem\",\"Price\":2.23},{\"SN\":\"Qarwen67\",\"Age\":11,\"Gender\":\"Male\",\"Item ID\":160,\"Item Name\":\"Azurewrath\",\"Price\":2.22},{\"SN\":\"Quarunarn52\",\"Age\":23,\"Gender\":\"Male\",\"Item ID\":46,\"Item Name\":\"Hopeless Ebon Dualblade\",\"Price\":4.75},{\"SN\":\"Yasur35\",\"Age\":19,\"Gender\":\"Male\",\"Item ID\":180,\"Item Name\":\"Stormcaller\",\"Price\":2.78},{\"SN\":\"Isurriarap71\",\"Age\":31,\"Gender\":\"Male\",\"Item ID\":102,\"Item Name\":\"Avenger\",\"Price\":4.16},{\"SN\":\"Lassjask63\",\"Age\":7,\"Gender\":\"Male\",\"Item ID\":175,\"Item Name\":\"Woeful Adamantite Claymore\",\"Price\":1.24},{\"SN\":\"Iliel92\",\"Age\":18,\"Gender\":\"Female\",\"Item ID\":53,\"Item Name\":\"Vengeance Cleaver\",\"Price\":3.7},{\"SN\":\"Arithllorin55\",\"Age\":19,\"Gender\":\"Male\",\"Item ID\":73,\"Item Name\":\"Ritual Mace\",\"Price\":3.74},{\"SN\":\"Silideu44\",\"Age\":22,\"Gender\":\"Male\",\"Item ID\":18,\"Item Name\":\"Torchlight, Bond of Storms\",\"Price\":1.77},{\"SN\":\"Heosurnuru52\",\"Age\":7,\"Gender\":\"Female\",\"Item ID\":10,\"Item Name\":\"Sleepwalker\",\"Price\":1.73},{\"SN\":\"Raesty92\",\"Age\":25,\"Gender\":\"Male\",\"Item ID\":34,\"Item Name\":\"Retribution Axe\",\"Price\":4.14},{\"SN\":\"Eyircil84\",\"Age\":23,\"Gender\":\"Female\",\"Item ID\":74,\"Item Name\":\"Yearning Crusher\",\"Price\":1.06},{\"SN\":\"Isursti83\",\"Age\":24,\"Gender\":\"Male\",\"Item ID\":140,\"Item Name\":\"Striker\",\"Price\":3.82},{\"SN\":\"Eurinu48\",\"Age\":23,\"Gender\":\"Female\",\"Item ID\":126,\"Item Name\":\"Exiled Mithril Longsword\",\"Price\":3.25},{\"SN\":\"Saedaiphos46\",\"Age\":24,\"Gender\":\"Male\",\"Item ID\":50,\"Item Name\":\"Dawn\",\"Price\":2.55},{\"SN\":\"Undirrala66\",\"Age\":29,\"Gender\":\"Male\",\"Item ID\":62,\"Item Name\":\"Piece Maker\",\"Price\":4.36},{\"SN\":\"Jiskossa51\",\"Age\":23,\"Gender\":\"Male\",\"Item ID\":125,\"Item Name\":\"Whistling Mithril Warblade\",\"Price\":4.32},{\"SN\":\"Sundossast30\",\"Age\":17,\"Gender\":\"Female\",\"Item ID\":108,\"Item Name\":\"Extraction, Quickblade Of Trembling Hands\",\"Price\":3.39},{\"SN\":\"Ialallo29\",\"Age\":23,\"Gender\":\"Male\",\"Item ID\":152,\"Item Name\":\"Darkheart\",\"Price\":3.15},{\"SN\":\"Syasriria69\",\"Age\":18,\"Gender\":\"Male\",\"Item ID\":68,\"Item Name\":\"Storm-Weaver, Slayer of Inception\",\"Price\":2.49},{\"SN\":\"Chanosia60\",\"Age\":16,\"Gender\":\"Male\",\"Item ID\":121,\"Item Name\":\"Massacre\",\"Price\":3.42},{\"SN\":\"Ilosia37\",\"Age\":13,\"Gender\":\"Female\",\"Item ID\":20,\"Item Name\":\"Netherbane\",\"Price\":1.48},{\"SN\":\"Tyeulisu40\",\"Age\":28,\"Gender\":\"Male\",\"Item ID\":129,\"Item Name\":\"Fate, Vengeance of Eternal Justice\",\"Price\":1.55},{\"SN\":\"Yaliru88\",\"Age\":22,\"Gender\":\"Male\",\"Item ID\":91,\"Item Name\":\"Celeste\",\"Price\":3.71},{\"SN\":\"Jiskassa76\",\"Age\":25,\"Gender\":\"Male\",\"Item ID\":149,\"Item Name\":\"Tranquility, Razor of Black Magic\",\"Price\":2.47},{\"SN\":\"Idairin80\",\"Age\":24,\"Gender\":\"Male\",\"Item ID\":12,\"Item Name\":\"Dawne\",\"Price\":4.3},{\"SN\":\"Dyally87\",\"Age\":17,\"Gender\":\"Male\",\"Item ID\":7,\"Item Name\":\"Thorn, Satchel of Dark Souls\",\"Price\":4.51},{\"SN\":\"Quarusrion32\",\"Age\":15,\"Gender\":\"Male\",\"Item ID\":175,\"Item Name\":\"Woeful Adamantite Claymore\",\"Price\":1.24},{\"SN\":\"Adairialis76\",\"Age\":20,\"Gender\":\"Male\",\"Item ID\":44,\"Item Name\":\"Bonecarvin Battle Axe\",\"Price\":2.46},{\"SN\":\"Lirtilsan89\",\"Age\":11,\"Gender\":\"Male\",\"Item ID\":71,\"Item Name\":\"Demise\",\"Price\":4.07},{\"SN\":\"Reolacal36\",\"Age\":23,\"Gender\":\"Male\",\"Item ID\":71,\"Item Name\":\"Demise\",\"Price\":4.07},{\"SN\":\"Chadanto83\",\"Age\":22,\"Gender\":\"Male\",\"Item ID\":158,\"Item Name\":\"Darkheart, Butcher of the Champion\",\"Price\":3.56},{\"SN\":\"Lisirrast82\",\"Age\":18,\"Gender\":\"Male\",\"Item ID\":14,\"Item Name\":\"Possessed Core\",\"Price\":1.59},{\"SN\":\"Ilrian97\",\"Age\":13,\"Gender\":\"Male\",\"Item ID\":175,\"Item Name\":\"Woeful Adamantite Claymore\",\"Price\":1.24},{\"SN\":\"Tyadaru49\",\"Age\":25,\"Gender\":\"Male\",\"Item ID\":58,\"Item Name\":\"Freak's Bite, Favor of Holy Might\",\"Price\":3.03},{\"SN\":\"Sweecossa42\",\"Age\":20,\"Gender\":\"Male\",\"Item ID\":37,\"Item Name\":\"Shadow Strike, Glory of Ending Hope\",\"Price\":1.93},{\"SN\":\"Streural92\",\"Age\":13,\"Gender\":\"Male\",\"Item ID\":17,\"Item Name\":\"Lazarus, Terror of the Earth\",\"Price\":3.47},{\"SN\":\"Queusurra38\",\"Age\":23,\"Gender\":\"Male\",\"Item ID\":155,\"Item Name\":\"War-Forged Gold Deflector\",\"Price\":3.73},{\"SN\":\"Lassilsa41\",\"Age\":27,\"Gender\":\"Female\",\"Item ID\":39,\"Item Name\":\"Betrayal, Whisper of Grieving Widows\",\"Price\":2.35},{\"SN\":\"Aisurphos78\",\"Age\":22,\"Gender\":\"Male\",\"Item ID\":105,\"Item Name\":\"Hailstorm Shadowsteel Scythe\",\"Price\":3.73},{\"SN\":\"Marim28\",\"Age\":17,\"Gender\":\"Female\",\"Item ID\":27,\"Item Name\":\"Riddle, Tribute of Ended Dreams\",\"Price\":3.96},{\"SN\":\"Taeduenu92\",\"Age\":20,\"Gender\":\"Male\",\"Item ID\":52,\"Item Name\":\"Hatred\",\"Price\":4.39},{\"SN\":\"Eodailis27\",\"Age\":25,\"Gender\":\"Female\",\"Item ID\":66,\"Item Name\":\"Victor Iron Spikes\",\"Price\":3.55},{\"SN\":\"Lassjaskan73\",\"Age\":20,\"Gender\":\"Male\",\"Item ID\":100,\"Item Name\":\"Blindscythe\",\"Price\":3.66},{\"SN\":\"Yadanun74\",\"Age\":25,\"Gender\":\"Male\",\"Item ID\":112,\"Item Name\":\"Worldbreaker\",\"Price\":3.29},{\"SN\":\"Iskossasda43\",\"Age\":21,\"Gender\":\"Male\",\"Item ID\":24,\"Item Name\":\"Warped Fetish\",\"Price\":2.41},{\"SN\":\"Aesty51\",\"Age\":15,\"Gender\":\"Male\",\"Item ID\":94,\"Item Name\":\"Mourning Blade\",\"Price\":1.82},{\"SN\":\"Tyida79\",\"Age\":23,\"Gender\":\"Male\",\"Item ID\":158,\"Item Name\":\"Darkheart, Butcher of the Champion\",\"Price\":3.56},{\"SN\":\"Frichossast75\",\"Age\":27,\"Gender\":\"Male\",\"Item ID\":107,\"Item Name\":\"Splitter, Foe Of Subtlety\",\"Price\":3.61},{\"SN\":\"Eratiel90\",\"Age\":20,\"Gender\":\"Male\",\"Item ID\":106,\"Item Name\":\"Crying Steel Sickle\",\"Price\":2.29},{\"SN\":\"Eoda93\",\"Age\":22,\"Gender\":\"Male\",\"Item ID\":173,\"Item Name\":\"Stormfury Longsword\",\"Price\":4.83},{\"SN\":\"Chamirra53\",\"Age\":15,\"Gender\":\"Male\",\"Item ID\":86,\"Item Name\":\"Stormfury Lantern\",\"Price\":1.28},{\"SN\":\"Alarap40\",\"Age\":17,\"Gender\":\"Male\",\"Item ID\":124,\"Item Name\":\"Venom Claymore\",\"Price\":2.72},{\"SN\":\"Ralaeriadeu65\",\"Age\":15,\"Gender\":\"Male\",\"Item ID\":102,\"Item Name\":\"Avenger\",\"Price\":4.16},{\"SN\":\"Reulae52\",\"Age\":9,\"Gender\":\"Male\",\"Item ID\":71,\"Item Name\":\"Demise\",\"Price\":4.07},{\"SN\":\"Stryanastip77\",\"Age\":21,\"Gender\":\"Male\",\"Item ID\":84,\"Item Name\":\"Arcane Gem\",\"Price\":2.23},{\"SN\":\"Iskirra45\",\"Age\":21,\"Gender\":\"Male\",\"Item ID\":106,\"Item Name\":\"Crying Steel Sickle\",\"Price\":2.29},{\"SN\":\"Chadadarya31\",\"Age\":30,\"Gender\":\"Male\",\"Item ID\":0,\"Item Name\":\"Splinter\",\"Price\":1.82},{\"SN\":\"Heuli25\",\"Age\":24,\"Gender\":\"Male\",\"Item ID\":182,\"Item Name\":\"Toothpick\",\"Price\":3.48},{\"SN\":\"Raillydeu47\",\"Age\":35,\"Gender\":\"Male\",\"Item ID\":34,\"Item Name\":\"Retribution Axe\",\"Price\":4.14},{\"SN\":\"Chamadar61\",\"Age\":21,\"Gender\":\"Male\",\"Item ID\":182,\"Item Name\":\"Toothpick\",\"Price\":3.48},{\"SN\":\"Assassa38\",\"Age\":34,\"Gender\":\"Other \\/ Non-Disclosed\",\"Item ID\":155,\"Item Name\":\"War-Forged Gold Deflector\",\"Price\":3.73},{\"SN\":\"Shaidanu32\",\"Age\":15,\"Gender\":\"Male\",\"Item ID\":97,\"Item Name\":\"Swan Song, Gouger Of Terror\",\"Price\":3.58},{\"SN\":\"Chanosiaya39\",\"Age\":40,\"Gender\":\"Male\",\"Item ID\":70,\"Item Name\":\"Hope's End\",\"Price\":3.89},{\"SN\":\"Raeri71\",\"Age\":18,\"Gender\":\"Female\",\"Item ID\":89,\"Item Name\":\"Blazefury, Protector of Delusions\",\"Price\":1.5},{\"SN\":\"Hiasri33\",\"Age\":24,\"Gender\":\"Male\",\"Item ID\":1,\"Item Name\":\"Crucifer\",\"Price\":2.28},{\"SN\":\"Lisossa25\",\"Age\":24,\"Gender\":\"Male\",\"Item ID\":130,\"Item Name\":\"Alpha\",\"Price\":1.56},{\"SN\":\"Sundassa93\",\"Age\":23,\"Gender\":\"Female\",\"Item ID\":87,\"Item Name\":\"Deluge, Edge of the West\",\"Price\":2.2},{\"SN\":\"Rina82\",\"Age\":11,\"Gender\":\"Male\",\"Item ID\":170,\"Item Name\":\"Shadowsteel\",\"Price\":1.98},{\"SN\":\"Siarinum43\",\"Age\":22,\"Gender\":\"Male\",\"Item ID\":167,\"Item Name\":\"Malice, Legacy of the Queen\",\"Price\":2.38},{\"SN\":\"Chanosiaya39\",\"Age\":40,\"Gender\":\"Male\",\"Item ID\":144,\"Item Name\":\"Blood Infused Guardian\",\"Price\":2.86},{\"SN\":\"Eurallo89\",\"Age\":20,\"Gender\":\"Female\",\"Item ID\":93,\"Item Name\":\"Apocalyptic Battlescythe\",\"Price\":3.91},{\"SN\":\"Hirirap39\",\"Age\":20,\"Gender\":\"Male\",\"Item ID\":78,\"Item Name\":\"Glimmer, Ender of the Moon\",\"Price\":2.33},{\"SN\":\"Raillydeu47\",\"Age\":35,\"Gender\":\"Male\",\"Item ID\":179,\"Item Name\":\"Wolf, Promise of the Moonwalker\",\"Price\":1.88},{\"SN\":\"Frichaya88\",\"Age\":30,\"Gender\":\"Male\",\"Item ID\":36,\"Item Name\":\"Spectral Bone Axe\",\"Price\":2.98},{\"SN\":\"Aidaira26\",\"Age\":20,\"Gender\":\"Male\",\"Item ID\":75,\"Item Name\":\"Brutality Ivory Warmace\",\"Price\":1.72},{\"SN\":\"Zontibe81\",\"Age\":20,\"Gender\":\"Male\",\"Item ID\":91,\"Item Name\":\"Celeste\",\"Price\":3.71},{\"SN\":\"Farusrian86\",\"Age\":19,\"Gender\":\"Male\",\"Item ID\":101,\"Item Name\":\"Final Critic\",\"Price\":4.62},{\"SN\":\"Undadarla37\",\"Age\":24,\"Gender\":\"Male\",\"Item ID\":39,\"Item Name\":\"Betrayal, Whisper of Grieving Widows\",\"Price\":2.35},{\"SN\":\"Lirtossa78\",\"Age\":14,\"Gender\":\"Male\",\"Item ID\":160,\"Item Name\":\"Azurewrath\",\"Price\":2.22},{\"SN\":\"Chanirra56\",\"Age\":20,\"Gender\":\"Male\",\"Item ID\":89,\"Item Name\":\"Blazefury, Protector of Delusions\",\"Price\":1.5},{\"SN\":\"Lassast89\",\"Age\":20,\"Gender\":\"Female\",\"Item ID\":65,\"Item Name\":\"Conqueror Adamantite Mace\",\"Price\":1.96},{\"SN\":\"Lisasi93\",\"Age\":18,\"Gender\":\"Male\",\"Item ID\":44,\"Item Name\":\"Bonecarvin Battle Axe\",\"Price\":2.46},{\"SN\":\"Phadai31\",\"Age\":30,\"Gender\":\"Female\",\"Item ID\":180,\"Item Name\":\"Stormcaller\",\"Price\":2.78},{\"SN\":\"Tyithesura58\",\"Age\":22,\"Gender\":\"Male\",\"Item ID\":143,\"Item Name\":\"Frenzied Scimitar\",\"Price\":2.6},{\"SN\":\"Marilsa48\",\"Age\":12,\"Gender\":\"Male\",\"Item ID\":137,\"Item Name\":\"Aetherius, Boon of the Blessed\",\"Price\":4.75},{\"SN\":\"Siarithria38\",\"Age\":24,\"Gender\":\"Male\",\"Item ID\":176,\"Item Name\":\"Relentless Iron Skewer\",\"Price\":2.97},{\"SN\":\"Lisasi93\",\"Age\":18,\"Gender\":\"Male\",\"Item ID\":148,\"Item Name\":\"Warmonger, Gift of Suffering's End\",\"Price\":3.96},{\"SN\":\"Marirrasta50\",\"Age\":19,\"Gender\":\"Male\",\"Item ID\":127,\"Item Name\":\"Heartseeker, Reaver of Souls\",\"Price\":3.21},{\"SN\":\"Airidil41\",\"Age\":17,\"Gender\":\"Male\",\"Item ID\":147,\"Item Name\":\"Hellreaver, Heirloom of Inception\",\"Price\":3.59},{\"SN\":\"Sausosia74\",\"Age\":25,\"Gender\":\"Male\",\"Item ID\":161,\"Item Name\":\"Devine\",\"Price\":1.45},{\"SN\":\"Yadanun74\",\"Age\":25,\"Gender\":\"Male\",\"Item ID\":154,\"Item Name\":\"Feral Katana\",\"Price\":2.19},{\"SN\":\"Sialaera37\",\"Age\":22,\"Gender\":\"Female\",\"Item ID\":13,\"Item Name\":\"Serenity\",\"Price\":1.49},{\"SN\":\"Frichistasta59\",\"Age\":33,\"Gender\":\"Other \\/ Non-Disclosed\",\"Item ID\":157,\"Item Name\":\"Spada, Etcher of Hatred\",\"Price\":2.21},{\"SN\":\"Phadue96\",\"Age\":22,\"Gender\":\"Male\",\"Item ID\":152,\"Item Name\":\"Darkheart\",\"Price\":3.15},{\"SN\":\"Chanirra79\",\"Age\":24,\"Gender\":\"Male\",\"Item ID\":176,\"Item Name\":\"Relentless Iron Skewer\",\"Price\":2.97},{\"SN\":\"Yarmol79\",\"Age\":40,\"Gender\":\"Male\",\"Item ID\":111,\"Item Name\":\"Misery's End\",\"Price\":2.91},{\"SN\":\"Astydil38\",\"Age\":24,\"Gender\":\"Male\",\"Item ID\":127,\"Item Name\":\"Heartseeker, Reaver of Souls\",\"Price\":3.21},{\"SN\":\"Jiskirran77\",\"Age\":27,\"Gender\":\"Female\",\"Item ID\":148,\"Item Name\":\"Warmonger, Gift of Suffering's End\",\"Price\":3.96},{\"SN\":\"Marjasksda39\",\"Age\":20,\"Gender\":\"Female\",\"Item ID\":154,\"Item Name\":\"Feral Katana\",\"Price\":2.19},{\"SN\":\"Eoralphos86\",\"Age\":13,\"Gender\":\"Female\",\"Item ID\":116,\"Item Name\":\"Renewed Skeletal Katana\",\"Price\":2.37},{\"SN\":\"Lisovynya38\",\"Age\":18,\"Gender\":\"Male\",\"Item ID\":106,\"Item Name\":\"Crying Steel Sickle\",\"Price\":2.29},{\"SN\":\"Hailaphos89\",\"Age\":20,\"Gender\":\"Male\",\"Item ID\":31,\"Item Name\":\"Trickster\",\"Price\":2.07},{\"SN\":\"Frichim77\",\"Age\":27,\"Gender\":\"Male\",\"Item ID\":148,\"Item Name\":\"Warmonger, Gift of Suffering's End\",\"Price\":3.96},{\"SN\":\"Aellyrialis39\",\"Age\":33,\"Gender\":\"Male\",\"Item ID\":152,\"Item Name\":\"Darkheart\",\"Price\":3.15},{\"SN\":\"Chamilsan75\",\"Age\":24,\"Gender\":\"Female\",\"Item ID\":61,\"Item Name\":\"Ragnarok\",\"Price\":3.97},{\"SN\":\"Saida58\",\"Age\":24,\"Gender\":\"Male\",\"Item ID\":131,\"Item Name\":\"Fury\",\"Price\":4.82},{\"SN\":\"Eusri70\",\"Age\":30,\"Gender\":\"Male\",\"Item ID\":41,\"Item Name\":\"Orbit\",\"Price\":1.16},{\"SN\":\"Aeduera68\",\"Age\":26,\"Gender\":\"Male\",\"Item ID\":106,\"Item Name\":\"Crying Steel Sickle\",\"Price\":2.29},{\"SN\":\"Qilatie51\",\"Age\":20,\"Gender\":\"Male\",\"Item ID\":152,\"Item Name\":\"Darkheart\",\"Price\":3.15},{\"SN\":\"Chamistast30\",\"Age\":25,\"Gender\":\"Female\",\"Item ID\":92,\"Item Name\":\"Final Critic\",\"Price\":1.36},{\"SN\":\"Qiluard68\",\"Age\":20,\"Gender\":\"Male\",\"Item ID\":32,\"Item Name\":\"Orenmir\",\"Price\":4.95},{\"SN\":\"Tyaelo67\",\"Age\":24,\"Gender\":\"Male\",\"Item ID\":145,\"Item Name\":\"Fiery Glass Crusader\",\"Price\":4.45},{\"SN\":\"Rithe77\",\"Age\":26,\"Gender\":\"Female\",\"Item ID\":129,\"Item Name\":\"Fate, Vengeance of Eternal Justice\",\"Price\":1.55},{\"SN\":\"Tyeosristi57\",\"Age\":15,\"Gender\":\"Male\",\"Item ID\":140,\"Item Name\":\"Striker\",\"Price\":3.82},{\"SN\":\"Lassjaskan73\",\"Age\":20,\"Gender\":\"Male\",\"Item ID\":125,\"Item Name\":\"Whistling Mithril Warblade\",\"Price\":4.32},{\"SN\":\"Eoral49\",\"Age\":16,\"Gender\":\"Female\",\"Item ID\":60,\"Item Name\":\"Wolf\",\"Price\":1.84},{\"SN\":\"Aelollo59\",\"Age\":25,\"Gender\":\"Male\",\"Item ID\":129,\"Item Name\":\"Fate, Vengeance of Eternal Justice\",\"Price\":1.55},{\"SN\":\"Lisossa63\",\"Age\":24,\"Gender\":\"Male\",\"Item ID\":123,\"Item Name\":\"Twilight's Carver\",\"Price\":1.14},{\"SN\":\"Wailin72\",\"Age\":35,\"Gender\":\"Male\",\"Item ID\":162,\"Item Name\":\"Abyssal Shard\",\"Price\":2.04},{\"SN\":\"Yarithllodeu72\",\"Age\":22,\"Gender\":\"Male\",\"Item ID\":154,\"Item Name\":\"Feral Katana\",\"Price\":2.19},{\"SN\":\"Lisistaya47\",\"Age\":7,\"Gender\":\"Male\",\"Item ID\":121,\"Item Name\":\"Massacre\",\"Price\":3.42},{\"SN\":\"Chamadar27\",\"Age\":40,\"Gender\":\"Female\",\"Item ID\":49,\"Item Name\":\"The Oculus, Token of Lost Worlds\",\"Price\":4.23},{\"SN\":\"Ethruard50\",\"Age\":24,\"Gender\":\"Female\",\"Item ID\":58,\"Item Name\":\"Freak's Bite, Favor of Holy Might\",\"Price\":3.03},{\"SN\":\"Lisossa63\",\"Age\":24,\"Gender\":\"Male\",\"Item ID\":121,\"Item Name\":\"Massacre\",\"Price\":3.42},{\"SN\":\"Yathecal72\",\"Age\":32,\"Gender\":\"Male\",\"Item ID\":135,\"Item Name\":\"Warped Diamond Crusader\",\"Price\":4.66},{\"SN\":\"Ilimya66\",\"Age\":27,\"Gender\":\"Female\",\"Item ID\":182,\"Item Name\":\"Toothpick\",\"Price\":3.48},{\"SN\":\"Ialistidru50\",\"Age\":21,\"Gender\":\"Male\",\"Item ID\":157,\"Item Name\":\"Spada, Etcher of Hatred\",\"Price\":2.21},{\"SN\":\"Tyaerith73\",\"Age\":21,\"Gender\":\"Other \\/ Non-Disclosed\",\"Item ID\":183,\"Item Name\":\"Dragon's Greatsword\",\"Price\":2.36},{\"SN\":\"Lisistasya93\",\"Age\":30,\"Gender\":\"Male\",\"Item ID\":8,\"Item Name\":\"Purgatory, Gem of Regret\",\"Price\":3.91},{\"SN\":\"Chamadar79\",\"Age\":20,\"Gender\":\"Male\",\"Item ID\":12,\"Item Name\":\"Dawne\",\"Price\":4.3},{\"SN\":\"Haerith37\",\"Age\":25,\"Gender\":\"Male\",\"Item ID\":23,\"Item Name\":\"Crucifer\",\"Price\":2.77},{\"SN\":\"Iallyphos37\",\"Age\":20,\"Gender\":\"Male\",\"Item ID\":40,\"Item Name\":\"Second Chance\",\"Price\":2.34},{\"SN\":\"Tyaelo67\",\"Age\":24,\"Gender\":\"Male\",\"Item ID\":15,\"Item Name\":\"Soul Infused Crystal\",\"Price\":1.03},{\"SN\":\"Ilogha82\",\"Age\":25,\"Gender\":\"Male\",\"Item ID\":115,\"Item Name\":\"Spectral Diamond Doomblade\",\"Price\":4.25},{\"SN\":\"Aeri84\",\"Age\":19,\"Gender\":\"Female\",\"Item ID\":115,\"Item Name\":\"Spectral Diamond Doomblade\",\"Price\":4.25},{\"SN\":\"Ilaesudil92\",\"Age\":22,\"Gender\":\"Male\",\"Item ID\":1,\"Item Name\":\"Crucifer\",\"Price\":2.28},{\"SN\":\"Meosridil82\",\"Age\":15,\"Gender\":\"Male\",\"Item ID\":149,\"Item Name\":\"Tranquility, Razor of Black Magic\",\"Price\":2.47},{\"SN\":\"Undirrasta89\",\"Age\":21,\"Gender\":\"Male\",\"Item ID\":1,\"Item Name\":\"Crucifer\",\"Price\":2.28},{\"SN\":\"Lirtistanya48\",\"Age\":27,\"Gender\":\"Male\",\"Item ID\":121,\"Item Name\":\"Massacre\",\"Price\":3.42},{\"SN\":\"Iadueria43\",\"Age\":22,\"Gender\":\"Male\",\"Item ID\":17,\"Item Name\":\"Lazarus, Terror of the Earth\",\"Price\":3.47},{\"SN\":\"Chanirrala39\",\"Age\":24,\"Gender\":\"Male\",\"Item ID\":154,\"Item Name\":\"Feral Katana\",\"Price\":2.19},{\"SN\":\"Lisjaskan36\",\"Age\":25,\"Gender\":\"Female\",\"Item ID\":97,\"Item Name\":\"Swan Song, Gouger Of Terror\",\"Price\":3.58},{\"SN\":\"Saedue76\",\"Age\":25,\"Gender\":\"Male\",\"Item ID\":13,\"Item Name\":\"Serenity\",\"Price\":1.49},{\"SN\":\"Undjasksya56\",\"Age\":9,\"Gender\":\"Male\",\"Item ID\":99,\"Item Name\":\"Expiration, Warscythe Of Lost Worlds\",\"Price\":4.53},{\"SN\":\"Irithrap69\",\"Age\":24,\"Gender\":\"Male\",\"Item ID\":46,\"Item Name\":\"Hopeless Ebon Dualblade\",\"Price\":4.75},{\"SN\":\"Quanenrian83\",\"Age\":21,\"Gender\":\"Male\",\"Item ID\":29,\"Item Name\":\"Chaos, Ender of the End\",\"Price\":3.79},{\"SN\":\"Phenastya51\",\"Age\":18,\"Gender\":\"Male\",\"Item ID\":137,\"Item Name\":\"Aetherius, Boon of the Blessed\",\"Price\":4.75},{\"SN\":\"Marassaya49\",\"Age\":45,\"Gender\":\"Male\",\"Item ID\":124,\"Item Name\":\"Venom Claymore\",\"Price\":2.72},{\"SN\":\"Saellyra72\",\"Age\":24,\"Gender\":\"Male\",\"Item ID\":8,\"Item Name\":\"Purgatory, Gem of Regret\",\"Price\":3.91},{\"SN\":\"Yasrisu92\",\"Age\":39,\"Gender\":\"Female\",\"Item ID\":143,\"Item Name\":\"Frenzied Scimitar\",\"Price\":2.6},{\"SN\":\"Frichistasta59\",\"Age\":33,\"Gender\":\"Other \\/ Non-Disclosed\",\"Item ID\":65,\"Item Name\":\"Conqueror Adamantite Mace\",\"Price\":1.96},{\"SN\":\"Qilanrion65\",\"Age\":15,\"Gender\":\"Male\",\"Item ID\":36,\"Item Name\":\"Spectral Bone Axe\",\"Price\":2.98},{\"SN\":\"Chanassa48\",\"Age\":37,\"Gender\":\"Male\",\"Item ID\":72,\"Item Name\":\"Winter's Bite\",\"Price\":1.39},{\"SN\":\"Iskassa50\",\"Age\":29,\"Gender\":\"Male\",\"Item ID\":114,\"Item Name\":\"Yearning Mageblade\",\"Price\":1.79},{\"SN\":\"Frichjaskan98\",\"Age\":7,\"Gender\":\"Male\",\"Item ID\":77,\"Item Name\":\"Piety, Guardian of Riddles\",\"Price\":3.68},{\"SN\":\"Sirira97\",\"Age\":25,\"Gender\":\"Male\",\"Item ID\":117,\"Item Name\":\"Heartstriker, Legacy of the Light\",\"Price\":4.15},{\"SN\":\"Eoduenurin62\",\"Age\":25,\"Gender\":\"Male\",\"Item ID\":13,\"Item Name\":\"Serenity\",\"Price\":1.49},{\"SN\":\"Yarirarn35\",\"Age\":20,\"Gender\":\"Male\",\"Item ID\":79,\"Item Name\":\"Alpha, Oath of Zeal\",\"Price\":2.88},{\"SN\":\"Yadanun74\",\"Age\":25,\"Gender\":\"Male\",\"Item ID\":107,\"Item Name\":\"Splitter, Foe Of Subtlety\",\"Price\":3.61},{\"SN\":\"Aillycal84\",\"Age\":12,\"Gender\":\"Other \\/ Non-Disclosed\",\"Item ID\":128,\"Item Name\":\"Blazeguard, Reach of Eternity\",\"Price\":4.0},{\"SN\":\"Eosur70\",\"Age\":22,\"Gender\":\"Male\",\"Item ID\":128,\"Item Name\":\"Blazeguard, Reach of Eternity\",\"Price\":4.0},{\"SN\":\"Chanadar44\",\"Age\":29,\"Gender\":\"Male\",\"Item ID\":107,\"Item Name\":\"Splitter, Foe Of Subtlety\",\"Price\":3.61},{\"SN\":\"Lisimsda29\",\"Age\":20,\"Gender\":\"Male\",\"Item ID\":171,\"Item Name\":\"Scalpel\",\"Price\":3.62},{\"SN\":\"Tyidue95\",\"Age\":23,\"Gender\":\"Male\",\"Item ID\":85,\"Item Name\":\"Malificent Bag\",\"Price\":2.17},{\"SN\":\"Yaralnura48\",\"Age\":40,\"Gender\":\"Male\",\"Item ID\":47,\"Item Name\":\"Alpha, Reach of Ending Hope\",\"Price\":1.55},{\"SN\":\"Irillo49\",\"Age\":29,\"Gender\":\"Male\",\"Item ID\":48,\"Item Name\":\"Rage, Legacy of the Lone Victor\",\"Price\":4.32},{\"SN\":\"Isri59\",\"Age\":35,\"Gender\":\"Male\",\"Item ID\":73,\"Item Name\":\"Ritual Mace\",\"Price\":3.74},{\"SN\":\"Lisjaskan36\",\"Age\":25,\"Gender\":\"Female\",\"Item ID\":88,\"Item Name\":\"Emberling, Defender of Delusions\",\"Price\":4.1},{\"SN\":\"Aiduecal76\",\"Age\":29,\"Gender\":\"Male\",\"Item ID\":78,\"Item Name\":\"Glimmer, Ender of the Moon\",\"Price\":2.33},{\"SN\":\"Frichosiala98\",\"Age\":25,\"Gender\":\"Male\",\"Item ID\":54,\"Item Name\":\"Eternal Cleaver\",\"Price\":3.14},{\"SN\":\"Deelilsasya30\",\"Age\":23,\"Gender\":\"Male\",\"Item ID\":170,\"Item Name\":\"Shadowsteel\",\"Price\":1.98},{\"SN\":\"Mindilsa60\",\"Age\":23,\"Gender\":\"Male\",\"Item ID\":99,\"Item Name\":\"Expiration, Warscythe Of Lost Worlds\",\"Price\":4.53},{\"SN\":\"Iladarla40\",\"Age\":8,\"Gender\":\"Male\",\"Item ID\":79,\"Item Name\":\"Alpha, Oath of Zeal\",\"Price\":2.88},{\"SN\":\"Chrathybust28\",\"Age\":25,\"Gender\":\"Male\",\"Item ID\":104,\"Item Name\":\"Gladiator's Glaive\",\"Price\":1.36},{\"SN\":\"Yarithsurgue62\",\"Age\":7,\"Gender\":\"Male\",\"Item ID\":53,\"Item Name\":\"Vengeance Cleaver\",\"Price\":3.7},{\"SN\":\"Lisistaya47\",\"Age\":7,\"Gender\":\"Male\",\"Item ID\":121,\"Item Name\":\"Massacre\",\"Price\":3.42},{\"SN\":\"Mindossa76\",\"Age\":21,\"Gender\":\"Male\",\"Item ID\":95,\"Item Name\":\"Singed Onyx Warscythe\",\"Price\":1.03},{\"SN\":\"Assilsan72\",\"Age\":20,\"Gender\":\"Male\",\"Item ID\":64,\"Item Name\":\"Fusion Pummel\",\"Price\":3.58},{\"SN\":\"Frichosiala98\",\"Age\":25,\"Gender\":\"Male\",\"Item ID\":135,\"Item Name\":\"Warped Diamond Crusader\",\"Price\":4.66},{\"SN\":\"Assassa43\",\"Age\":22,\"Gender\":\"Male\",\"Item ID\":70,\"Item Name\":\"Hope's End\",\"Price\":3.89},{\"SN\":\"Yarolwen77\",\"Age\":24,\"Gender\":\"Male\",\"Item ID\":84,\"Item Name\":\"Arcane Gem\",\"Price\":2.23},{\"SN\":\"Faralcil63\",\"Age\":26,\"Gender\":\"Other \\/ Non-Disclosed\",\"Item ID\":141,\"Item Name\":\"Persuasion\",\"Price\":3.27},{\"SN\":\"Sondilsa40\",\"Age\":18,\"Gender\":\"Male\",\"Item ID\":119,\"Item Name\":\"Stormbringer, Dark Blade of Ending Misery\",\"Price\":2.32},{\"SN\":\"Lisossan98\",\"Age\":15,\"Gender\":\"Male\",\"Item ID\":99,\"Item Name\":\"Expiration, Warscythe Of Lost Worlds\",\"Price\":4.53},{\"SN\":\"Chadossa89\",\"Age\":22,\"Gender\":\"Male\",\"Item ID\":44,\"Item Name\":\"Bonecarvin Battle Axe\",\"Price\":2.46},{\"SN\":\"Eosrirgue62\",\"Age\":34,\"Gender\":\"Male\",\"Item ID\":183,\"Item Name\":\"Dragon's Greatsword\",\"Price\":2.36},{\"SN\":\"Lassilsa41\",\"Age\":27,\"Gender\":\"Female\",\"Item ID\":31,\"Item Name\":\"Trickster\",\"Price\":2.07},{\"SN\":\"Sondastan54\",\"Age\":31,\"Gender\":\"Male\",\"Item ID\":173,\"Item Name\":\"Stormfury Longsword\",\"Price\":4.83},{\"SN\":\"Filrion44\",\"Age\":22,\"Gender\":\"Male\",\"Item ID\":98,\"Item Name\":\"Deadline, Voice Of Subtlety\",\"Price\":3.62},{\"SN\":\"Lassassasda30\",\"Age\":15,\"Gender\":\"Male\",\"Item ID\":102,\"Item Name\":\"Avenger\",\"Price\":4.16},{\"SN\":\"Aidain51\",\"Age\":26,\"Gender\":\"Male\",\"Item ID\":180,\"Item Name\":\"Stormcaller\",\"Price\":2.78},{\"SN\":\"Aduephos78\",\"Age\":37,\"Gender\":\"Male\",\"Item ID\":79,\"Item Name\":\"Alpha, Oath of Zeal\",\"Price\":2.88},{\"SN\":\"Hainaria90\",\"Age\":21,\"Gender\":\"Male\",\"Item ID\":108,\"Item Name\":\"Extraction, Quickblade Of Trembling Hands\",\"Price\":3.39},{\"SN\":\"Eusri70\",\"Age\":30,\"Gender\":\"Male\",\"Item ID\":131,\"Item Name\":\"Fury\",\"Price\":4.82},{\"SN\":\"Raerithsti62\",\"Age\":18,\"Gender\":\"Male\",\"Item ID\":115,\"Item Name\":\"Spectral Diamond Doomblade\",\"Price\":4.25},{\"SN\":\"Aerithllora36\",\"Age\":29,\"Gender\":\"Male\",\"Item ID\":68,\"Item Name\":\"Storm-Weaver, Slayer of Inception\",\"Price\":2.49},{\"SN\":\"Reuthelis39\",\"Age\":20,\"Gender\":\"Female\",\"Item ID\":33,\"Item Name\":\"Curved Axe\",\"Price\":1.35},{\"SN\":\"Sundaststa26\",\"Age\":22,\"Gender\":\"Female\",\"Item ID\":145,\"Item Name\":\"Fiery Glass Crusader\",\"Price\":4.45},{\"SN\":\"Aelin32\",\"Age\":24,\"Gender\":\"Male\",\"Item ID\":54,\"Item Name\":\"Eternal Cleaver\",\"Price\":3.14},{\"SN\":\"Sundadarla27\",\"Age\":20,\"Gender\":\"Male\",\"Item ID\":12,\"Item Name\":\"Dawne\",\"Price\":4.3},{\"SN\":\"Aeliru63\",\"Age\":22,\"Gender\":\"Male\",\"Item ID\":173,\"Item Name\":\"Stormfury Longsword\",\"Price\":4.83},{\"SN\":\"Mindilsa60\",\"Age\":23,\"Gender\":\"Male\",\"Item ID\":60,\"Item Name\":\"Wolf\",\"Price\":1.84},{\"SN\":\"Lisista27\",\"Age\":42,\"Gender\":\"Male\",\"Item ID\":110,\"Item Name\":\"Suspension\",\"Price\":2.11},{\"SN\":\"Narirra38\",\"Age\":23,\"Gender\":\"Female\",\"Item ID\":76,\"Item Name\":\"Haunted Bronzed Bludgeon\",\"Price\":4.12},{\"SN\":\"Eustyria89\",\"Age\":18,\"Gender\":\"Male\",\"Item ID\":137,\"Item Name\":\"Aetherius, Boon of the Blessed\",\"Price\":4.75},{\"SN\":\"Phistym51\",\"Age\":22,\"Gender\":\"Male\",\"Item ID\":29,\"Item Name\":\"Chaos, Ender of the End\",\"Price\":3.79},{\"SN\":\"Salilis27\",\"Age\":23,\"Gender\":\"Female\",\"Item ID\":130,\"Item Name\":\"Alpha\",\"Price\":1.56},{\"SN\":\"Layjask75\",\"Age\":27,\"Gender\":\"Male\",\"Item ID\":102,\"Item Name\":\"Avenger\",\"Price\":4.16},{\"SN\":\"Tyaeristi78\",\"Age\":24,\"Gender\":\"Female\",\"Item ID\":47,\"Item Name\":\"Alpha, Reach of Ending Hope\",\"Price\":1.55},{\"SN\":\"Lirtyrdesta65\",\"Age\":19,\"Gender\":\"Male\",\"Item ID\":60,\"Item Name\":\"Wolf\",\"Price\":1.84},{\"SN\":\"Syalollorap93\",\"Age\":20,\"Gender\":\"Male\",\"Item ID\":7,\"Item Name\":\"Thorn, Satchel of Dark Souls\",\"Price\":4.51},{\"SN\":\"Assylla81\",\"Age\":22,\"Gender\":\"Male\",\"Item ID\":125,\"Item Name\":\"Whistling Mithril Warblade\",\"Price\":4.32},{\"SN\":\"Eurisuru25\",\"Age\":27,\"Gender\":\"Other \\/ Non-Disclosed\",\"Item ID\":61,\"Item Name\":\"Ragnarok\",\"Price\":3.97},{\"SN\":\"Narirra38\",\"Age\":23,\"Gender\":\"Female\",\"Item ID\":12,\"Item Name\":\"Dawne\",\"Price\":4.3},{\"SN\":\"Mindjasksya61\",\"Age\":20,\"Gender\":\"Male\",\"Item ID\":70,\"Item Name\":\"Hope's End\",\"Price\":3.89},{\"SN\":\"Eusri44\",\"Age\":21,\"Gender\":\"Male\",\"Item ID\":50,\"Item Name\":\"Dawn\",\"Price\":2.55},{\"SN\":\"Aeliru63\",\"Age\":22,\"Gender\":\"Male\",\"Item ID\":30,\"Item Name\":\"Stormcaller\",\"Price\":4.15},{\"SN\":\"Rarith48\",\"Age\":20,\"Gender\":\"Male\",\"Item ID\":15,\"Item Name\":\"Soul Infused Crystal\",\"Price\":1.03},{\"SN\":\"Yalaeria91\",\"Age\":16,\"Gender\":\"Male\",\"Item ID\":179,\"Item Name\":\"Wolf, Promise of the Moonwalker\",\"Price\":1.88},{\"SN\":\"Iskadarya95\",\"Age\":15,\"Gender\":\"Male\",\"Item ID\":173,\"Item Name\":\"Stormfury Longsword\",\"Price\":4.83},{\"SN\":\"Saedue76\",\"Age\":25,\"Gender\":\"Male\",\"Item ID\":140,\"Item Name\":\"Striker\",\"Price\":3.82},{\"SN\":\"Lisossanya98\",\"Age\":17,\"Gender\":\"Male\",\"Item ID\":84,\"Item Name\":\"Arcane Gem\",\"Price\":2.23},{\"SN\":\"Iarithdil76\",\"Age\":20,\"Gender\":\"Male\",\"Item ID\":57,\"Item Name\":\"Despair, Favor of Due Diligence\",\"Price\":3.81},{\"SN\":\"Chanosia60\",\"Age\":16,\"Gender\":\"Male\",\"Item ID\":169,\"Item Name\":\"Interrogator, Blood Blade of the Queen\",\"Price\":3.32},{\"SN\":\"Aeliriarin93\",\"Age\":20,\"Gender\":\"Male\",\"Item ID\":9,\"Item Name\":\"Thorn, Conqueror of the Corrupted\",\"Price\":2.04},{\"SN\":\"Raedalis34\",\"Age\":15,\"Gender\":\"Female\",\"Item ID\":50,\"Item Name\":\"Dawn\",\"Price\":2.55},{\"SN\":\"Meosridil82\",\"Age\":15,\"Gender\":\"Male\",\"Item ID\":33,\"Item Name\":\"Curved Axe\",\"Price\":1.35},{\"SN\":\"Sondossa55\",\"Age\":12,\"Gender\":\"Male\",\"Item ID\":66,\"Item Name\":\"Victor Iron Spikes\",\"Price\":3.55},{\"SN\":\"Iadueria43\",\"Age\":22,\"Gender\":\"Male\",\"Item ID\":15,\"Item Name\":\"Soul Infused Crystal\",\"Price\":1.03},{\"SN\":\"Lisico81\",\"Age\":17,\"Gender\":\"Male\",\"Item ID\":14,\"Item Name\":\"Possessed Core\",\"Price\":1.59},{\"SN\":\"Ialo60\",\"Age\":24,\"Gender\":\"Male\",\"Item ID\":146,\"Item Name\":\"Warped Iron Scimitar\",\"Price\":4.08},{\"SN\":\"Syathe73\",\"Age\":22,\"Gender\":\"Male\",\"Item ID\":177,\"Item Name\":\"Winterthorn, Defender of Shifting Worlds\",\"Price\":4.89},{\"SN\":\"Lisassa26\",\"Age\":33,\"Gender\":\"Male\",\"Item ID\":166,\"Item Name\":\"Thirsty Iron Reaver\",\"Price\":4.25},{\"SN\":\"Rasrirgue43\",\"Age\":21,\"Gender\":\"Male\",\"Item ID\":93,\"Item Name\":\"Apocalyptic Battlescythe\",\"Price\":3.91},{\"SN\":\"Aerillorin70\",\"Age\":25,\"Gender\":\"Male\",\"Item ID\":179,\"Item Name\":\"Wolf, Promise of the Moonwalker\",\"Price\":1.88},{\"SN\":\"Quelatarn54\",\"Age\":22,\"Gender\":\"Male\",\"Item ID\":56,\"Item Name\":\"Foul Titanium Battle Axe\",\"Price\":4.33},{\"SN\":\"Airithrin43\",\"Age\":31,\"Gender\":\"Female\",\"Item ID\":22,\"Item Name\":\"Amnesia\",\"Price\":3.57},{\"SN\":\"Mindirra92\",\"Age\":20,\"Gender\":\"Male\",\"Item ID\":84,\"Item Name\":\"Arcane Gem\",\"Price\":2.23},{\"SN\":\"Lisjasksda68\",\"Age\":26,\"Gender\":\"Female\",\"Item ID\":85,\"Item Name\":\"Malificent Bag\",\"Price\":2.17},{\"SN\":\"Aerithnuphos61\",\"Age\":25,\"Gender\":\"Male\",\"Item ID\":172,\"Item Name\":\"Blade of the Grave\",\"Price\":1.69},{\"SN\":\"Sundast29\",\"Age\":40,\"Gender\":\"Male\",\"Item ID\":65,\"Item Name\":\"Conqueror Adamantite Mace\",\"Price\":1.96},{\"SN\":\"Lirtosia72\",\"Age\":14,\"Gender\":\"Male\",\"Item ID\":87,\"Item Name\":\"Deluge, Edge of the West\",\"Price\":2.2},{\"SN\":\"Aeliriam77\",\"Age\":20,\"Gender\":\"Male\",\"Item ID\":32,\"Item Name\":\"Orenmir\",\"Price\":4.95},{\"SN\":\"Lisirra55\",\"Age\":7,\"Gender\":\"Female\",\"Item ID\":21,\"Item Name\":\"Souleater\",\"Price\":3.27},{\"SN\":\"Aeral97\",\"Age\":14,\"Gender\":\"Male\",\"Item ID\":39,\"Item Name\":\"Betrayal, Whisper of Grieving Widows\",\"Price\":2.35},{\"SN\":\"Lisosiast26\",\"Age\":36,\"Gender\":\"Male\",\"Item ID\":39,\"Item Name\":\"Betrayal, Whisper of Grieving Widows\",\"Price\":2.35},{\"SN\":\"Yathecal72\",\"Age\":32,\"Gender\":\"Male\",\"Item ID\":16,\"Item Name\":\"Restored Bauble\",\"Price\":3.11},{\"SN\":\"Lirtistasta79\",\"Age\":23,\"Gender\":\"Male\",\"Item ID\":31,\"Item Name\":\"Trickster\",\"Price\":2.07},{\"SN\":\"Lisadar44\",\"Age\":31,\"Gender\":\"Male\",\"Item ID\":67,\"Item Name\":\"Celeste, Incarnation of the Corrupted\",\"Price\":2.31},{\"SN\":\"Jiskossa51\",\"Age\":23,\"Gender\":\"Male\",\"Item ID\":133,\"Item Name\":\"Faith's Scimitar\",\"Price\":3.82},{\"SN\":\"Qilatie51\",\"Age\":20,\"Gender\":\"Male\",\"Item ID\":100,\"Item Name\":\"Blindscythe\",\"Price\":3.66},{\"SN\":\"Eusri70\",\"Age\":30,\"Gender\":\"Male\",\"Item ID\":153,\"Item Name\":\"Mercenary Sabre\",\"Price\":4.57},{\"SN\":\"Isurria36\",\"Age\":18,\"Gender\":\"Female\",\"Item ID\":118,\"Item Name\":\"Ghost Reaver, Longsword of Magic\",\"Price\":2.77},{\"SN\":\"Sundastnya66\",\"Age\":7,\"Gender\":\"Male\",\"Item ID\":151,\"Item Name\":\"Severance\",\"Price\":1.85},{\"SN\":\"Raesursurap33\",\"Age\":20,\"Gender\":\"Male\",\"Item ID\":81,\"Item Name\":\"Dreamkiss\",\"Price\":4.06},{\"SN\":\"Sondassasya91\",\"Age\":23,\"Gender\":\"Male\",\"Item ID\":94,\"Item Name\":\"Mourning Blade\",\"Price\":1.82},{\"SN\":\"Ermol76\",\"Age\":23,\"Gender\":\"Male\",\"Item ID\":114,\"Item Name\":\"Yearning Mageblade\",\"Price\":1.79},{\"SN\":\"Eosurdru76\",\"Age\":7,\"Gender\":\"Female\",\"Item ID\":77,\"Item Name\":\"Piety, Guardian of Riddles\",\"Price\":3.68},{\"SN\":\"Yadaisuir65\",\"Age\":22,\"Gender\":\"Male\",\"Item ID\":42,\"Item Name\":\"The Decapitator\",\"Price\":4.82},{\"SN\":\"Zhisrisu83\",\"Age\":17,\"Gender\":\"Male\",\"Item ID\":33,\"Item Name\":\"Curved Axe\",\"Price\":1.35},{\"SN\":\"Aduephos78\",\"Age\":37,\"Gender\":\"Male\",\"Item ID\":174,\"Item Name\":\"Primitive Blade\",\"Price\":2.46},{\"SN\":\"Sondassa68\",\"Age\":30,\"Gender\":\"Male\",\"Item ID\":69,\"Item Name\":\"Frenzy, Defender of the Harvest\",\"Price\":1.06},{\"SN\":\"Chamirraya83\",\"Age\":20,\"Gender\":\"Male\",\"Item ID\":141,\"Item Name\":\"Persuasion\",\"Price\":3.27},{\"SN\":\"Alaephos75\",\"Age\":22,\"Gender\":\"Male\",\"Item ID\":34,\"Item Name\":\"Retribution Axe\",\"Price\":4.14},{\"SN\":\"Haellysu29\",\"Age\":21,\"Gender\":\"Male\",\"Item ID\":166,\"Item Name\":\"Thirsty Iron Reaver\",\"Price\":4.25},{\"SN\":\"Yarithphos28\",\"Age\":25,\"Gender\":\"Male\",\"Item ID\":39,\"Item Name\":\"Betrayal, Whisper of Grieving Widows\",\"Price\":2.35},{\"SN\":\"Ingatcil75\",\"Age\":7,\"Gender\":\"Male\",\"Item ID\":66,\"Item Name\":\"Victor Iron Spikes\",\"Price\":3.55},{\"SN\":\"Eothe56\",\"Age\":30,\"Gender\":\"Male\",\"Item ID\":143,\"Item Name\":\"Frenzied Scimitar\",\"Price\":2.6},{\"SN\":\"Haerith37\",\"Age\":25,\"Gender\":\"Male\",\"Item ID\":158,\"Item Name\":\"Darkheart, Butcher of the Champion\",\"Price\":3.56},{\"SN\":\"Assithasta65\",\"Age\":23,\"Gender\":\"Male\",\"Item ID\":107,\"Item Name\":\"Splitter, Foe Of Subtlety\",\"Price\":3.61},{\"SN\":\"Ethruard50\",\"Age\":24,\"Gender\":\"Female\",\"Item ID\":51,\"Item Name\":\"Endbringer\",\"Price\":2.67},{\"SN\":\"Palurrian69\",\"Age\":15,\"Gender\":\"Male\",\"Item ID\":32,\"Item Name\":\"Orenmir\",\"Price\":4.95},{\"SN\":\"Iskistasda86\",\"Age\":37,\"Gender\":\"Male\",\"Item ID\":34,\"Item Name\":\"Retribution Axe\",\"Price\":4.14},{\"SN\":\"Tyaili86\",\"Age\":17,\"Gender\":\"Female\",\"Item ID\":86,\"Item Name\":\"Stormfury Lantern\",\"Price\":1.28},{\"SN\":\"Liawista80\",\"Age\":32,\"Gender\":\"Male\",\"Item ID\":141,\"Item Name\":\"Persuasion\",\"Price\":3.27},{\"SN\":\"Seosri62\",\"Age\":35,\"Gender\":\"Male\",\"Item ID\":159,\"Item Name\":\"Oathbreaker, Spellblade of Trials\",\"Price\":3.01},{\"SN\":\"Silinu63\",\"Age\":9,\"Gender\":\"Male\",\"Item ID\":16,\"Item Name\":\"Restored Bauble\",\"Price\":3.11},{\"SN\":\"Aela49\",\"Age\":25,\"Gender\":\"Male\",\"Item ID\":44,\"Item Name\":\"Bonecarvin Battle Axe\",\"Price\":2.46},{\"SN\":\"Assosiasta83\",\"Age\":20,\"Gender\":\"Male\",\"Item ID\":38,\"Item Name\":\"The Void, Vengeance of Dark Magic\",\"Price\":2.82},{\"SN\":\"Saelollop56\",\"Age\":40,\"Gender\":\"Female\",\"Item ID\":77,\"Item Name\":\"Piety, Guardian of Riddles\",\"Price\":3.68},{\"SN\":\"Saena74\",\"Age\":35,\"Gender\":\"Female\",\"Item ID\":108,\"Item Name\":\"Extraction, Quickblade Of Trembling Hands\",\"Price\":3.39},{\"SN\":\"Tyaelistidru84\",\"Age\":25,\"Gender\":\"Female\",\"Item ID\":96,\"Item Name\":\"Blood-Forged Skeletal Spine\",\"Price\":4.77},{\"SN\":\"Chamirrasya33\",\"Age\":20,\"Gender\":\"Male\",\"Item ID\":82,\"Item Name\":\"Nirvana\",\"Price\":1.11},{\"SN\":\"Smecherdi88\",\"Age\":15,\"Gender\":\"Male\",\"Item ID\":27,\"Item Name\":\"Riddle, Tribute of Ended Dreams\",\"Price\":3.96},{\"SN\":\"Leulaesti78\",\"Age\":17,\"Gender\":\"Male\",\"Item ID\":121,\"Item Name\":\"Massacre\",\"Price\":3.42},{\"SN\":\"Tyaenasti87\",\"Age\":8,\"Gender\":\"Male\",\"Item ID\":65,\"Item Name\":\"Conqueror Adamantite Mace\",\"Price\":1.96},{\"SN\":\"Sondassa48\",\"Age\":22,\"Gender\":\"Male\",\"Item ID\":113,\"Item Name\":\"Solitude's Reaver\",\"Price\":2.67},{\"SN\":\"Deural48\",\"Age\":11,\"Gender\":\"Female\",\"Item ID\":46,\"Item Name\":\"Hopeless Ebon Dualblade\",\"Price\":4.75},{\"SN\":\"Saistydru69\",\"Age\":22,\"Gender\":\"Male\",\"Item ID\":76,\"Item Name\":\"Haunted Bronzed Bludgeon\",\"Price\":4.12},{\"SN\":\"Chamosia29\",\"Age\":24,\"Gender\":\"Male\",\"Item ID\":39,\"Item Name\":\"Betrayal, Whisper of Grieving Widows\",\"Price\":2.35},{\"SN\":\"Saisrilis27\",\"Age\":21,\"Gender\":\"Male\",\"Item ID\":108,\"Item Name\":\"Extraction, Quickblade Of Trembling Hands\",\"Price\":3.39},{\"SN\":\"Indonmol95\",\"Age\":15,\"Gender\":\"Male\",\"Item ID\":106,\"Item Name\":\"Crying Steel Sickle\",\"Price\":2.29},{\"SN\":\"Fironon91\",\"Age\":20,\"Gender\":\"Female\",\"Item ID\":45,\"Item Name\":\"Glinting Glass Edge\",\"Price\":2.46},{\"SN\":\"Ryanara76\",\"Age\":23,\"Gender\":\"Male\",\"Item ID\":27,\"Item Name\":\"Riddle, Tribute of Ended Dreams\",\"Price\":3.96},{\"SN\":\"Saedue76\",\"Age\":25,\"Gender\":\"Male\",\"Item ID\":7,\"Item Name\":\"Thorn, Satchel of Dark Souls\",\"Price\":4.51},{\"SN\":\"Lirtossanya27\",\"Age\":24,\"Gender\":\"Female\",\"Item ID\":114,\"Item Name\":\"Yearning Mageblade\",\"Price\":1.79},{\"SN\":\"Sondadar26\",\"Age\":24,\"Gender\":\"Male\",\"Item ID\":34,\"Item Name\":\"Retribution Axe\",\"Price\":4.14},{\"SN\":\"Phalinun47\",\"Age\":15,\"Gender\":\"Male\",\"Item ID\":10,\"Item Name\":\"Sleepwalker\",\"Price\":1.73},{\"SN\":\"Chamistast30\",\"Age\":25,\"Gender\":\"Female\",\"Item ID\":92,\"Item Name\":\"Final Critic\",\"Price\":1.36},{\"SN\":\"Hiarideu73\",\"Age\":25,\"Gender\":\"Male\",\"Item ID\":84,\"Item Name\":\"Arcane Gem\",\"Price\":2.23},{\"SN\":\"Qilunan34\",\"Age\":16,\"Gender\":\"Male\",\"Item ID\":119,\"Item Name\":\"Stormbringer, Dark Blade of Ending Misery\",\"Price\":2.32},{\"SN\":\"Pharithdil38\",\"Age\":21,\"Gender\":\"Male\",\"Item ID\":66,\"Item Name\":\"Victor Iron Spikes\",\"Price\":3.55},{\"SN\":\"Tyeuladeu30\",\"Age\":25,\"Gender\":\"Female\",\"Item ID\":42,\"Item Name\":\"The Decapitator\",\"Price\":4.82},{\"SN\":\"Sondastan54\",\"Age\":31,\"Gender\":\"Male\",\"Item ID\":170,\"Item Name\":\"Shadowsteel\",\"Price\":1.98},{\"SN\":\"Ina92\",\"Age\":22,\"Gender\":\"Male\",\"Item ID\":150,\"Item Name\":\"Deathraze\",\"Price\":4.54},{\"SN\":\"Saida58\",\"Age\":24,\"Gender\":\"Male\",\"Item ID\":164,\"Item Name\":\"Exiled Doomblade\",\"Price\":1.92},{\"SN\":\"Aithelis62\",\"Age\":32,\"Gender\":\"Other \\/ Non-Disclosed\",\"Item ID\":29,\"Item Name\":\"Chaos, Ender of the End\",\"Price\":3.79},{\"SN\":\"Indcil77\",\"Age\":40,\"Gender\":\"Male\",\"Item ID\":139,\"Item Name\":\"Mercy, Katana of Dismay\",\"Price\":4.37},{\"SN\":\"Hallysucal81\",\"Age\":20,\"Gender\":\"Male\",\"Item ID\":14,\"Item Name\":\"Possessed Core\",\"Price\":1.59},{\"SN\":\"Tyeuduephos81\",\"Age\":15,\"Gender\":\"Male\",\"Item ID\":152,\"Item Name\":\"Darkheart\",\"Price\":3.15},{\"SN\":\"Heosrisuir72\",\"Age\":19,\"Gender\":\"Male\",\"Item ID\":131,\"Item Name\":\"Fury\",\"Price\":4.82},{\"SN\":\"Chadossa56\",\"Age\":37,\"Gender\":\"Female\",\"Item ID\":175,\"Item Name\":\"Woeful Adamantite Claymore\",\"Price\":1.24},{\"SN\":\"Hailaphos89\",\"Age\":20,\"Gender\":\"Male\",\"Item ID\":82,\"Item Name\":\"Nirvana\",\"Price\":1.11},{\"SN\":\"Lirtassa47\",\"Age\":27,\"Gender\":\"Male\",\"Item ID\":74,\"Item Name\":\"Yearning Crusher\",\"Price\":1.06},{\"SN\":\"Aduephos78\",\"Age\":37,\"Gender\":\"Male\",\"Item ID\":92,\"Item Name\":\"Final Critic\",\"Price\":1.36},{\"SN\":\"Sondilsa40\",\"Age\":18,\"Gender\":\"Male\",\"Item ID\":20,\"Item Name\":\"Netherbane\",\"Price\":1.48},{\"SN\":\"Ithesuphos68\",\"Age\":23,\"Gender\":\"Male\",\"Item ID\":180,\"Item Name\":\"Stormcaller\",\"Price\":2.78},{\"SN\":\"Eula35\",\"Age\":25,\"Gender\":\"Male\",\"Item ID\":98,\"Item Name\":\"Deadline, Voice Of Subtlety\",\"Price\":3.62},{\"SN\":\"Aina42\",\"Age\":27,\"Gender\":\"Female\",\"Item ID\":159,\"Item Name\":\"Oathbreaker, Spellblade of Trials\",\"Price\":3.01},{\"SN\":\"Ethrusuard41\",\"Age\":10,\"Gender\":\"Male\",\"Item ID\":131,\"Item Name\":\"Fury\",\"Price\":4.82},{\"SN\":\"Zhisrisu83\",\"Age\":17,\"Gender\":\"Male\",\"Item ID\":82,\"Item Name\":\"Nirvana\",\"Price\":1.11},{\"SN\":\"Isursti83\",\"Age\":24,\"Gender\":\"Male\",\"Item ID\":111,\"Item Name\":\"Misery's End\",\"Price\":2.91},{\"SN\":\"Chanirrasta87\",\"Age\":19,\"Gender\":\"Male\",\"Item ID\":41,\"Item Name\":\"Orbit\",\"Price\":1.16},{\"SN\":\"Stryanastip77\",\"Age\":21,\"Gender\":\"Male\",\"Item ID\":84,\"Item Name\":\"Arcane Gem\",\"Price\":2.23},{\"SN\":\"Ilirrasda54\",\"Age\":22,\"Gender\":\"Male\",\"Item ID\":107,\"Item Name\":\"Splitter, Foe Of Subtlety\",\"Price\":3.61},{\"SN\":\"Liri91\",\"Age\":7,\"Gender\":\"Male\",\"Item ID\":34,\"Item Name\":\"Retribution Axe\",\"Price\":4.14},{\"SN\":\"Undadar97\",\"Age\":25,\"Gender\":\"Male\",\"Item ID\":8,\"Item Name\":\"Purgatory, Gem of Regret\",\"Price\":3.91},{\"SN\":\"Ithergue48\",\"Age\":20,\"Gender\":\"Female\",\"Item ID\":179,\"Item Name\":\"Wolf, Promise of the Moonwalker\",\"Price\":1.88},{\"SN\":\"Saistyphos30\",\"Age\":32,\"Gender\":\"Female\",\"Item ID\":95,\"Item Name\":\"Singed Onyx Warscythe\",\"Price\":1.03},{\"SN\":\"Lisosianya62\",\"Age\":22,\"Gender\":\"Male\",\"Item ID\":47,\"Item Name\":\"Alpha, Reach of Ending Hope\",\"Price\":1.55},{\"SN\":\"Tyaelistidru84\",\"Age\":25,\"Gender\":\"Female\",\"Item ID\":6,\"Item Name\":\"Rusty Skull\",\"Price\":1.2},{\"SN\":\"Sausosia74\",\"Age\":25,\"Gender\":\"Male\",\"Item ID\":34,\"Item Name\":\"Retribution Axe\",\"Price\":4.14},{\"SN\":\"Frichosiala98\",\"Age\":25,\"Gender\":\"Male\",\"Item ID\":123,\"Item Name\":\"Twilight's Carver\",\"Price\":1.14},{\"SN\":\"Mindimnya67\",\"Age\":39,\"Gender\":\"Female\",\"Item ID\":140,\"Item Name\":\"Striker\",\"Price\":3.82},{\"SN\":\"Undistasta86\",\"Age\":12,\"Gender\":\"Male\",\"Item ID\":163,\"Item Name\":\"Thunderfury Scimitar\",\"Price\":3.02},{\"SN\":\"Lirtistasta79\",\"Age\":23,\"Gender\":\"Male\",\"Item ID\":172,\"Item Name\":\"Blade of the Grave\",\"Price\":1.69},{\"SN\":\"Alaesu91\",\"Age\":18,\"Gender\":\"Female\",\"Item ID\":95,\"Item Name\":\"Singed Onyx Warscythe\",\"Price\":1.03},{\"SN\":\"Jiskosiala43\",\"Age\":9,\"Gender\":\"Female\",\"Item ID\":100,\"Item Name\":\"Blindscythe\",\"Price\":3.66},{\"SN\":\"Heuralsti66\",\"Age\":30,\"Gender\":\"Male\",\"Item ID\":137,\"Item Name\":\"Aetherius, Boon of the Blessed\",\"Price\":4.75},{\"SN\":\"Umuard36\",\"Age\":23,\"Gender\":\"Female\",\"Item ID\":66,\"Item Name\":\"Victor Iron Spikes\",\"Price\":3.55},{\"SN\":\"Asur53\",\"Age\":29,\"Gender\":\"Male\",\"Item ID\":68,\"Item Name\":\"Storm-Weaver, Slayer of Inception\",\"Price\":2.49},{\"SN\":\"Jiskassa76\",\"Age\":25,\"Gender\":\"Male\",\"Item ID\":92,\"Item Name\":\"Final Critic\",\"Price\":1.36},{\"SN\":\"Thryallym62\",\"Age\":20,\"Gender\":\"Male\",\"Item ID\":124,\"Item Name\":\"Venom Claymore\",\"Price\":2.72},{\"SN\":\"Raesty92\",\"Age\":25,\"Gender\":\"Male\",\"Item ID\":5,\"Item Name\":\"Putrid Fan\",\"Price\":1.32},{\"SN\":\"Frichassala85\",\"Age\":21,\"Gender\":\"Male\",\"Item ID\":69,\"Item Name\":\"Frenzy, Defender of the Harvest\",\"Price\":1.06},{\"SN\":\"Chamilsan75\",\"Age\":24,\"Gender\":\"Female\",\"Item ID\":90,\"Item Name\":\"Betrayer\",\"Price\":1.67},{\"SN\":\"Ilosu82\",\"Age\":33,\"Gender\":\"Male\",\"Item ID\":38,\"Item Name\":\"The Void, Vengeance of Dark Magic\",\"Price\":2.82},{\"SN\":\"Mindimnya67\",\"Age\":39,\"Gender\":\"Female\",\"Item ID\":163,\"Item Name\":\"Thunderfury Scimitar\",\"Price\":3.02},{\"SN\":\"Pheodai94\",\"Age\":23,\"Gender\":\"Male\",\"Item ID\":20,\"Item Name\":\"Netherbane\",\"Price\":1.48},{\"SN\":\"Raerithsti62\",\"Age\":18,\"Gender\":\"Male\",\"Item ID\":11,\"Item Name\":\"Brimstone\",\"Price\":2.52},{\"SN\":\"Undirrasta74\",\"Age\":22,\"Gender\":\"Male\",\"Item ID\":41,\"Item Name\":\"Orbit\",\"Price\":1.16},{\"SN\":\"Hiasur92\",\"Age\":25,\"Gender\":\"Female\",\"Item ID\":103,\"Item Name\":\"Singed Scalpel\",\"Price\":4.87},{\"SN\":\"Tillyrin30\",\"Age\":20,\"Gender\":\"Male\",\"Item ID\":19,\"Item Name\":\"Pursuit, Cudgel of Necromancy\",\"Price\":3.98},{\"SN\":\"Riralsti91\",\"Age\":24,\"Gender\":\"Male\",\"Item ID\":134,\"Item Name\":\"Undead Crusader\",\"Price\":4.67},{\"SN\":\"Iasur80\",\"Age\":24,\"Gender\":\"Male\",\"Item ID\":103,\"Item Name\":\"Singed Scalpel\",\"Price\":4.87},{\"SN\":\"Eryon48\",\"Age\":15,\"Gender\":\"Female\",\"Item ID\":110,\"Item Name\":\"Suspension\",\"Price\":2.11},{\"SN\":\"Whaestysu86\",\"Age\":22,\"Gender\":\"Male\",\"Item ID\":146,\"Item Name\":\"Warped Iron Scimitar\",\"Price\":4.08},{\"SN\":\"Aiduesu83\",\"Age\":29,\"Gender\":\"Female\",\"Item ID\":35,\"Item Name\":\"Heartless Bone Dualblade\",\"Price\":2.63},{\"SN\":\"Iaralsuir44\",\"Age\":22,\"Gender\":\"Male\",\"Item ID\":105,\"Item Name\":\"Hailstorm Shadowsteel Scythe\",\"Price\":3.73},{\"SN\":\"Chanjask65\",\"Age\":36,\"Gender\":\"Male\",\"Item ID\":31,\"Item Name\":\"Trickster\",\"Price\":2.07},{\"SN\":\"Frichistast39\",\"Age\":25,\"Gender\":\"Male\",\"Item ID\":158,\"Item Name\":\"Darkheart, Butcher of the Champion\",\"Price\":3.56},{\"SN\":\"Yaralnura48\",\"Age\":40,\"Gender\":\"Male\",\"Item ID\":168,\"Item Name\":\"Sun Strike, Jaws of Twisted Visions\",\"Price\":2.64},{\"SN\":\"Isursti83\",\"Age\":24,\"Gender\":\"Male\",\"Item ID\":48,\"Item Name\":\"Rage, Legacy of the Lone Victor\",\"Price\":4.32},{\"SN\":\"Phairinum94\",\"Age\":17,\"Gender\":\"Male\",\"Item ID\":128,\"Item Name\":\"Blazeguard, Reach of Eternity\",\"Price\":4.0},{\"SN\":\"Ethralan59\",\"Age\":27,\"Gender\":\"Male\",\"Item ID\":151,\"Item Name\":\"Severance\",\"Price\":1.85},{\"SN\":\"Raelly43\",\"Age\":25,\"Gender\":\"Male\",\"Item ID\":165,\"Item Name\":\"Bone Crushing Silver Skewer\",\"Price\":3.37},{\"SN\":\"Lisassasta50\",\"Age\":33,\"Gender\":\"Female\",\"Item ID\":22,\"Item Name\":\"Amnesia\",\"Price\":3.57},{\"SN\":\"Chanastnya43\",\"Age\":25,\"Gender\":\"Female\",\"Item ID\":104,\"Item Name\":\"Gladiator's Glaive\",\"Price\":1.36},{\"SN\":\"Sondimla25\",\"Age\":23,\"Gender\":\"Male\",\"Item ID\":85,\"Item Name\":\"Malificent Bag\",\"Price\":2.17},{\"SN\":\"Chamilsala65\",\"Age\":24,\"Gender\":\"Male\",\"Item ID\":136,\"Item Name\":\"Ghastly Adamantite Protector\",\"Price\":3.3},{\"SN\":\"Idaria87\",\"Age\":30,\"Gender\":\"Male\",\"Item ID\":103,\"Item Name\":\"Singed Scalpel\",\"Price\":4.87},{\"SN\":\"Eoda93\",\"Age\":22,\"Gender\":\"Male\",\"Item ID\":76,\"Item Name\":\"Haunted Bronzed Bludgeon\",\"Price\":4.12},{\"SN\":\"Chanastst38\",\"Age\":27,\"Gender\":\"Male\",\"Item ID\":21,\"Item Name\":\"Souleater\",\"Price\":3.27},{\"SN\":\"Lamil79\",\"Age\":23,\"Gender\":\"Male\",\"Item ID\":40,\"Item Name\":\"Second Chance\",\"Price\":2.34},{\"SN\":\"Liri91\",\"Age\":7,\"Gender\":\"Male\",\"Item ID\":161,\"Item Name\":\"Devine\",\"Price\":1.45},{\"SN\":\"Qaronon57\",\"Age\":17,\"Gender\":\"Male\",\"Item ID\":22,\"Item Name\":\"Amnesia\",\"Price\":3.57},{\"SN\":\"Chadjask77\",\"Age\":36,\"Gender\":\"Male\",\"Item ID\":57,\"Item Name\":\"Despair, Favor of Due Diligence\",\"Price\":3.81},{\"SN\":\"Ethralista69\",\"Age\":20,\"Gender\":\"Male\",\"Item ID\":52,\"Item Name\":\"Hatred\",\"Price\":4.39},{\"SN\":\"Phaeduesurgue38\",\"Age\":23,\"Gender\":\"Male\",\"Item ID\":49,\"Item Name\":\"The Oculus, Token of Lost Worlds\",\"Price\":4.23},{\"SN\":\"Rathellorin54\",\"Age\":25,\"Gender\":\"Female\",\"Item ID\":95,\"Item Name\":\"Singed Onyx Warscythe\",\"Price\":1.03},{\"SN\":\"Filon68\",\"Age\":38,\"Gender\":\"Male\",\"Item ID\":40,\"Item Name\":\"Second Chance\",\"Price\":2.34},{\"SN\":\"Chamilsala65\",\"Age\":24,\"Gender\":\"Male\",\"Item ID\":160,\"Item Name\":\"Azurewrath\",\"Price\":2.22},{\"SN\":\"Assylla81\",\"Age\":22,\"Gender\":\"Male\",\"Item ID\":1,\"Item Name\":\"Crucifer\",\"Price\":2.28},{\"SN\":\"Ingonon91\",\"Age\":21,\"Gender\":\"Male\",\"Item ID\":79,\"Item Name\":\"Alpha, Oath of Zeal\",\"Price\":2.88},{\"SN\":\"Lisovynya38\",\"Age\":18,\"Gender\":\"Male\",\"Item ID\":144,\"Item Name\":\"Blood Infused Guardian\",\"Price\":2.86},{\"SN\":\"Assesi91\",\"Age\":25,\"Gender\":\"Male\",\"Item ID\":10,\"Item Name\":\"Sleepwalker\",\"Price\":1.73},{\"SN\":\"Aellyria80\",\"Age\":25,\"Gender\":\"Male\",\"Item ID\":125,\"Item Name\":\"Whistling Mithril Warblade\",\"Price\":4.32},{\"SN\":\"Aethedru70\",\"Age\":25,\"Gender\":\"Male\",\"Item ID\":176,\"Item Name\":\"Relentless Iron Skewer\",\"Price\":2.97},{\"SN\":\"Iladarla40\",\"Age\":8,\"Gender\":\"Male\",\"Item ID\":15,\"Item Name\":\"Soul Infused Crystal\",\"Price\":1.03},{\"SN\":\"Tyalaesu89\",\"Age\":29,\"Gender\":\"Male\",\"Item ID\":180,\"Item Name\":\"Stormcaller\",\"Price\":2.78},{\"SN\":\"Erudrion71\",\"Age\":16,\"Gender\":\"Male\",\"Item ID\":161,\"Item Name\":\"Devine\",\"Price\":1.45},{\"SN\":\"Tyisriphos58\",\"Age\":38,\"Gender\":\"Male\",\"Item ID\":181,\"Item Name\":\"Reaper's Toll\",\"Price\":4.56},{\"SN\":\"Iskista88\",\"Age\":28,\"Gender\":\"Male\",\"Item ID\":92,\"Item Name\":\"Final Critic\",\"Price\":1.36},{\"SN\":\"Seudaillorap38\",\"Age\":21,\"Gender\":\"Male\",\"Item ID\":133,\"Item Name\":\"Faith's Scimitar\",\"Price\":3.82},{\"SN\":\"Sondossa55\",\"Age\":12,\"Gender\":\"Male\",\"Item ID\":70,\"Item Name\":\"Hope's End\",\"Price\":3.89},{\"SN\":\"Tyirithnu40\",\"Age\":19,\"Gender\":\"Male\",\"Item ID\":108,\"Item Name\":\"Extraction, Quickblade Of Trembling Hands\",\"Price\":3.39},{\"SN\":\"Malista67\",\"Age\":13,\"Gender\":\"Male\",\"Item ID\":159,\"Item Name\":\"Oathbreaker, Spellblade of Trials\",\"Price\":3.01},{\"SN\":\"Ristydru66\",\"Age\":33,\"Gender\":\"Male\",\"Item ID\":120,\"Item Name\":\"Agatha\",\"Price\":1.91},{\"SN\":\"Yasriphos60\",\"Age\":40,\"Gender\":\"Male\",\"Item ID\":11,\"Item Name\":\"Brimstone\",\"Price\":2.52},{\"SN\":\"Phainasu47\",\"Age\":20,\"Gender\":\"Male\",\"Item ID\":111,\"Item Name\":\"Misery's End\",\"Price\":2.91},{\"SN\":\"Eural50\",\"Age\":22,\"Gender\":\"Male\",\"Item ID\":81,\"Item Name\":\"Dreamkiss\",\"Price\":4.06},{\"SN\":\"Mindassast27\",\"Age\":22,\"Gender\":\"Male\",\"Item ID\":31,\"Item Name\":\"Trickster\",\"Price\":2.07},{\"SN\":\"Iskossan49\",\"Age\":24,\"Gender\":\"Male\",\"Item ID\":62,\"Item Name\":\"Piece Maker\",\"Price\":4.36},{\"SN\":\"Qarrian82\",\"Age\":30,\"Gender\":\"Male\",\"Item ID\":145,\"Item Name\":\"Fiery Glass Crusader\",\"Price\":4.45},{\"SN\":\"Eulidru49\",\"Age\":16,\"Gender\":\"Female\",\"Item ID\":170,\"Item Name\":\"Shadowsteel\",\"Price\":1.98},{\"SN\":\"Inguard95\",\"Age\":38,\"Gender\":\"Male\",\"Item ID\":148,\"Item Name\":\"Warmonger, Gift of Suffering's End\",\"Price\":3.96},{\"SN\":\"Hiral75\",\"Age\":20,\"Gender\":\"Male\",\"Item ID\":161,\"Item Name\":\"Devine\",\"Price\":1.45},{\"SN\":\"Undast38\",\"Age\":16,\"Gender\":\"Male\",\"Item ID\":162,\"Item Name\":\"Abyssal Shard\",\"Price\":2.04},{\"SN\":\"Chadjask77\",\"Age\":36,\"Gender\":\"Male\",\"Item ID\":182,\"Item Name\":\"Toothpick\",\"Price\":3.48},{\"SN\":\"Marim28\",\"Age\":17,\"Gender\":\"Female\",\"Item ID\":143,\"Item Name\":\"Frenzied Scimitar\",\"Price\":2.6},{\"SN\":\"Yasriphos60\",\"Age\":40,\"Gender\":\"Male\",\"Item ID\":55,\"Item Name\":\"Vindictive Glass Edge\",\"Price\":4.26},{\"SN\":\"Ialistidru50\",\"Age\":21,\"Gender\":\"Male\",\"Item ID\":22,\"Item Name\":\"Amnesia\",\"Price\":3.57},{\"SN\":\"Aelalis34\",\"Age\":38,\"Gender\":\"Male\",\"Item ID\":172,\"Item Name\":\"Blade of the Grave\",\"Price\":1.69},{\"SN\":\"Airal46\",\"Age\":35,\"Gender\":\"Male\",\"Item ID\":113,\"Item Name\":\"Solitude's Reaver\",\"Price\":2.67},{\"SN\":\"Lirtosia72\",\"Age\":14,\"Gender\":\"Male\",\"Item ID\":80,\"Item Name\":\"Dreamsong\",\"Price\":3.81},{\"SN\":\"Assassasta79\",\"Age\":17,\"Gender\":\"Female\",\"Item ID\":177,\"Item Name\":\"Winterthorn, Defender of Shifting Worlds\",\"Price\":4.89},{\"SN\":\"Saerallora71\",\"Age\":21,\"Gender\":\"Male\",\"Item ID\":183,\"Item Name\":\"Dragon's Greatsword\",\"Price\":2.36},{\"SN\":\"Frichossast86\",\"Age\":24,\"Gender\":\"Male\",\"Item ID\":98,\"Item Name\":\"Deadline, Voice Of Subtlety\",\"Price\":3.62},{\"SN\":\"Undirra73\",\"Age\":23,\"Gender\":\"Female\",\"Item ID\":30,\"Item Name\":\"Stormcaller\",\"Price\":4.15},{\"SN\":\"Chanastsda67\",\"Age\":15,\"Gender\":\"Male\",\"Item ID\":145,\"Item Name\":\"Fiery Glass Crusader\",\"Price\":4.45},{\"SN\":\"Undirrala66\",\"Age\":29,\"Gender\":\"Male\",\"Item ID\":18,\"Item Name\":\"Torchlight, Bond of Storms\",\"Price\":1.77},{\"SN\":\"Lirtosia72\",\"Age\":14,\"Gender\":\"Male\",\"Item ID\":183,\"Item Name\":\"Dragon's Greatsword\",\"Price\":2.36},{\"SN\":\"Phaestycal84\",\"Age\":31,\"Gender\":\"Male\",\"Item ID\":171,\"Item Name\":\"Scalpel\",\"Price\":3.62},{\"SN\":\"Malunil62\",\"Age\":19,\"Gender\":\"Male\",\"Item ID\":153,\"Item Name\":\"Mercenary Sabre\",\"Price\":4.57},{\"SN\":\"Eosursurap97\",\"Age\":20,\"Gender\":\"Male\",\"Item ID\":84,\"Item Name\":\"Arcane Gem\",\"Price\":2.23},{\"SN\":\"Iaralrgue74\",\"Age\":15,\"Gender\":\"Male\",\"Item ID\":153,\"Item Name\":\"Mercenary Sabre\",\"Price\":4.57},{\"SN\":\"Seolollo93\",\"Age\":15,\"Gender\":\"Male\",\"Item ID\":8,\"Item Name\":\"Purgatory, Gem of Regret\",\"Price\":3.91},{\"SN\":\"Ililsan66\",\"Age\":18,\"Gender\":\"Male\",\"Item ID\":15,\"Item Name\":\"Soul Infused Crystal\",\"Price\":1.03},{\"SN\":\"Yasriphos60\",\"Age\":40,\"Gender\":\"Male\",\"Item ID\":171,\"Item Name\":\"Scalpel\",\"Price\":3.62},{\"SN\":\"Iskosia51\",\"Age\":15,\"Gender\":\"Male\",\"Item ID\":154,\"Item Name\":\"Feral Katana\",\"Price\":2.19},{\"SN\":\"Isurria36\",\"Age\":18,\"Gender\":\"Female\",\"Item ID\":171,\"Item Name\":\"Scalpel\",\"Price\":3.62},{\"SN\":\"Asur53\",\"Age\":29,\"Gender\":\"Male\",\"Item ID\":129,\"Item Name\":\"Fate, Vengeance of Eternal Justice\",\"Price\":1.55},{\"SN\":\"Aesur96\",\"Age\":34,\"Gender\":\"Male\",\"Item ID\":135,\"Item Name\":\"Warped Diamond Crusader\",\"Price\":4.66},{\"SN\":\"Iskosian40\",\"Age\":23,\"Gender\":\"Male\",\"Item ID\":108,\"Item Name\":\"Extraction, Quickblade Of Trembling Hands\",\"Price\":3.39},{\"SN\":\"Ililsa62\",\"Age\":20,\"Gender\":\"Male\",\"Item ID\":100,\"Item Name\":\"Blindscythe\",\"Price\":3.66},{\"SN\":\"Aillyriadru65\",\"Age\":23,\"Gender\":\"Male\",\"Item ID\":60,\"Item Name\":\"Wolf\",\"Price\":1.84},{\"SN\":\"Lisassa49\",\"Age\":24,\"Gender\":\"Female\",\"Item ID\":110,\"Item Name\":\"Suspension\",\"Price\":2.11},{\"SN\":\"Lisistaya47\",\"Age\":7,\"Gender\":\"Male\",\"Item ID\":39,\"Item Name\":\"Betrayal, Whisper of Grieving Widows\",\"Price\":2.35},{\"SN\":\"Ialidru40\",\"Age\":19,\"Gender\":\"Male\",\"Item ID\":175,\"Item Name\":\"Woeful Adamantite Claymore\",\"Price\":1.24},{\"SN\":\"Sondim43\",\"Age\":20,\"Gender\":\"Male\",\"Item ID\":35,\"Item Name\":\"Heartless Bone Dualblade\",\"Price\":2.63},{\"SN\":\"Iskimnya76\",\"Age\":24,\"Gender\":\"Male\",\"Item ID\":30,\"Item Name\":\"Stormcaller\",\"Price\":4.15},{\"SN\":\"Aethe80\",\"Age\":22,\"Gender\":\"Male\",\"Item ID\":119,\"Item Name\":\"Stormbringer, Dark Blade of Ending Misery\",\"Price\":2.32},{\"SN\":\"Rathellorin54\",\"Age\":25,\"Gender\":\"Female\",\"Item ID\":65,\"Item Name\":\"Conqueror Adamantite Mace\",\"Price\":1.96},{\"SN\":\"Chanadar44\",\"Age\":29,\"Gender\":\"Male\",\"Item ID\":64,\"Item Name\":\"Fusion Pummel\",\"Price\":3.58},{\"SN\":\"Eudasu82\",\"Age\":33,\"Gender\":\"Male\",\"Item ID\":83,\"Item Name\":\"Lifebender\",\"Price\":3.51},{\"SN\":\"Lisirraya76\",\"Age\":19,\"Gender\":\"Male\",\"Item ID\":88,\"Item Name\":\"Emberling, Defender of Delusions\",\"Price\":4.1},{\"SN\":\"Lisossa25\",\"Age\":24,\"Gender\":\"Male\",\"Item ID\":26,\"Item Name\":\"Unholy Wand\",\"Price\":1.88},{\"SN\":\"Haedasu65\",\"Age\":20,\"Gender\":\"Male\",\"Item ID\":133,\"Item Name\":\"Faith's Scimitar\",\"Price\":3.82},{\"SN\":\"Iral74\",\"Age\":24,\"Gender\":\"Male\",\"Item ID\":97,\"Item Name\":\"Swan Song, Gouger Of Terror\",\"Price\":3.58},{\"SN\":\"Lisjaskya84\",\"Age\":20,\"Gender\":\"Male\",\"Item ID\":16,\"Item Name\":\"Restored Bauble\",\"Price\":3.11},{\"SN\":\"Saelaephos52\",\"Age\":20,\"Gender\":\"Male\",\"Item ID\":181,\"Item Name\":\"Reaper's Toll\",\"Price\":4.56},{\"SN\":\"Chamim85\",\"Age\":22,\"Gender\":\"Male\",\"Item ID\":76,\"Item Name\":\"Haunted Bronzed Bludgeon\",\"Price\":4.12},{\"SN\":\"Chamadar61\",\"Age\":21,\"Gender\":\"Male\",\"Item ID\":154,\"Item Name\":\"Feral Katana\",\"Price\":2.19},{\"SN\":\"Lirtista72\",\"Age\":23,\"Gender\":\"Male\",\"Item ID\":142,\"Item Name\":\"Righteous Might\",\"Price\":4.36},{\"SN\":\"Seudanu38\",\"Age\":17,\"Gender\":\"Male\",\"Item ID\":113,\"Item Name\":\"Solitude's Reaver\",\"Price\":2.67},{\"SN\":\"Lisossa63\",\"Age\":24,\"Gender\":\"Male\",\"Item ID\":92,\"Item Name\":\"Final Critic\",\"Price\":1.36},{\"SN\":\"Siathecal92\",\"Age\":22,\"Gender\":\"Male\",\"Item ID\":36,\"Item Name\":\"Spectral Bone Axe\",\"Price\":2.98},{\"SN\":\"Eullydru35\",\"Age\":7,\"Gender\":\"Male\",\"Item ID\":39,\"Item Name\":\"Betrayal, Whisper of Grieving Widows\",\"Price\":2.35},{\"SN\":\"Chamistast30\",\"Age\":25,\"Gender\":\"Female\",\"Item ID\":18,\"Item Name\":\"Torchlight, Bond of Storms\",\"Price\":1.77},{\"SN\":\"Isrirgue68\",\"Age\":24,\"Gender\":\"Male\",\"Item ID\":142,\"Item Name\":\"Righteous Might\",\"Price\":4.36},{\"SN\":\"Eurallo89\",\"Age\":20,\"Gender\":\"Female\",\"Item ID\":172,\"Item Name\":\"Blade of the Grave\",\"Price\":1.69},{\"SN\":\"Raithe71\",\"Age\":25,\"Gender\":\"Male\",\"Item ID\":107,\"Item Name\":\"Splitter, Foe Of Subtlety\",\"Price\":3.61},{\"SN\":\"Iskossaya95\",\"Age\":31,\"Gender\":\"Male\",\"Item ID\":151,\"Item Name\":\"Severance\",\"Price\":1.85},{\"SN\":\"Yathecal82\",\"Age\":23,\"Gender\":\"Male\",\"Item ID\":178,\"Item Name\":\"Oathbreaker, Last Hope of the Breaking Storm\",\"Price\":2.41},{\"SN\":\"Filrion44\",\"Age\":22,\"Gender\":\"Male\",\"Item ID\":68,\"Item Name\":\"Storm-Weaver, Slayer of Inception\",\"Price\":2.49},{\"SN\":\"Saralp86\",\"Age\":9,\"Gender\":\"Male\",\"Item ID\":26,\"Item Name\":\"Unholy Wand\",\"Price\":1.88},{\"SN\":\"Tyeuduen32\",\"Age\":22,\"Gender\":\"Male\",\"Item ID\":13,\"Item Name\":\"Serenity\",\"Price\":1.49},{\"SN\":\"Aina43\",\"Age\":21,\"Gender\":\"Female\",\"Item ID\":174,\"Item Name\":\"Primitive Blade\",\"Price\":2.46},{\"SN\":\"Undiwinya88\",\"Age\":15,\"Gender\":\"Male\",\"Item ID\":23,\"Item Name\":\"Crucifer\",\"Price\":2.77},{\"SN\":\"Silaera56\",\"Age\":29,\"Gender\":\"Male\",\"Item ID\":75,\"Item Name\":\"Brutality Ivory Warmace\",\"Price\":1.72},{\"SN\":\"Iskadarya95\",\"Age\":15,\"Gender\":\"Male\",\"Item ID\":27,\"Item Name\":\"Riddle, Tribute of Ended Dreams\",\"Price\":3.96},{\"SN\":\"Eoralphos86\",\"Age\":13,\"Gender\":\"Female\",\"Item ID\":26,\"Item Name\":\"Unholy Wand\",\"Price\":1.88},{\"SN\":\"Billysu76\",\"Age\":27,\"Gender\":\"Male\",\"Item ID\":144,\"Item Name\":\"Blood Infused Guardian\",\"Price\":2.86},{\"SN\":\"Seorithstilis90\",\"Age\":23,\"Gender\":\"Male\",\"Item ID\":152,\"Item Name\":\"Darkheart\",\"Price\":3.15},{\"SN\":\"Aidaira48\",\"Age\":30,\"Gender\":\"Male\",\"Item ID\":10,\"Item Name\":\"Sleepwalker\",\"Price\":1.73},{\"SN\":\"Mindimnya67\",\"Age\":39,\"Gender\":\"Female\",\"Item ID\":145,\"Item Name\":\"Fiery Glass Crusader\",\"Price\":4.45},{\"SN\":\"Euna48\",\"Age\":22,\"Gender\":\"Other \\/ Non-Disclosed\",\"Item ID\":115,\"Item Name\":\"Spectral Diamond Doomblade\",\"Price\":4.25},{\"SN\":\"Lisassasta50\",\"Age\":33,\"Gender\":\"Female\",\"Item ID\":163,\"Item Name\":\"Thunderfury Scimitar\",\"Price\":3.02},{\"SN\":\"Eusur90\",\"Age\":20,\"Gender\":\"Male\",\"Item ID\":30,\"Item Name\":\"Stormcaller\",\"Price\":4.15},{\"SN\":\"Undirrala66\",\"Age\":29,\"Gender\":\"Male\",\"Item ID\":133,\"Item Name\":\"Faith's Scimitar\",\"Price\":3.82},{\"SN\":\"Lamil70\",\"Age\":16,\"Gender\":\"Male\",\"Item ID\":13,\"Item Name\":\"Serenity\",\"Price\":1.49},{\"SN\":\"Chamadarnya73\",\"Age\":21,\"Gender\":\"Male\",\"Item ID\":12,\"Item Name\":\"Dawne\",\"Price\":4.3},{\"SN\":\"Ilast79\",\"Age\":20,\"Gender\":\"Female\",\"Item ID\":6,\"Item Name\":\"Rusty Skull\",\"Price\":1.2},{\"SN\":\"Sondilsa35\",\"Age\":22,\"Gender\":\"Male\",\"Item ID\":97,\"Item Name\":\"Swan Song, Gouger Of Terror\",\"Price\":3.58},{\"SN\":\"Ralonurin90\",\"Age\":26,\"Gender\":\"Male\",\"Item ID\":148,\"Item Name\":\"Warmonger, Gift of Suffering's End\",\"Price\":3.96},{\"SN\":\"Marundi65\",\"Age\":24,\"Gender\":\"Female\",\"Item ID\":71,\"Item Name\":\"Demise\",\"Price\":4.07},{\"SN\":\"Phaedan76\",\"Age\":20,\"Gender\":\"Male\",\"Item ID\":60,\"Item Name\":\"Wolf\",\"Price\":1.84},{\"SN\":\"Farenon57\",\"Age\":20,\"Gender\":\"Male\",\"Item ID\":18,\"Item Name\":\"Torchlight, Bond of Storms\",\"Price\":1.77},{\"SN\":\"Ilassa51\",\"Age\":20,\"Gender\":\"Male\",\"Item ID\":157,\"Item Name\":\"Spada, Etcher of Hatred\",\"Price\":2.21},{\"SN\":\"Lirtossa84\",\"Age\":20,\"Gender\":\"Male\",\"Item ID\":101,\"Item Name\":\"Final Critic\",\"Price\":4.62},{\"SN\":\"Airi27\",\"Age\":23,\"Gender\":\"Male\",\"Item ID\":38,\"Item Name\":\"The Void, Vengeance of Dark Magic\",\"Price\":2.82},{\"SN\":\"Indcil77\",\"Age\":40,\"Gender\":\"Male\",\"Item ID\":102,\"Item Name\":\"Avenger\",\"Price\":4.16},{\"SN\":\"Chamastya76\",\"Age\":20,\"Gender\":\"Male\",\"Item ID\":53,\"Item Name\":\"Vengeance Cleaver\",\"Price\":3.7},{\"SN\":\"Lassjask63\",\"Age\":7,\"Gender\":\"Male\",\"Item ID\":158,\"Item Name\":\"Darkheart, Butcher of the Champion\",\"Price\":3.56},{\"SN\":\"Heolo60\",\"Age\":22,\"Gender\":\"Male\",\"Item ID\":175,\"Item Name\":\"Woeful Adamantite Claymore\",\"Price\":1.24},{\"SN\":\"Isurria36\",\"Age\":18,\"Gender\":\"Female\",\"Item ID\":101,\"Item Name\":\"Final Critic\",\"Price\":4.62},{\"SN\":\"Lisossan98\",\"Age\":15,\"Gender\":\"Male\",\"Item ID\":153,\"Item Name\":\"Mercenary Sabre\",\"Price\":4.57},{\"SN\":\"Sondim43\",\"Age\":20,\"Gender\":\"Male\",\"Item ID\":19,\"Item Name\":\"Pursuit, Cudgel of Necromancy\",\"Price\":3.98},{\"SN\":\"Mindirra92\",\"Age\":20,\"Gender\":\"Male\",\"Item ID\":11,\"Item Name\":\"Brimstone\",\"Price\":2.52},{\"SN\":\"Reuthelis39\",\"Age\":20,\"Gender\":\"Female\",\"Item ID\":11,\"Item Name\":\"Brimstone\",\"Price\":2.52},{\"SN\":\"Thourdirra92\",\"Age\":18,\"Gender\":\"Male\",\"Item ID\":166,\"Item Name\":\"Thirsty Iron Reaver\",\"Price\":4.25},{\"SN\":\"Frichadar89\",\"Age\":25,\"Gender\":\"Male\",\"Item ID\":49,\"Item Name\":\"The Oculus, Token of Lost Worlds\",\"Price\":4.23},{\"SN\":\"Raesursurap33\",\"Age\":20,\"Gender\":\"Male\",\"Item ID\":123,\"Item Name\":\"Twilight's Carver\",\"Price\":1.14},{\"SN\":\"Jiskilsa35\",\"Age\":20,\"Gender\":\"Female\",\"Item ID\":80,\"Item Name\":\"Dreamsong\",\"Price\":3.81},{\"SN\":\"Philistirap41\",\"Age\":33,\"Gender\":\"Male\",\"Item ID\":172,\"Item Name\":\"Blade of the Grave\",\"Price\":1.69},{\"SN\":\"Tyidainu31\",\"Age\":20,\"Gender\":\"Male\",\"Item ID\":144,\"Item Name\":\"Blood Infused Guardian\",\"Price\":2.86},{\"SN\":\"Mindimnya67\",\"Age\":39,\"Gender\":\"Female\",\"Item ID\":161,\"Item Name\":\"Devine\",\"Price\":1.45},{\"SN\":\"Tridaira71\",\"Age\":37,\"Gender\":\"Female\",\"Item ID\":95,\"Item Name\":\"Singed Onyx Warscythe\",\"Price\":1.03},{\"SN\":\"Queusurra38\",\"Age\":23,\"Gender\":\"Male\",\"Item ID\":90,\"Item Name\":\"Betrayer\",\"Price\":1.67},{\"SN\":\"Mindadaran26\",\"Age\":20,\"Gender\":\"Male\",\"Item ID\":124,\"Item Name\":\"Venom Claymore\",\"Price\":2.72},{\"SN\":\"Lisassa39\",\"Age\":23,\"Gender\":\"Male\",\"Item ID\":130,\"Item Name\":\"Alpha\",\"Price\":1.56},{\"SN\":\"Alaesu77\",\"Age\":32,\"Gender\":\"Male\",\"Item ID\":78,\"Item Name\":\"Glimmer, Ender of the Moon\",\"Price\":2.33},{\"SN\":\"Ilogha82\",\"Age\":25,\"Gender\":\"Male\",\"Item ID\":142,\"Item Name\":\"Righteous Might\",\"Price\":4.36},{\"SN\":\"Pharithdil38\",\"Age\":21,\"Gender\":\"Male\",\"Item ID\":178,\"Item Name\":\"Oathbreaker, Last Hope of the Breaking Storm\",\"Price\":2.41},{\"SN\":\"Mindossasya74\",\"Age\":26,\"Gender\":\"Male\",\"Item ID\":85,\"Item Name\":\"Malificent Bag\",\"Price\":2.17},{\"SN\":\"Syadaillo88\",\"Age\":16,\"Gender\":\"Male\",\"Item ID\":22,\"Item Name\":\"Amnesia\",\"Price\":3.57},{\"SN\":\"Lassilsala30\",\"Age\":15,\"Gender\":\"Male\",\"Item ID\":127,\"Item Name\":\"Heartseeker, Reaver of Souls\",\"Price\":3.21},{\"SN\":\"Eusri26\",\"Age\":23,\"Gender\":\"Male\",\"Item ID\":111,\"Item Name\":\"Misery's End\",\"Price\":2.91},{\"SN\":\"Chanastsda67\",\"Age\":15,\"Gender\":\"Male\",\"Item ID\":67,\"Item Name\":\"Celeste, Incarnation of the Corrupted\",\"Price\":2.31},{\"SN\":\"Hilaerin92\",\"Age\":31,\"Gender\":\"Male\",\"Item ID\":40,\"Item Name\":\"Second Chance\",\"Price\":2.34},{\"SN\":\"Aeliriam77\",\"Age\":20,\"Gender\":\"Male\",\"Item ID\":18,\"Item Name\":\"Torchlight, Bond of Storms\",\"Price\":1.77},{\"SN\":\"Lirtossan50\",\"Age\":35,\"Gender\":\"Male\",\"Item ID\":83,\"Item Name\":\"Lifebender\",\"Price\":3.51},{\"SN\":\"Iskossan49\",\"Age\":24,\"Gender\":\"Male\",\"Item ID\":94,\"Item Name\":\"Mourning Blade\",\"Price\":1.82},{\"SN\":\"Sondim73\",\"Age\":16,\"Gender\":\"Male\",\"Item ID\":22,\"Item Name\":\"Amnesia\",\"Price\":3.57},{\"SN\":\"Assosia38\",\"Age\":16,\"Gender\":\"Male\",\"Item ID\":37,\"Item Name\":\"Shadow Strike, Glory of Ending Hope\",\"Price\":1.93},{\"SN\":\"Reula64\",\"Age\":16,\"Gender\":\"Male\",\"Item ID\":115,\"Item Name\":\"Spectral Diamond Doomblade\",\"Price\":4.25},{\"SN\":\"Tyeosri53\",\"Age\":31,\"Gender\":\"Male\",\"Item ID\":182,\"Item Name\":\"Toothpick\",\"Price\":3.48},{\"SN\":\"Raesurdil91\",\"Age\":43,\"Gender\":\"Male\",\"Item ID\":57,\"Item Name\":\"Despair, Favor of Due Diligence\",\"Price\":3.81},{\"SN\":\"Anallorgue57\",\"Age\":20,\"Gender\":\"Female\",\"Item ID\":103,\"Item Name\":\"Singed Scalpel\",\"Price\":4.87},{\"SN\":\"Idai61\",\"Age\":21,\"Gender\":\"Male\",\"Item ID\":78,\"Item Name\":\"Glimmer, Ender of the Moon\",\"Price\":2.33},{\"SN\":\"Aeduera68\",\"Age\":26,\"Gender\":\"Male\",\"Item ID\":156,\"Item Name\":\"Soul-Forged Steel Shortsword\",\"Price\":1.16},{\"SN\":\"Rithe53\",\"Age\":23,\"Gender\":\"Male\",\"Item ID\":92,\"Item Name\":\"Final Critic\",\"Price\":1.36},{\"SN\":\"Quinarap53\",\"Age\":21,\"Gender\":\"Male\",\"Item ID\":44,\"Item Name\":\"Bonecarvin Battle Axe\",\"Price\":2.46},{\"SN\":\"Haerithp41\",\"Age\":24,\"Gender\":\"Male\",\"Item ID\":109,\"Item Name\":\"Downfall, Scalpel Of The Emperor\",\"Price\":3.2},{\"SN\":\"Seuthelis34\",\"Age\":30,\"Gender\":\"Female\",\"Item ID\":79,\"Item Name\":\"Alpha, Oath of Zeal\",\"Price\":2.88},{\"SN\":\"Styaduen40\",\"Age\":21,\"Gender\":\"Female\",\"Item ID\":8,\"Item Name\":\"Purgatory, Gem of Regret\",\"Price\":3.91},{\"SN\":\"Ennoncil86\",\"Age\":32,\"Gender\":\"Male\",\"Item ID\":120,\"Item Name\":\"Agatha\",\"Price\":1.91},{\"SN\":\"Lassassasda30\",\"Age\":15,\"Gender\":\"Male\",\"Item ID\":120,\"Item Name\":\"Agatha\",\"Price\":1.91},{\"SN\":\"Tyeosri53\",\"Age\":31,\"Gender\":\"Male\",\"Item ID\":10,\"Item Name\":\"Sleepwalker\",\"Price\":1.73},{\"SN\":\"Ilaststa70\",\"Age\":10,\"Gender\":\"Female\",\"Item ID\":63,\"Item Name\":\"Stormfury Mace\",\"Price\":1.27},{\"SN\":\"Tyarithn67\",\"Age\":28,\"Gender\":\"Male\",\"Item ID\":32,\"Item Name\":\"Orenmir\",\"Price\":4.95},{\"SN\":\"Streural92\",\"Age\":13,\"Gender\":\"Male\",\"Item ID\":14,\"Item Name\":\"Possessed Core\",\"Price\":1.59},{\"SN\":\"Haellysu29\",\"Age\":21,\"Gender\":\"Male\",\"Item ID\":91,\"Item Name\":\"Celeste\",\"Price\":3.71},{\"SN\":\"Yadaisuir65\",\"Age\":22,\"Gender\":\"Male\",\"Item ID\":73,\"Item Name\":\"Ritual Mace\",\"Price\":3.74},{\"SN\":\"Aerithnucal56\",\"Age\":15,\"Gender\":\"Male\",\"Item ID\":172,\"Item Name\":\"Blade of the Grave\",\"Price\":1.69},{\"SN\":\"Sundjask71\",\"Age\":15,\"Gender\":\"Male\",\"Item ID\":77,\"Item Name\":\"Piety, Guardian of Riddles\",\"Price\":3.68},{\"SN\":\"Tyisriphos58\",\"Age\":38,\"Gender\":\"Male\",\"Item ID\":101,\"Item Name\":\"Final Critic\",\"Price\":4.62},{\"SN\":\"Sundaststa26\",\"Age\":22,\"Gender\":\"Female\",\"Item ID\":33,\"Item Name\":\"Curved Axe\",\"Price\":1.35},{\"SN\":\"Yalo71\",\"Age\":23,\"Gender\":\"Male\",\"Item ID\":24,\"Item Name\":\"Warped Fetish\",\"Price\":2.41},{\"SN\":\"Mindetosya30\",\"Age\":16,\"Gender\":\"Male\",\"Item ID\":67,\"Item Name\":\"Celeste, Incarnation of the Corrupted\",\"Price\":2.31},{\"SN\":\"Chanjaskan89\",\"Age\":23,\"Gender\":\"Male\",\"Item ID\":15,\"Item Name\":\"Soul Infused Crystal\",\"Price\":1.03},{\"SN\":\"Chadjask77\",\"Age\":36,\"Gender\":\"Male\",\"Item ID\":124,\"Item Name\":\"Venom Claymore\",\"Price\":2.72},{\"SN\":\"Lirtast83\",\"Age\":32,\"Gender\":\"Male\",\"Item ID\":66,\"Item Name\":\"Victor Iron Spikes\",\"Price\":3.55},{\"SN\":\"Ingatcil75\",\"Age\":7,\"Gender\":\"Male\",\"Item ID\":177,\"Item Name\":\"Winterthorn, Defender of Shifting Worlds\",\"Price\":4.89},{\"SN\":\"Lassassast73\",\"Age\":24,\"Gender\":\"Male\",\"Item ID\":61,\"Item Name\":\"Ragnarok\",\"Price\":3.97},{\"SN\":\"Strairisti57\",\"Age\":18,\"Gender\":\"Male\",\"Item ID\":157,\"Item Name\":\"Spada, Etcher of Hatred\",\"Price\":2.21},{\"SN\":\"Qarwen67\",\"Age\":11,\"Gender\":\"Male\",\"Item ID\":176,\"Item Name\":\"Relentless Iron Skewer\",\"Price\":2.97},{\"SN\":\"Filrion59\",\"Age\":35,\"Gender\":\"Male\",\"Item ID\":31,\"Item Name\":\"Trickster\",\"Price\":2.07},{\"SN\":\"Sondim43\",\"Age\":20,\"Gender\":\"Male\",\"Item ID\":118,\"Item Name\":\"Ghost Reaver, Longsword of Magic\",\"Price\":2.77},{\"SN\":\"Aellysup38\",\"Age\":25,\"Gender\":\"Male\",\"Item ID\":107,\"Item Name\":\"Splitter, Foe Of Subtlety\",\"Price\":3.61},{\"SN\":\"Hala31\",\"Age\":38,\"Gender\":\"Male\",\"Item ID\":75,\"Item Name\":\"Brutality Ivory Warmace\",\"Price\":1.72},{\"SN\":\"Rithe77\",\"Age\":26,\"Gender\":\"Female\",\"Item ID\":65,\"Item Name\":\"Conqueror Adamantite Mace\",\"Price\":1.96},{\"SN\":\"Marirrasta50\",\"Age\":19,\"Gender\":\"Male\",\"Item ID\":159,\"Item Name\":\"Oathbreaker, Spellblade of Trials\",\"Price\":3.01},{\"SN\":\"Chanosiast43\",\"Age\":13,\"Gender\":\"Female\",\"Item ID\":18,\"Item Name\":\"Torchlight, Bond of Storms\",\"Price\":1.77},{\"SN\":\"Sundim98\",\"Age\":20,\"Gender\":\"Female\",\"Item ID\":100,\"Item Name\":\"Blindscythe\",\"Price\":3.66},{\"SN\":\"Frichaya88\",\"Age\":30,\"Gender\":\"Male\",\"Item ID\":83,\"Item Name\":\"Lifebender\",\"Price\":3.51},{\"SN\":\"Lirtassa47\",\"Age\":27,\"Gender\":\"Male\",\"Item ID\":25,\"Item Name\":\"Hero Cane\",\"Price\":1.03},{\"SN\":\"Iathenudil29\",\"Age\":29,\"Gender\":\"Female\",\"Item ID\":130,\"Item Name\":\"Alpha\",\"Price\":1.56},{\"SN\":\"Lisirra55\",\"Age\":7,\"Gender\":\"Female\",\"Item ID\":11,\"Item Name\":\"Brimstone\",\"Price\":2.52},{\"SN\":\"Yarolwen77\",\"Age\":24,\"Gender\":\"Male\",\"Item ID\":46,\"Item Name\":\"Hopeless Ebon Dualblade\",\"Price\":4.75},{\"SN\":\"Crausirra42\",\"Age\":15,\"Gender\":\"Female\",\"Item ID\":112,\"Item Name\":\"Worldbreaker\",\"Price\":3.29},{\"SN\":\"Frichast72\",\"Age\":23,\"Gender\":\"Male\",\"Item ID\":87,\"Item Name\":\"Deluge, Edge of the West\",\"Price\":2.2},{\"SN\":\"Eulidru49\",\"Age\":16,\"Gender\":\"Female\",\"Item ID\":33,\"Item Name\":\"Curved Axe\",\"Price\":1.35},{\"SN\":\"Aidain51\",\"Age\":26,\"Gender\":\"Male\",\"Item ID\":81,\"Item Name\":\"Dreamkiss\",\"Price\":4.06},{\"SN\":\"Sida61\",\"Age\":24,\"Gender\":\"Male\",\"Item ID\":40,\"Item Name\":\"Second Chance\",\"Price\":2.34},{\"SN\":\"Chamjasknya65\",\"Age\":20,\"Gender\":\"Male\",\"Item ID\":23,\"Item Name\":\"Crucifer\",\"Price\":2.77},{\"SN\":\"Iri67\",\"Age\":15,\"Gender\":\"Male\",\"Item ID\":128,\"Item Name\":\"Blazeguard, Reach of Eternity\",\"Price\":4.0},{\"SN\":\"Ririp86\",\"Age\":20,\"Gender\":\"Female\",\"Item ID\":91,\"Item Name\":\"Celeste\",\"Price\":3.71},{\"SN\":\"Chadossa56\",\"Age\":37,\"Gender\":\"Female\",\"Item ID\":117,\"Item Name\":\"Heartstriker, Legacy of the Light\",\"Price\":4.15},{\"SN\":\"Chanjaskan89\",\"Age\":23,\"Gender\":\"Male\",\"Item ID\":26,\"Item Name\":\"Unholy Wand\",\"Price\":1.88},{\"SN\":\"Jiskimsda56\",\"Age\":21,\"Gender\":\"Male\",\"Item ID\":93,\"Item Name\":\"Apocalyptic Battlescythe\",\"Price\":3.91},{\"SN\":\"Assistast50\",\"Age\":19,\"Gender\":\"Male\",\"Item ID\":66,\"Item Name\":\"Victor Iron Spikes\",\"Price\":3.55},{\"SN\":\"Euliria52\",\"Age\":16,\"Gender\":\"Male\",\"Item ID\":162,\"Item Name\":\"Abyssal Shard\",\"Price\":2.04},{\"SN\":\"Aerithriaphos45\",\"Age\":16,\"Gender\":\"Male\",\"Item ID\":43,\"Item Name\":\"Foul Edge\",\"Price\":2.38},{\"SN\":\"Ila44\",\"Age\":15,\"Gender\":\"Male\",\"Item ID\":170,\"Item Name\":\"Shadowsteel\",\"Price\":1.98},{\"SN\":\"Sida61\",\"Age\":24,\"Gender\":\"Male\",\"Item ID\":128,\"Item Name\":\"Blazeguard, Reach of Eternity\",\"Price\":4.0},{\"SN\":\"Phyali88\",\"Age\":38,\"Gender\":\"Male\",\"Item ID\":106,\"Item Name\":\"Crying Steel Sickle\",\"Price\":2.29},{\"SN\":\"Iskossa88\",\"Age\":30,\"Gender\":\"Male\",\"Item ID\":72,\"Item Name\":\"Winter's Bite\",\"Price\":1.39},{\"SN\":\"Aeral85\",\"Age\":25,\"Gender\":\"Male\",\"Item ID\":115,\"Item Name\":\"Spectral Diamond Doomblade\",\"Price\":4.25},{\"SN\":\"Rinallorap73\",\"Age\":24,\"Gender\":\"Male\",\"Item ID\":61,\"Item Name\":\"Ragnarok\",\"Price\":3.97},{\"SN\":\"Chanjask65\",\"Age\":36,\"Gender\":\"Male\",\"Item ID\":5,\"Item Name\":\"Putrid Fan\",\"Price\":1.32},{\"SN\":\"Saedue76\",\"Age\":25,\"Gender\":\"Male\",\"Item ID\":73,\"Item Name\":\"Ritual Mace\",\"Price\":3.74},{\"SN\":\"Assassa38\",\"Age\":34,\"Gender\":\"Other \\/ Non-Disclosed\",\"Item ID\":179,\"Item Name\":\"Wolf, Promise of the Moonwalker\",\"Price\":1.88},{\"SN\":\"Tyaelorgue39\",\"Age\":27,\"Gender\":\"Female\",\"Item ID\":67,\"Item Name\":\"Celeste, Incarnation of the Corrupted\",\"Price\":2.31},{\"SN\":\"Tyananurgue44\",\"Age\":22,\"Gender\":\"Male\",\"Item ID\":84,\"Item Name\":\"Arcane Gem\",\"Price\":2.23},{\"SN\":\"Isketo41\",\"Age\":13,\"Gender\":\"Male\",\"Item ID\":5,\"Item Name\":\"Putrid Fan\",\"Price\":1.32},{\"SN\":\"Sundast87\",\"Age\":21,\"Gender\":\"Male\",\"Item ID\":159,\"Item Name\":\"Oathbreaker, Spellblade of Trials\",\"Price\":3.01},{\"SN\":\"Yadacal26\",\"Age\":24,\"Gender\":\"Male\",\"Item ID\":37,\"Item Name\":\"Shadow Strike, Glory of Ending Hope\",\"Price\":1.93},{\"SN\":\"Ila44\",\"Age\":15,\"Gender\":\"Male\",\"Item ID\":174,\"Item Name\":\"Primitive Blade\",\"Price\":2.46},{\"SN\":\"Ilophos58\",\"Age\":9,\"Gender\":\"Male\",\"Item ID\":103,\"Item Name\":\"Singed Scalpel\",\"Price\":4.87},{\"SN\":\"Marilsanya48\",\"Age\":21,\"Gender\":\"Male\",\"Item ID\":102,\"Item Name\":\"Avenger\",\"Price\":4.16},{\"SN\":\"Phially37\",\"Age\":22,\"Gender\":\"Female\",\"Item ID\":79,\"Item Name\":\"Alpha, Oath of Zeal\",\"Price\":2.88},{\"SN\":\"Iduedru67\",\"Age\":25,\"Gender\":\"Male\",\"Item ID\":169,\"Item Name\":\"Interrogator, Blood Blade of the Queen\",\"Price\":3.32},{\"SN\":\"Yarithsurgue62\",\"Age\":7,\"Gender\":\"Male\",\"Item ID\":82,\"Item Name\":\"Nirvana\",\"Price\":1.11},{\"SN\":\"Aeduera68\",\"Age\":26,\"Gender\":\"Male\",\"Item ID\":39,\"Item Name\":\"Betrayal, Whisper of Grieving Widows\",\"Price\":2.35},{\"SN\":\"Saidairiaphos61\",\"Age\":29,\"Gender\":\"Male\",\"Item ID\":18,\"Item Name\":\"Torchlight, Bond of Storms\",\"Price\":1.77},{\"SN\":\"Tillyrin30\",\"Age\":20,\"Gender\":\"Male\",\"Item ID\":69,\"Item Name\":\"Frenzy, Defender of the Harvest\",\"Price\":1.06},{\"SN\":\"Chanosiast43\",\"Age\":13,\"Gender\":\"Female\",\"Item ID\":117,\"Item Name\":\"Heartstriker, Legacy of the Light\",\"Price\":4.15},{\"SN\":\"Quarusrion32\",\"Age\":15,\"Gender\":\"Male\",\"Item ID\":14,\"Item Name\":\"Possessed Core\",\"Price\":1.59},{\"SN\":\"Chamimla73\",\"Age\":18,\"Gender\":\"Male\",\"Item ID\":21,\"Item Name\":\"Souleater\",\"Price\":3.27},{\"SN\":\"Eurith26\",\"Age\":25,\"Gender\":\"Male\",\"Item ID\":139,\"Item Name\":\"Mercy, Katana of Dismay\",\"Price\":4.37},{\"SN\":\"Tyananurgue44\",\"Age\":22,\"Gender\":\"Male\",\"Item ID\":48,\"Item Name\":\"Rage, Legacy of the Lone Victor\",\"Price\":4.32},{\"SN\":\"Iskichinya81\",\"Age\":16,\"Gender\":\"Male\",\"Item ID\":134,\"Item Name\":\"Undead Crusader\",\"Price\":4.67},{\"SN\":\"Hiadanurin36\",\"Age\":10,\"Gender\":\"Female\",\"Item ID\":148,\"Item Name\":\"Warmonger, Gift of Suffering's End\",\"Price\":3.96},{\"SN\":\"Tyaelly53\",\"Age\":20,\"Gender\":\"Female\",\"Item ID\":106,\"Item Name\":\"Crying Steel Sickle\",\"Price\":2.29},{\"SN\":\"Shidai42\",\"Age\":23,\"Gender\":\"Female\",\"Item ID\":37,\"Item Name\":\"Shadow Strike, Glory of Ending Hope\",\"Price\":1.93},{\"SN\":\"Bartassaya73\",\"Age\":16,\"Gender\":\"Male\",\"Item ID\":8,\"Item Name\":\"Purgatory, Gem of Regret\",\"Price\":3.91},{\"SN\":\"Mindosiasya28\",\"Age\":13,\"Gender\":\"Male\",\"Item ID\":175,\"Item Name\":\"Woeful Adamantite Claymore\",\"Price\":1.24},{\"SN\":\"Ethrusuard41\",\"Age\":10,\"Gender\":\"Male\",\"Item ID\":16,\"Item Name\":\"Restored Bauble\",\"Price\":3.11},{\"SN\":\"Indirrian56\",\"Age\":19,\"Gender\":\"Male\",\"Item ID\":45,\"Item Name\":\"Glinting Glass Edge\",\"Price\":2.46},{\"SN\":\"Sondim68\",\"Age\":22,\"Gender\":\"Male\",\"Item ID\":101,\"Item Name\":\"Final Critic\",\"Price\":4.62},{\"SN\":\"Tyadaru49\",\"Age\":25,\"Gender\":\"Male\",\"Item ID\":56,\"Item Name\":\"Foul Titanium Battle Axe\",\"Price\":4.33},{\"SN\":\"Cosadar58\",\"Age\":35,\"Gender\":\"Female\",\"Item ID\":93,\"Item Name\":\"Apocalyptic Battlescythe\",\"Price\":3.91},{\"SN\":\"Farusrian86\",\"Age\":19,\"Gender\":\"Male\",\"Item ID\":154,\"Item Name\":\"Feral Katana\",\"Price\":2.19},{\"SN\":\"Leyirra83\",\"Age\":24,\"Gender\":\"Male\",\"Item ID\":145,\"Item Name\":\"Fiery Glass Crusader\",\"Price\":4.45},{\"SN\":\"Inguron55\",\"Age\":26,\"Gender\":\"Male\",\"Item ID\":84,\"Item Name\":\"Arcane Gem\",\"Price\":2.23},{\"SN\":\"Haedasu65\",\"Age\":20,\"Gender\":\"Male\",\"Item ID\":134,\"Item Name\":\"Undead Crusader\",\"Price\":4.67},{\"SN\":\"Ialistidru50\",\"Age\":21,\"Gender\":\"Male\",\"Item ID\":130,\"Item Name\":\"Alpha\",\"Price\":1.56},{\"SN\":\"Sweecossa42\",\"Age\":20,\"Gender\":\"Male\",\"Item ID\":79,\"Item Name\":\"Alpha, Oath of Zeal\",\"Price\":2.88},{\"SN\":\"Ralasti48\",\"Age\":35,\"Gender\":\"Male\",\"Item ID\":34,\"Item Name\":\"Retribution Axe\",\"Price\":4.14},{\"SN\":\"Lamon28\",\"Age\":32,\"Gender\":\"Male\",\"Item ID\":52,\"Item Name\":\"Hatred\",\"Price\":4.39},{\"SN\":\"Isri49\",\"Age\":15,\"Gender\":\"Male\",\"Item ID\":120,\"Item Name\":\"Agatha\",\"Price\":1.91},{\"SN\":\"Frichassala85\",\"Age\":21,\"Gender\":\"Male\",\"Item ID\":114,\"Item Name\":\"Yearning Mageblade\",\"Price\":1.79},{\"SN\":\"Eollym91\",\"Age\":23,\"Gender\":\"Male\",\"Item ID\":86,\"Item Name\":\"Stormfury Lantern\",\"Price\":1.28},{\"SN\":\"Lisjasksda68\",\"Age\":26,\"Gender\":\"Female\",\"Item ID\":179,\"Item Name\":\"Wolf, Promise of the Moonwalker\",\"Price\":1.88},{\"SN\":\"Yalostiphos68\",\"Age\":15,\"Gender\":\"Female\",\"Item ID\":116,\"Item Name\":\"Renewed Skeletal Katana\",\"Price\":2.37},{\"SN\":\"Thryallym62\",\"Age\":20,\"Gender\":\"Male\",\"Item ID\":4,\"Item Name\":\"Bloodlord's Fetish\",\"Price\":2.28},{\"SN\":\"Sondastan54\",\"Age\":31,\"Gender\":\"Male\",\"Item ID\":104,\"Item Name\":\"Gladiator's Glaive\",\"Price\":1.36},{\"SN\":\"Ailaesuir66\",\"Age\":22,\"Gender\":\"Female\",\"Item ID\":179,\"Item Name\":\"Wolf, Promise of the Moonwalker\",\"Price\":1.88},{\"SN\":\"Siasri67\",\"Age\":22,\"Gender\":\"Male\",\"Item ID\":6,\"Item Name\":\"Rusty Skull\",\"Price\":1.2},{\"SN\":\"Seosri62\",\"Age\":35,\"Gender\":\"Male\",\"Item ID\":11,\"Item Name\":\"Brimstone\",\"Price\":2.52},{\"SN\":\"Ryastycal90\",\"Age\":20,\"Gender\":\"Male\",\"Item ID\":122,\"Item Name\":\"Unending Tyranny\",\"Price\":1.21},{\"SN\":\"Chanirrasta87\",\"Age\":19,\"Gender\":\"Male\",\"Item ID\":87,\"Item Name\":\"Deluge, Edge of the West\",\"Price\":2.2},{\"SN\":\"Aerithllora36\",\"Age\":29,\"Gender\":\"Male\",\"Item ID\":81,\"Item Name\":\"Dreamkiss\",\"Price\":4.06},{\"SN\":\"Raeduerin33\",\"Age\":28,\"Gender\":\"Male\",\"Item ID\":175,\"Item Name\":\"Woeful Adamantite Claymore\",\"Price\":1.24},{\"SN\":\"Lisosiast26\",\"Age\":36,\"Gender\":\"Male\",\"Item ID\":52,\"Item Name\":\"Hatred\",\"Price\":4.39},{\"SN\":\"Eurisuru25\",\"Age\":27,\"Gender\":\"Other \\/ Non-Disclosed\",\"Item ID\":48,\"Item Name\":\"Rage, Legacy of the Lone Victor\",\"Price\":4.32},{\"SN\":\"Assassasda84\",\"Age\":25,\"Gender\":\"Male\",\"Item ID\":70,\"Item Name\":\"Hope's End\",\"Price\":3.89},{\"SN\":\"Aerithnucal56\",\"Age\":15,\"Gender\":\"Male\",\"Item ID\":13,\"Item Name\":\"Serenity\",\"Price\":1.49},{\"SN\":\"Nitherian58\",\"Age\":22,\"Gender\":\"Female\",\"Item ID\":84,\"Item Name\":\"Arcane Gem\",\"Price\":2.23},{\"SN\":\"Hailaphos89\",\"Age\":20,\"Gender\":\"Male\",\"Item ID\":122,\"Item Name\":\"Unending Tyranny\",\"Price\":1.21},{\"SN\":\"Chamucosda93\",\"Age\":21,\"Gender\":\"Male\",\"Item ID\":158,\"Item Name\":\"Darkheart, Butcher of the Champion\",\"Price\":3.56},{\"SN\":\"Frichilsasya78\",\"Age\":24,\"Gender\":\"Male\",\"Item ID\":73,\"Item Name\":\"Ritual Mace\",\"Price\":3.74},{\"SN\":\"Aenasu69\",\"Age\":22,\"Gender\":\"Male\",\"Item ID\":141,\"Item Name\":\"Persuasion\",\"Price\":3.27},{\"SN\":\"Lassista97\",\"Age\":24,\"Gender\":\"Male\",\"Item ID\":25,\"Item Name\":\"Hero Cane\",\"Price\":1.03},{\"SN\":\"Sidap51\",\"Age\":15,\"Gender\":\"Male\",\"Item ID\":31,\"Item Name\":\"Trickster\",\"Price\":2.07},{\"SN\":\"Chamadarsda63\",\"Age\":21,\"Gender\":\"Male\",\"Item ID\":44,\"Item Name\":\"Bonecarvin Battle Axe\",\"Price\":2.46},{\"SN\":\"Lassassast73\",\"Age\":24,\"Gender\":\"Male\",\"Item ID\":123,\"Item Name\":\"Twilight's Carver\",\"Price\":1.14},{\"SN\":\"Eural50\",\"Age\":22,\"Gender\":\"Male\",\"Item ID\":98,\"Item Name\":\"Deadline, Voice Of Subtlety\",\"Price\":3.62},{\"SN\":\"Lirtossa78\",\"Age\":14,\"Gender\":\"Male\",\"Item ID\":104,\"Item Name\":\"Gladiator's Glaive\",\"Price\":1.36},{\"SN\":\"Tillyrin30\",\"Age\":20,\"Gender\":\"Male\",\"Item ID\":117,\"Item Name\":\"Heartstriker, Legacy of the Light\",\"Price\":4.15},{\"SN\":\"Quelaton80\",\"Age\":20,\"Gender\":\"Male\",\"Item ID\":75,\"Item Name\":\"Brutality Ivory Warmace\",\"Price\":1.72},{\"SN\":\"Alim85\",\"Age\":23,\"Gender\":\"Female\",\"Item ID\":107,\"Item Name\":\"Splitter, Foe Of Subtlety\",\"Price\":3.61}]\n",
    "purchase_data=pd.DataFrame(raw_data)\n",
    "purchase_data.head()"
   ]
  },
  {
   "cell_type": "code",
   "execution_count": 259,
   "metadata": {},
   "outputs": [
    {
     "data": {
      "text/html": [
       "<div>\n",
       "<style scoped>\n",
       "    .dataframe tbody tr th:only-of-type {\n",
       "        vertical-align: middle;\n",
       "    }\n",
       "\n",
       "    .dataframe tbody tr th {\n",
       "        vertical-align: top;\n",
       "    }\n",
       "\n",
       "    .dataframe thead th {\n",
       "        text-align: right;\n",
       "    }\n",
       "</style>\n",
       "<table border=\"1\" class=\"dataframe\">\n",
       "  <thead>\n",
       "    <tr style=\"text-align: right;\">\n",
       "      <th></th>\n",
       "      <th>Number of Players</th>\n",
       "    </tr>\n",
       "  </thead>\n",
       "  <tbody>\n",
       "    <tr>\n",
       "      <th>Number of Players</th>\n",
       "      <td>573</td>\n",
       "    </tr>\n",
       "  </tbody>\n",
       "</table>\n",
       "</div>"
      ],
      "text/plain": [
       "                    Number of Players \n",
       "Number of Players                  573"
      ]
     },
     "execution_count": 259,
     "metadata": {},
     "output_type": "execute_result"
    }
   ],
   "source": [
    "players_df=pd.DataFrame({\" Number of Players \" : len(purchase_data[\"SN\"].unique()) }, index = [\"Number of Players\"])\n",
    "players_df"
   ]
  },
  {
   "cell_type": "code",
   "execution_count": 409,
   "metadata": {},
   "outputs": [
    {
     "data": {
      "text/html": [
       "<div>\n",
       "<style scoped>\n",
       "    .dataframe tbody tr th:only-of-type {\n",
       "        vertical-align: middle;\n",
       "    }\n",
       "\n",
       "    .dataframe tbody tr th {\n",
       "        vertical-align: top;\n",
       "    }\n",
       "\n",
       "    .dataframe thead th {\n",
       "        text-align: right;\n",
       "    }\n",
       "</style>\n",
       "<table border=\"1\" class=\"dataframe\">\n",
       "  <thead>\n",
       "    <tr style=\"text-align: right;\">\n",
       "      <th></th>\n",
       "      <th>Age</th>\n",
       "      <th>Gender</th>\n",
       "      <th>Item ID</th>\n",
       "      <th>Item Name</th>\n",
       "      <th>Price</th>\n",
       "      <th>SN</th>\n",
       "    </tr>\n",
       "  </thead>\n",
       "  <tbody>\n",
       "    <tr>\n",
       "      <th>0</th>\n",
       "      <td>38</td>\n",
       "      <td>Male</td>\n",
       "      <td>165</td>\n",
       "      <td>Bone Crushing Silver Skewer</td>\n",
       "      <td>$3.37</td>\n",
       "      <td>Aelalis34</td>\n",
       "    </tr>\n",
       "    <tr>\n",
       "      <th>1</th>\n",
       "      <td>21</td>\n",
       "      <td>Male</td>\n",
       "      <td>119</td>\n",
       "      <td>Stormbringer, Dark Blade of Ending Misery</td>\n",
       "      <td>$2.32</td>\n",
       "      <td>Eolo46</td>\n",
       "    </tr>\n",
       "    <tr>\n",
       "      <th>2</th>\n",
       "      <td>34</td>\n",
       "      <td>Male</td>\n",
       "      <td>174</td>\n",
       "      <td>Primitive Blade</td>\n",
       "      <td>$2.46</td>\n",
       "      <td>Assastnya25</td>\n",
       "    </tr>\n",
       "    <tr>\n",
       "      <th>3</th>\n",
       "      <td>21</td>\n",
       "      <td>Male</td>\n",
       "      <td>92</td>\n",
       "      <td>Final Critic</td>\n",
       "      <td>$1.36</td>\n",
       "      <td>Pheusrical25</td>\n",
       "    </tr>\n",
       "    <tr>\n",
       "      <th>4</th>\n",
       "      <td>23</td>\n",
       "      <td>Male</td>\n",
       "      <td>63</td>\n",
       "      <td>Stormfury Mace</td>\n",
       "      <td>$1.27</td>\n",
       "      <td>Aela59</td>\n",
       "    </tr>\n",
       "  </tbody>\n",
       "</table>\n",
       "</div>"
      ],
      "text/plain": [
       "   Age Gender  Item ID                                  Item Name  Price  \\\n",
       "0   38   Male      165                Bone Crushing Silver Skewer  $3.37   \n",
       "1   21   Male      119  Stormbringer, Dark Blade of Ending Misery  $2.32   \n",
       "2   34   Male      174                            Primitive Blade  $2.46   \n",
       "3   21   Male       92                               Final Critic  $1.36   \n",
       "4   23   Male       63                             Stormfury Mace  $1.27   \n",
       "\n",
       "             SN  \n",
       "0     Aelalis34  \n",
       "1        Eolo46  \n",
       "2   Assastnya25  \n",
       "3  Pheusrical25  \n",
       "4        Aela59  "
      ]
     },
     "execution_count": 409,
     "metadata": {},
     "output_type": "execute_result"
    }
   ],
   "source": [
    "purchase_data[\"Price\"].astype('float64')\n",
    "purchase_data.head()"
   ]
  },
  {
   "cell_type": "code",
   "execution_count": 261,
   "metadata": {},
   "outputs": [
    {
     "data": {
      "text/plain": [
       "Age          780\n",
       "Gender       780\n",
       "Item ID      780\n",
       "Item Name    780\n",
       "Price        780\n",
       "SN           780\n",
       "dtype: int64"
      ]
     },
     "execution_count": 261,
     "metadata": {},
     "output_type": "execute_result"
    }
   ],
   "source": [
    "heroes_df.count()"
   ]
  },
  {
   "cell_type": "code",
   "execution_count": 262,
   "metadata": {},
   "outputs": [],
   "source": [
    "# Converting the \"Age and Item ID\" column to integers and the Price to floats\n",
    "purchase_data[\"Price\"] = purchase_data[\"Price\"].astype('float')\n"
   ]
  },
  {
   "cell_type": "code",
   "execution_count": 263,
   "metadata": {},
   "outputs": [
    {
     "data": {
      "text/plain": [
       "2286.3299999999999"
      ]
     },
     "execution_count": 263,
     "metadata": {},
     "output_type": "execute_result"
    }
   ],
   "source": [
    "total_rev= purchase_data[\"Price\"].sum()\n",
    "total_rev"
   ]
  },
  {
   "cell_type": "code",
   "execution_count": 264,
   "metadata": {},
   "outputs": [],
   "source": [
    "##Purchasing Analysis (Total)\n",
    "#Number of Unique Items\n",
    "grouped_items_df = purchase_data.groupby(\"Item Name\")\n",
    "num_items = len(grouped_heroes_df)+1\n",
    "\n",
    "#Total Number of Purchases\n",
    "num_purchases = len(heroes_df)+1\n",
    "\n",
    "#Total Revenue\n",
    "tot_rev = total_rev= purchase_data[\"Price\"].sum()\n",
    "\n",
    "#Average Purchase Price\n",
    "average_price = tot_rev/ num_purchases "
   ]
  },
  {
   "cell_type": "code",
   "execution_count": 265,
   "metadata": {},
   "outputs": [
    {
     "name": "stdout",
     "output_type": "stream",
     "text": [
      "Purchasing Analysis (Total)\n"
     ]
    },
    {
     "data": {
      "text/html": [
       "<div>\n",
       "<style scoped>\n",
       "    .dataframe tbody tr th:only-of-type {\n",
       "        vertical-align: middle;\n",
       "    }\n",
       "\n",
       "    .dataframe tbody tr th {\n",
       "        vertical-align: top;\n",
       "    }\n",
       "\n",
       "    .dataframe thead th {\n",
       "        text-align: right;\n",
       "    }\n",
       "</style>\n",
       "<table border=\"1\" class=\"dataframe\">\n",
       "  <thead>\n",
       "    <tr style=\"text-align: right;\">\n",
       "      <th></th>\n",
       "      <th>Average Purchase Price</th>\n",
       "      <th>Number of Unique Items</th>\n",
       "      <th>Total Number of Purchases</th>\n",
       "      <th>Total Revenue</th>\n",
       "    </tr>\n",
       "  </thead>\n",
       "  <tbody>\n",
       "    <tr>\n",
       "      <th>0</th>\n",
       "      <td>$2.93</td>\n",
       "      <td>180</td>\n",
       "      <td>781</td>\n",
       "      <td>$2,286.33</td>\n",
       "    </tr>\n",
       "  </tbody>\n",
       "</table>\n",
       "</div>"
      ],
      "text/plain": [
       "   Average Purchase Price  Number of Unique Items  Total Number of Purchases  \\\n",
       "0                   $2.93                     180                        781   \n",
       "\n",
       "   Total Revenue  \n",
       "0      $2,286.33  "
      ]
     },
     "execution_count": 265,
     "metadata": {},
     "output_type": "execute_result"
    }
   ],
   "source": [
    "analysis_df=pd.DataFrame({\"Number of Unique Items\" : num_items, \"Average Purchase Price\" : average_price , \"Total Number of Purchases\"\n",
    ":num_purchases , \"Total Revenue\": purchase_data[\"Price\"].sum() }, index = [0] )\n",
    "\n",
    "print(\"Purchasing Analysis (Total)\")\n",
    "analysis_df"
   ]
  },
  {
   "cell_type": "code",
   "execution_count": 281,
   "metadata": {},
   "outputs": [
    {
     "data": {
      "text/plain": [
       "Male                      633\n",
       "Female                    136\n",
       "Other \\/ Non-Disclosed     11\n",
       "Name: Gender, dtype: int64"
      ]
     },
     "execution_count": 281,
     "metadata": {},
     "output_type": "execute_result"
    }
   ],
   "source": [
    "##Gender Demographics\n",
    "# Percentage and Count of Male Players\n",
    "# Percentage and Count of Female Players\n",
    "# Percentage and Count of Other / Non-Disclosed\n",
    "\n",
    "demographics = purchase_data.loc[:, [\"Gender\", \"SN\", \"Age\"]]\n",
    "\n",
    "#Gender Demographics\n",
    "#grouped_SN_df = purchase_data.groupby(\"SN\")\n",
    "#len(grouped_SN_df)\n",
    "\n",
    "gender_tot = demographics[\"Gender\"].count()\n",
    "gender_num = demographics[\"Gender\"].value_counts()\n",
    "gender_num"
   ]
  },
  {
   "cell_type": "code",
   "execution_count": 283,
   "metadata": {},
   "outputs": [
    {
     "data": {
      "text/plain": [
       "Male                     $81.15\n",
       "Female                   $17.44\n",
       "Other \\/ Non-Disclosed    $1.41\n",
       "Name: Gender, dtype: float64"
      ]
     },
     "execution_count": 283,
     "metadata": {},
     "output_type": "execute_result"
    }
   ],
   "source": [
    "gender_perc = gender_num/gender_tot*100\n",
    "gender_perc"
   ]
  },
  {
   "cell_type": "code",
   "execution_count": 284,
   "metadata": {
    "collapsed": true
   },
   "outputs": [],
   "source": [
    "#Add both arrays and turn it into a dataframe\n",
    "#gender_stats=pd.DataFrame({\"Percentage of Players\" : len(purchase_data[\"SN\"].unique()), \"Total Count\":  }, index = [\"Male\", \"Female\", \"Other/Non-Disclosed\"])\n",
    "\n"
   ]
  },
  {
   "cell_type": "code",
   "execution_count": 350,
   "metadata": {},
   "outputs": [
    {
     "data": {
      "text/html": [
       "<div>\n",
       "<style scoped>\n",
       "    .dataframe tbody tr th:only-of-type {\n",
       "        vertical-align: middle;\n",
       "    }\n",
       "\n",
       "    .dataframe tbody tr th {\n",
       "        vertical-align: top;\n",
       "    }\n",
       "\n",
       "    .dataframe thead th {\n",
       "        text-align: right;\n",
       "    }\n",
       "</style>\n",
       "<table border=\"1\" class=\"dataframe\">\n",
       "  <thead>\n",
       "    <tr style=\"text-align: right;\">\n",
       "      <th></th>\n",
       "      <th>Purchase Count</th>\n",
       "      <th>Total Purchase Value</th>\n",
       "    </tr>\n",
       "  </thead>\n",
       "  <tbody>\n",
       "    <tr>\n",
       "      <th>Male</th>\n",
       "      <td>633</td>\n",
       "      <td>Gender    MaleMaleMaleMaleMaleMaleMaleMaleMale...</td>\n",
       "    </tr>\n",
       "    <tr>\n",
       "      <th>Female</th>\n",
       "      <td>136</td>\n",
       "      <td>Gender    FemaleFemaleFemaleFemaleFemaleFemale...</td>\n",
       "    </tr>\n",
       "    <tr>\n",
       "      <th>Other/Non-Disclosed</th>\n",
       "      <td>11</td>\n",
       "      <td>Gender    Other \\/ Non-DisclosedOther \\/ Non-D...</td>\n",
       "    </tr>\n",
       "  </tbody>\n",
       "</table>\n",
       "</div>"
      ],
      "text/plain": [
       "                     Purchase Count  \\\n",
       "Male                            633   \n",
       "Female                          136   \n",
       "Other/Non-Disclosed              11   \n",
       "\n",
       "                                                  Total Purchase Value  \n",
       "Male                 Gender    MaleMaleMaleMaleMaleMaleMaleMaleMale...  \n",
       "Female               Gender    FemaleFemaleFemaleFemaleFemaleFemale...  \n",
       "Other/Non-Disclosed  Gender    Other \\/ Non-DisclosedOther \\/ Non-D...  "
      ]
     },
     "execution_count": 350,
     "metadata": {},
     "output_type": "execute_result"
    }
   ],
   "source": [
    "##Purchasing Analysis (Gender)\n",
    "\n",
    "#The below each broken by gender\n",
    "#Purchase Count\n",
    "#Average Purchase Price\n",
    "#Total Purchase Value\n",
    "#Normalized Totals\n",
    "\n",
    "gender_purchase = purchase_data.loc[:, [\"Gender\", \"Price\"]]\n",
    "#gender_purchase[\"Price\"].astype('float64')\n",
    "#gender_purchase[\"Price\"].dtype()\n",
    "\n",
    "male_purchase = gender_purchase.loc[gender_purchase[\"Gender\"]==\"Male\"]\n",
    "female_purchase = gender_purchase.loc[gender_purchase[\"Gender\"]==\"Female\"]\n",
    "\n",
    "\n",
    "male_purchase_tot = male_purchase.sum()\n",
    "male_purchase_tot\n",
    "\n",
    "male_purchase_count= male_purchase[\"Price\"].count()\n",
    "male_purchase_count\n",
    "\n",
    "#male_purchase_avg = male_purchase_tot/male_purchase_count\n",
    "#male_purchase_avg\n",
    "\n",
    "female_purchase_tot = female_purchase.sum()\n",
    "female_purchase_count= female_purchase[\"Price\"].count()\n",
    "#female_purchase_avg = female_purchase_tot/female_purchase_count\n",
    "\n",
    "other_purchase_tot = other_purchase.sum()\n",
    "other_purchase_count= other_purchase[\"Price\"].count()\n",
    "#other_purchase_avg = other_purchase_tot/other_purchase_count\n",
    "\n",
    "gender_purchase_df=pd.DataFrame({\"Purchase Count\" : [male_purchase_count, female_purchase_count, other_purchase_count],\"Total Purchase Value\": [male_purchase_tot, female_purchase_tot, other_purchase_tot] }, index = [\"Male\", \"Female\", \"Other/Non-Disclosed\"])\n",
    "\n",
    "#Add  \"Average Purchase Price\": [male_purchase_avg, female_purchase_avg, other_purchase_avg] when you figure out how to divide\n",
    "gender_purchase_df\n",
    "\n",
    "#how to do the normalized totals"
   ]
  },
  {
   "cell_type": "code",
   "execution_count": 366,
   "metadata": {},
   "outputs": [
    {
     "data": {
      "text/html": [
       "<div>\n",
       "<style scoped>\n",
       "    .dataframe tbody tr th:only-of-type {\n",
       "        vertical-align: middle;\n",
       "    }\n",
       "\n",
       "    .dataframe tbody tr th {\n",
       "        vertical-align: top;\n",
       "    }\n",
       "\n",
       "    .dataframe thead th {\n",
       "        text-align: right;\n",
       "    }\n",
       "</style>\n",
       "<table border=\"1\" class=\"dataframe\">\n",
       "  <thead>\n",
       "    <tr style=\"text-align: right;\">\n",
       "      <th></th>\n",
       "      <th>Age</th>\n",
       "      <th>Price</th>\n",
       "    </tr>\n",
       "  </thead>\n",
       "  <tbody>\n",
       "    <tr>\n",
       "      <th>0</th>\n",
       "      <td>38</td>\n",
       "      <td>$3.37</td>\n",
       "    </tr>\n",
       "    <tr>\n",
       "      <th>1</th>\n",
       "      <td>21</td>\n",
       "      <td>$2.32</td>\n",
       "    </tr>\n",
       "    <tr>\n",
       "      <th>2</th>\n",
       "      <td>34</td>\n",
       "      <td>$2.46</td>\n",
       "    </tr>\n",
       "    <tr>\n",
       "      <th>3</th>\n",
       "      <td>21</td>\n",
       "      <td>$1.36</td>\n",
       "    </tr>\n",
       "    <tr>\n",
       "      <th>4</th>\n",
       "      <td>23</td>\n",
       "      <td>$1.27</td>\n",
       "    </tr>\n",
       "  </tbody>\n",
       "</table>\n",
       "</div>"
      ],
      "text/plain": [
       "   Age  Price\n",
       "0   38  $3.37\n",
       "1   21  $2.32\n",
       "2   34  $2.46\n",
       "3   21  $1.36\n",
       "4   23  $1.27"
      ]
     },
     "execution_count": 366,
     "metadata": {},
     "output_type": "execute_result"
    }
   ],
   "source": [
    "##Age Demographics\n",
    "\n",
    "#The below each broken into bins of 4 years (i.e. <10, 10-14, 15-19, 20-24, 25-29, 30-35, 34-39, 40+, etc.)\n",
    "#Purchase Count\n",
    "#Average Purchase Price\n",
    "#Total Purchase Value\n",
    "#Normalized Totals\n",
    "\n",
    "age_purchase = purchase_data.loc[:, [\"Age\", \"Price\"]]\n",
    "age_purchase.head()"
   ]
  },
  {
   "cell_type": "code",
   "execution_count": 485,
   "metadata": {},
   "outputs": [
    {
     "data": {
      "text/html": [
       "<div>\n",
       "<style scoped>\n",
       "    .dataframe tbody tr th:only-of-type {\n",
       "        vertical-align: middle;\n",
       "    }\n",
       "\n",
       "    .dataframe tbody tr th {\n",
       "        vertical-align: top;\n",
       "    }\n",
       "\n",
       "    .dataframe thead th {\n",
       "        text-align: right;\n",
       "    }\n",
       "</style>\n",
       "<table border=\"1\" class=\"dataframe\">\n",
       "  <thead>\n",
       "    <tr style=\"text-align: right;\">\n",
       "      <th></th>\n",
       "      <th>Age</th>\n",
       "      <th>Price</th>\n",
       "      <th>Age Bin</th>\n",
       "    </tr>\n",
       "  </thead>\n",
       "  <tbody>\n",
       "    <tr>\n",
       "      <th>0</th>\n",
       "      <td>38</td>\n",
       "      <td>$3.37</td>\n",
       "      <td>35-39</td>\n",
       "    </tr>\n",
       "    <tr>\n",
       "      <th>1</th>\n",
       "      <td>21</td>\n",
       "      <td>$2.32</td>\n",
       "      <td>20-24</td>\n",
       "    </tr>\n",
       "    <tr>\n",
       "      <th>2</th>\n",
       "      <td>34</td>\n",
       "      <td>$2.46</td>\n",
       "      <td>30-34</td>\n",
       "    </tr>\n",
       "    <tr>\n",
       "      <th>3</th>\n",
       "      <td>21</td>\n",
       "      <td>$1.36</td>\n",
       "      <td>20-24</td>\n",
       "    </tr>\n",
       "    <tr>\n",
       "      <th>4</th>\n",
       "      <td>23</td>\n",
       "      <td>$1.27</td>\n",
       "      <td>20-24</td>\n",
       "    </tr>\n",
       "  </tbody>\n",
       "</table>\n",
       "</div>"
      ],
      "text/plain": [
       "   Age  Price Age Bin\n",
       "0   38  $3.37   35-39\n",
       "1   21  $2.32   20-24\n",
       "2   34  $2.46   30-34\n",
       "3   21  $1.36   20-24\n",
       "4   23  $1.27   20-24"
      ]
     },
     "execution_count": 485,
     "metadata": {},
     "output_type": "execute_result"
    }
   ],
   "source": [
    "# Create bins and bin labels \n",
    "age_bins = [0, 10, 14, 19, 24, 29, 35, 39, 40]\n",
    "age_labels = [\"<10\", \"10-14\", \"15-19\", \"20-24\", \"25-29\", \"30-34\", \"35-39\", \"40+\"]\n",
    "\n",
    "# question, are the bins inclusive??\n",
    "age_purchase[\"Age Bin\"]=pd.cut(age_purchase[\"Age\"], age_bins, labels=age_labels)\n",
    "\n",
    "age_purchase.head()"
   ]
  },
  {
   "cell_type": "code",
   "execution_count": 573,
   "metadata": {},
   "outputs": [
    {
     "data": {
      "text/plain": [
       "Age Bin\n",
       "<10      $96.62\n",
       "10-14    $83.79\n",
       "15-19   $386.42\n",
       "20-24   $978.77\n",
       "25-29   $370.33\n",
       "30-34   $234.27\n",
       "35-39    $82.38\n",
       "40+      $45.11\n",
       "Name: Price, dtype: float64"
      ]
     },
     "execution_count": 573,
     "metadata": {},
     "output_type": "execute_result"
    }
   ],
   "source": [
    "#Purchase Count\n",
    "age_purchase1=age_purchase.groupby(\"Age Bin\")\n",
    "\n",
    "#Total Purchase Value\n",
    "age_tot=age_purchase1[\"Price\"].sum()\n",
    "\n",
    "#Purchase Count\n",
    "age_count=age_purch_bin[\"Age Bin\"].value_counts()\n",
    "\n",
    "#Average Purchase Price\n",
    "age_norm=age_tot/age_count\n",
    "\n",
    "#Normalized Totals\n",
    "age_mean=age_purchase1[\"Price\"].mean()\n",
    "\n",
    "#THIS DOESNT WORK\n",
    "\n",
    "age_df=pd.DataFrame({ \"Purchase Count\":age_count[\"Price\"], \"Total Purchase Value\":age_tot[\"Price\"], \"Average Purchase\":age_mean[\"Price\"]})\n",
    "\n",
    "##Q= how can I sort the whole dataframe based on one column\n",
    "\n",
    "#top_sort=SN_df[\"Total Purchase Value\"].sort_values(ascending=False)\n",
    "\n",
    "age_sort=age_df.sort_values(\"Total Purchase Value\", ascending=False)    \n",
    "age_sort.head()"
   ]
  },
  {
   "cell_type": "code",
   "execution_count": 411,
   "metadata": {},
   "outputs": [
    {
     "data": {
      "text/html": [
       "<div>\n",
       "<style scoped>\n",
       "    .dataframe tbody tr th:only-of-type {\n",
       "        vertical-align: middle;\n",
       "    }\n",
       "\n",
       "    .dataframe tbody tr th {\n",
       "        vertical-align: top;\n",
       "    }\n",
       "\n",
       "    .dataframe thead th {\n",
       "        text-align: right;\n",
       "    }\n",
       "</style>\n",
       "<table border=\"1\" class=\"dataframe\">\n",
       "  <thead>\n",
       "    <tr style=\"text-align: right;\">\n",
       "      <th></th>\n",
       "      <th>SN</th>\n",
       "      <th>Price</th>\n",
       "    </tr>\n",
       "  </thead>\n",
       "  <tbody>\n",
       "    <tr>\n",
       "      <th>0</th>\n",
       "      <td>Aelalis34</td>\n",
       "      <td>$3.37</td>\n",
       "    </tr>\n",
       "    <tr>\n",
       "      <th>1</th>\n",
       "      <td>Eolo46</td>\n",
       "      <td>$2.32</td>\n",
       "    </tr>\n",
       "    <tr>\n",
       "      <th>2</th>\n",
       "      <td>Assastnya25</td>\n",
       "      <td>$2.46</td>\n",
       "    </tr>\n",
       "    <tr>\n",
       "      <th>3</th>\n",
       "      <td>Pheusrical25</td>\n",
       "      <td>$1.36</td>\n",
       "    </tr>\n",
       "    <tr>\n",
       "      <th>4</th>\n",
       "      <td>Aela59</td>\n",
       "      <td>$1.27</td>\n",
       "    </tr>\n",
       "  </tbody>\n",
       "</table>\n",
       "</div>"
      ],
      "text/plain": [
       "             SN  Price\n",
       "0     Aelalis34  $3.37\n",
       "1        Eolo46  $2.32\n",
       "2   Assastnya25  $2.46\n",
       "3  Pheusrical25  $1.36\n",
       "4        Aela59  $1.27"
      ]
     },
     "execution_count": 411,
     "metadata": {},
     "output_type": "execute_result"
    }
   ],
   "source": [
    "##Top Spenders (see below)\n",
    "\n",
    "#Identify the the top 5 spenders in the game by total purchase value, then list (in a table):\n",
    "#SN\n",
    "#Purchase Count\n",
    "#Average Purchase Price\n",
    "#Total Purchase Value\n",
    "\n",
    "top_purch=purchase_data.loc[:, [\"SN\", \"Price\"]]\n",
    "top_purch.head()"
   ]
  },
  {
   "cell_type": "code",
   "execution_count": null,
   "metadata": {},
   "outputs": [],
   "source": [
    "\n"
   ]
  },
  {
   "cell_type": "code",
   "execution_count": 565,
   "metadata": {},
   "outputs": [
    {
     "data": {
      "text/html": [
       "<div>\n",
       "<style scoped>\n",
       "    .dataframe tbody tr th:only-of-type {\n",
       "        vertical-align: middle;\n",
       "    }\n",
       "\n",
       "    .dataframe tbody tr th {\n",
       "        vertical-align: top;\n",
       "    }\n",
       "\n",
       "    .dataframe thead th {\n",
       "        text-align: right;\n",
       "    }\n",
       "</style>\n",
       "<table border=\"1\" class=\"dataframe\">\n",
       "  <thead>\n",
       "    <tr style=\"text-align: right;\">\n",
       "      <th></th>\n",
       "      <th>Average Purchase</th>\n",
       "      <th>Purchase Count</th>\n",
       "      <th>Total Purchase Value</th>\n",
       "    </tr>\n",
       "    <tr>\n",
       "      <th>SN</th>\n",
       "      <th></th>\n",
       "      <th></th>\n",
       "      <th></th>\n",
       "    </tr>\n",
       "  </thead>\n",
       "  <tbody>\n",
       "    <tr>\n",
       "      <th>Undirrala66</th>\n",
       "      <td>$3.41</td>\n",
       "      <td>5</td>\n",
       "      <td>$17.06</td>\n",
       "    </tr>\n",
       "    <tr>\n",
       "      <th>Saedue76</th>\n",
       "      <td>$3.39</td>\n",
       "      <td>4</td>\n",
       "      <td>$13.56</td>\n",
       "    </tr>\n",
       "    <tr>\n",
       "      <th>Mindimnya67</th>\n",
       "      <td>$3.18</td>\n",
       "      <td>4</td>\n",
       "      <td>$12.74</td>\n",
       "    </tr>\n",
       "    <tr>\n",
       "      <th>Haellysu29</th>\n",
       "      <td>$4.24</td>\n",
       "      <td>3</td>\n",
       "      <td>$12.73</td>\n",
       "    </tr>\n",
       "    <tr>\n",
       "      <th>Eoda93</th>\n",
       "      <td>$3.86</td>\n",
       "      <td>3</td>\n",
       "      <td>$11.58</td>\n",
       "    </tr>\n",
       "  </tbody>\n",
       "</table>\n",
       "</div>"
      ],
      "text/plain": [
       "             Average Purchase  Purchase Count  Total Purchase Value\n",
       "SN                                                                 \n",
       "Undirrala66             $3.41               5                $17.06\n",
       "Saedue76                $3.39               4                $13.56\n",
       "Mindimnya67             $3.18               4                $12.74\n",
       "Haellysu29              $4.24               3                $12.73\n",
       "Eoda93                  $3.86               3                $11.58"
      ]
     },
     "execution_count": 565,
     "metadata": {},
     "output_type": "execute_result"
    }
   ],
   "source": [
    "#sorting by SN\n",
    "SN_purchase=top_purch.groupby(\"SN\")\n",
    "\n",
    "###I CANT SORT THE GROUP BY\n",
    "\n",
    "\n",
    "#here i create a series for each value i need\n",
    "SN_sum=SN_purchase.sum()\n",
    "SN_count=SN_purchase.count()\n",
    "SN_mean=SN_purchase.mean()\n",
    "\n",
    "# SN_sum can also be found by SN_sum=SN_purchase[\"Price\"].count()*SN_purchase[\"Price\"].mean()\n",
    "\n",
    "#to create the final df, one approach is to merge them by the SN. first two then the resulting and the missing.\n",
    "#merge_df1 = SN_purchase.merge(SN_count, SN_mean, on=\"SN\", how=\"outer\")\n",
    "#merge_df= SN_purchase.merge(merge_df1, SN_sum, on=\"SN\", how=\"outer\")\n",
    "#merge_df\n",
    "\n",
    "#or I could add SN_sum, SN_count, SN_mean as columns to a dataframe\n",
    "\n",
    "#SN_df=pd.DataFrame({\"Purchase Count\" : [SN_count],\"Total Purchase Value\": [SN_sum],\"Average Purchase\": [SN_mean] }, index = [\"SN\"], )\n",
    "#SN_df=pd.DataFrame([[SN_count],[SN_sum],[SN_mean], index = [], columns=[\"SN\",\"Purchase Count\",\"Total Purchase Value\", \"Average Purchase\"] )\n",
    "SN_df=pd.DataFrame({ \"Purchase Count\":SN_count[\"Price\"], \"Total Purchase Value\":SN_sum[\"Price\"], \"Average Purchase\":SN_mean[\"Price\"]})\n",
    "\n",
    "\n",
    "##Q= how can I sort the whole dataframe based on one column\n",
    "\n",
    "#top_sort=SN_df[\"Total Purchase Value\"].sort_values(ascending=False)\n",
    "\n",
    "SN_sort=SN_df.sort_values(\"Total Purchase Value\", ascending=False)     \n",
    "SN_sort.head(5)\n",
    "\n",
    "#SN_df[:5]\n",
    "\n"
   ]
  },
  {
   "cell_type": "code",
   "execution_count": 552,
   "metadata": {},
   "outputs": [
    {
     "data": {
      "text/plain": [
       "SN\n",
       "Undirrala66   $17.06\n",
       "Saedue76      $13.56\n",
       "Mindimnya67   $12.74\n",
       "Haellysu29    $12.73\n",
       "Eoda93        $11.58\n",
       "Name: Price, dtype: float64"
      ]
     },
     "execution_count": 552,
     "metadata": {},
     "output_type": "execute_result"
    }
   ],
   "source": [
    "SN_total=SN_purchase[\"Price\"].count()*SN_purchase[\"Price\"].mean()\n",
    "SN_mean=SN_purchase.mean()\n",
    "top_sort=SN_total.sort_values(ascending=False)\n",
    "\n",
    "top5=top_sort[:5]\n",
    "top5"
   ]
  },
  {
   "cell_type": "code",
   "execution_count": 564,
   "metadata": {},
   "outputs": [
    {
     "data": {
      "text/html": [
       "<div>\n",
       "<style scoped>\n",
       "    .dataframe tbody tr th:only-of-type {\n",
       "        vertical-align: middle;\n",
       "    }\n",
       "\n",
       "    .dataframe tbody tr th {\n",
       "        vertical-align: top;\n",
       "    }\n",
       "\n",
       "    .dataframe thead th {\n",
       "        text-align: right;\n",
       "    }\n",
       "</style>\n",
       "<table border=\"1\" class=\"dataframe\">\n",
       "  <thead>\n",
       "    <tr style=\"text-align: right;\">\n",
       "      <th></th>\n",
       "      <th>Average Purchase</th>\n",
       "      <th>Purchase Count</th>\n",
       "      <th>Total Purchase Value</th>\n",
       "    </tr>\n",
       "    <tr>\n",
       "      <th>Item ID</th>\n",
       "      <th></th>\n",
       "      <th></th>\n",
       "      <th></th>\n",
       "    </tr>\n",
       "  </thead>\n",
       "  <tbody>\n",
       "    <tr>\n",
       "      <th>34</th>\n",
       "      <td>$4.14</td>\n",
       "      <td>9</td>\n",
       "      <td>$37.26</td>\n",
       "    </tr>\n",
       "    <tr>\n",
       "      <th>115</th>\n",
       "      <td>$4.25</td>\n",
       "      <td>7</td>\n",
       "      <td>$29.75</td>\n",
       "    </tr>\n",
       "    <tr>\n",
       "      <th>32</th>\n",
       "      <td>$4.95</td>\n",
       "      <td>6</td>\n",
       "      <td>$29.70</td>\n",
       "    </tr>\n",
       "    <tr>\n",
       "      <th>103</th>\n",
       "      <td>$4.87</td>\n",
       "      <td>6</td>\n",
       "      <td>$29.22</td>\n",
       "    </tr>\n",
       "    <tr>\n",
       "      <th>107</th>\n",
       "      <td>$3.61</td>\n",
       "      <td>8</td>\n",
       "      <td>$28.88</td>\n",
       "    </tr>\n",
       "  </tbody>\n",
       "</table>\n",
       "</div>"
      ],
      "text/plain": [
       "         Average Purchase  Purchase Count  Total Purchase Value\n",
       "Item ID                                                        \n",
       "34                  $4.14               9                $37.26\n",
       "115                 $4.25               7                $29.75\n",
       "32                  $4.95               6                $29.70\n",
       "103                 $4.87               6                $29.22\n",
       "107                 $3.61               8                $28.88"
      ]
     },
     "execution_count": 564,
     "metadata": {},
     "output_type": "execute_result"
    }
   ],
   "source": [
    "##Most Popular Items\n",
    "\n",
    "#Identify the 5 most popular items by purchase count, then list (in a table):\n",
    "#Item ID\n",
    "#Item Name\n",
    "#Purchase Count\n",
    "#Item Price\n",
    "#Total Purchase Value\n",
    "\n",
    "top_item=purchase_data.loc[:, [\"Item ID\", \"Item Name\", \"Price\"]]\n",
    "\n",
    "item_purchase=top_item.groupby(\"Item ID\")  \n",
    "\n",
    "item_sum=item_purchase.sum()\n",
    "item_count=item_purchase.count()\n",
    "item_mean=item_purchase.mean()\n",
    "\n",
    "item_df=pd.DataFrame({ \"Purchase Count\":item_count[\"Price\"], \"Total Purchase Value\":item_sum[\"Price\"], \"Average Purchase\":item_mean[\"Price\"]})\n",
    "\n",
    "#Trying to Sort by a specific column\n",
    "\n",
    "item_sort=item_df.sort_values(\"Total Purchase Value\", ascending=False)     \n",
    "item_sort.head(5)\n",
    "\n"
   ]
  },
  {
   "cell_type": "code",
   "execution_count": 574,
   "metadata": {},
   "outputs": [
    {
     "ename": "SyntaxError",
     "evalue": "invalid syntax (<ipython-input-574-9401ce3a3902>, line 11)",
     "output_type": "error",
     "traceback": [
      "\u001b[1;36m  File \u001b[1;32m\"<ipython-input-574-9401ce3a3902>\"\u001b[1;36m, line \u001b[1;32m11\u001b[0m\n\u001b[1;33m    item_purch=top_item.groupby(\"Item ID\")\u001b[0m\n\u001b[1;37m             ^\u001b[0m\n\u001b[1;31mSyntaxError\u001b[0m\u001b[1;31m:\u001b[0m invalid syntax\n"
     ]
    }
   ],
   "source": [
    "#Most Profitable Items\n",
    "\n",
    "#Identify the 5 most profitable items by total purchase value, then list (in a table):\n",
    "#Item ID\n",
    "#Item Name\n",
    "#Purchase Count\n",
    "#Item Price\n",
    "#Total Purchase Value\n",
    "\n",
    "top_item=purchase_data.loc[:, [\"Item ID\", \"Item Name\", \"Price\"]\n",
    "item_purch=top_item.groupby(\"Item ID\")                      \n",
    "\n",
    "item_sum=item_purchase.sum()\n",
    "item_count=item_purchase.count()\n",
    "item_mean=item_purchase.mean()\n",
    "\n",
    "item_df=pd.DataFrame({ \"Item ID\":item_purch[\"Item ID\"], \"Item Name\":item_purch[\"Item Name\"], \"Purchase Count\":item_count[\"Price\"], \n",
    "                     \"Item Price\": item_purch[\"Price\"],\"Total Purchase Value\":item_sum[\"Price\"]})\n",
    "\n",
    "#Trying to Sort by a specific column\n",
    "\n",
    "item_sort=item_df.sort_values(\"Purchase Count\", ascending=False)     \n",
    "item_sort.head(5)"
   ]
  },
  {
   "cell_type": "code",
   "execution_count": null,
   "metadata": {
    "collapsed": true
   },
   "outputs": [],
   "source": [
    "\n"
   ]
  }
 ],
 "metadata": {
  "kernelspec": {
   "display_name": "Python 3",
   "language": "python",
   "name": "python3"
  },
  "language_info": {
   "codemirror_mode": {
    "name": "ipython",
    "version": 3
   },
   "file_extension": ".py",
   "mimetype": "text/x-python",
   "name": "python",
   "nbconvert_exporter": "python",
   "pygments_lexer": "ipython3",
   "version": "3.6.1"
  }
 },
 "nbformat": 4,
 "nbformat_minor": 2
}
