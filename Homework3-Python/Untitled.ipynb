{
 "cells": [
  {
   "cell_type": "code",
   "execution_count": 2,
   "metadata": {},
   "outputs": [
    {
     "name": "stdout",
     "output_type": "stream",
     "text": [
      "P\n",
      "e\n",
      "a\n",
      "c\n",
      "e\n"
     ]
    }
   ],
   "source": [
    "word = \"Peace\"\n",
    "for x in word:\n",
    "  print(x)"
   ]
  },
  {
   "cell_type": "code",
   "execution_count": 3,
   "metadata": {},
   "outputs": [
    {
     "name": "stdout",
     "output_type": "stream",
     "text": [
      "How many numbers? 1\n",
      "0\n",
      "1\n",
      "Continue the chain: (y)es or (n)o? y\n",
      "How many numbers? 4\n",
      "0\n",
      "1\n",
      "2\n",
      "3\n",
      "4\n",
      "Continue the chain: (y)es or (n)o? n\n"
     ]
    }
   ],
   "source": [
    "# Initial variable to track game play\n",
    "user_play = \"y\"\n",
    "\n",
    "# While we are still playing...\n",
    "while user_play == \"y\":\n",
    "  \n",
    "  # Ask the user how many numbers to loop through\n",
    "  user_number = input(\"How many numbers? \") \n",
    "\n",
    "  # Loop through the numbers. (Be sure to cast the string into an integer.)\n",
    "  for x in range(int(user_number) + 1):\n",
    "\n",
    "    # Print each number in the range\n",
    "    print(x)\n",
    "\n",
    "  # Once complete...\n",
    "  user_play = input(\"Continue the chain: (y)es or (n)o? \")"
   ]
  },
  {
   "cell_type": "code",
   "execution_count": 9,
   "metadata": {},
   "outputs": [
    {
     "name": "stdout",
     "output_type": "stream",
     "text": [
      "[0] Snickers\n",
      "[1] Kit Kat\n",
      "[2] Sour Patch Kids\n",
      "[3] Juicy Fruit\n",
      "[4] Sweedish Fish\n",
      "[5] Skittles\n",
      "[6] Hershey Bar\n",
      "[5] Skittles\n",
      "[8] Starbursts\n",
      "[9] M&Ms\n",
      "Which candy would you like to bring home? 2\n",
      "Which candy would you like to bring home? 3\n",
      "Which candy would you like to bring home? 3\n",
      "Which candy would you like to bring home? 2\n",
      "Which candy would you like to bring home? 3\n",
      "I brought home with me...\n",
      "Sour Patch Kids\n",
      "Juicy Fruit\n",
      "Juicy Fruit\n",
      "Sour Patch Kids\n",
      "Juicy Fruit\n"
     ]
    }
   ],
   "source": [
    "# The list of candies to print to the screen\n",
    "candyList = [\"Snickers\", \"Kit Kat\", \"Sour Patch Kids\", \"Juicy Fruit\", \"Sweedish Fish\", \"Skittles\", \"Hershey Bar\", \"Skittles\", \"Starbursts\", \"M&Ms\"]\n",
    "\n",
    "# The amount of candy the user will be allowed to choose\n",
    "allowance = 5\n",
    "\n",
    "# The list used to store all of the candies selected inside of\n",
    "candyCart = []\n",
    "\n",
    "# Print all of the candies to the screen and their index in brackets\n",
    "for candy in candyList:\n",
    "    print(\"[\" + str(candyList.index(candy)) + \"] \" + candy)\n",
    "\n",
    "# Run through a loop which allows the user to choose which candies to take home with them\n",
    "for x in range(allowance):\n",
    "    selected = input(\"Which candy would you like to bring home? \")\n",
    "\n",
    "    # Add the candy at the index chosen to the candyCart list\n",
    "    candyCart.append(candyList[int(selected)])\n",
    "\n",
    "# Loop through the candyCart to say what candies were brought home\n",
    "print(\"I brought home with me...\")\n",
    "for candy in candyCart:\n",
    "    print(candy)"
   ]
  },
  {
   "cell_type": "code",
   "execution_count": 10,
   "metadata": {},
   "outputs": [
    {
     "name": "stdout",
     "output_type": "stream",
     "text": [
      "dict_keys(['name', 'genre', 'nationality'])\n"
     ]
    }
   ],
   "source": [
    "# Two Dictionaries\n",
    "actress = {\"name\": \"Angelina Jolie\", \"genre\": \"Action\", \"nationality\": \"United States\"}\n",
    "actor = {\"name\": \"Adam Sandler\", \"genre\": \"comedy\", \"nationality\": \"United States\"}\n",
    "\n",
    "# Access all the keys\n",
    "print(actor.keys())"
   ]
  },
  {
   "cell_type": "code",
   "execution_count": 11,
   "metadata": {},
   "outputs": [
    {
     "name": "stdout",
     "output_type": "stream",
     "text": [
      "dict_values(['Angelina Jolie', 'Action', 'United States'])\n"
     ]
    }
   ],
   "source": [
    "# Access all values\n",
    "print(actress.values())"
   ]
  },
  {
   "cell_type": "code",
   "execution_count": 12,
   "metadata": {},
   "outputs": [
    {
     "name": "stdout",
     "output_type": "stream",
     "text": [
      "This is a key: name\n",
      "This is a key: genre\n",
      "This is a key: nationality\n"
     ]
    }
   ],
   "source": [
    "for key in actress.keys():\n",
    "    print(\"This is a key:\", key)"
   ]
  },
  {
   "cell_type": "code",
   "execution_count": 13,
   "metadata": {},
   "outputs": [
    {
     "name": "stdout",
     "output_type": "stream",
     "text": [
      "This is a value: Angelina Jolie\n",
      "This is a value: Action\n",
      "This is a value: United States\n"
     ]
    }
   ],
   "source": [
    "for value in actress.values():\n",
    "    print(\"This is a value:\", value)"
   ]
  },
  {
   "cell_type": "code",
   "execution_count": 14,
   "metadata": {},
   "outputs": [
    {
     "name": "stdout",
     "output_type": "stream",
     "text": [
      "This is a key: name\n",
      "This is a value: Angelina Jolie\n",
      "This is a key: genre\n",
      "This is a value: Action\n",
      "This is a key: nationality\n",
      "This is a value: United States\n"
     ]
    }
   ],
   "source": [
    "# Use items() to loop through both keys and values\n",
    "for key, value in actress.items():\n",
    "    print(\"This is a key:\", key)\n",
    "    print(\"This is a value:\", value)"
   ]
  },
  {
   "cell_type": "code",
   "execution_count": 16,
   "metadata": {},
   "outputs": [
    {
     "name": "stdout",
     "output_type": "stream",
     "text": [
      "{'title': 'Interstellar', 'revenues': {'United States': 360, 'China': 250, 'United Kingdom': 73}}\n"
     ]
    }
   ],
   "source": [
    "film = {\"title\": \"Interstellar\", \"revenues\": {\"United States\":360, \"China\":250, \"United Kingdom\":73}}\n",
    "# Use del to delete a key-value pair from a dictionary\n",
    "del film[\"revenues\"]\n",
    "print(film)"
   ]
  },
  {
   "cell_type": "code",
   "execution_count": null,
   "metadata": {
    "collapsed": true
   },
   "outputs": [],
   "source": []
  }
 ],
 "metadata": {
  "kernelspec": {
   "display_name": "Python 3",
   "language": "python",
   "name": "python3"
  },
  "language_info": {
   "codemirror_mode": {
    "name": "ipython",
    "version": 3
   },
   "file_extension": ".py",
   "mimetype": "text/x-python",
   "name": "python",
   "nbconvert_exporter": "python",
   "pygments_lexer": "ipython3",
   "version": "3.6.1"
  }
 },
 "nbformat": 4,
 "nbformat_minor": 2
}
