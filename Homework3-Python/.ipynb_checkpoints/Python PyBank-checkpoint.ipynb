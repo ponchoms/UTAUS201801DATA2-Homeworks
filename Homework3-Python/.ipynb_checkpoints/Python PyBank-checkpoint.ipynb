{
 "cells": [
  {
   "cell_type": "code",
   "execution_count": 1,
   "metadata": {
    "collapsed": true
   },
   "outputs": [],
   "source": [
    "# Import Dependencies\n",
    "import pandas as pd\n"
   ]
  },
  {
   "cell_type": "code",
   "execution_count": 2,
   "metadata": {},
   "outputs": [
    {
     "data": {
      "text/html": [
       "<div>\n",
       "<style scoped>\n",
       "    .dataframe tbody tr th:only-of-type {\n",
       "        vertical-align: middle;\n",
       "    }\n",
       "\n",
       "    .dataframe tbody tr th {\n",
       "        vertical-align: top;\n",
       "    }\n",
       "\n",
       "    .dataframe thead th {\n",
       "        text-align: right;\n",
       "    }\n",
       "</style>\n",
       "<table border=\"1\" class=\"dataframe\">\n",
       "  <thead>\n",
       "    <tr style=\"text-align: right;\">\n",
       "      <th></th>\n",
       "      <th>Date</th>\n",
       "      <th>Revenue</th>\n",
       "    </tr>\n",
       "  </thead>\n",
       "  <tbody>\n",
       "    <tr>\n",
       "      <th>0</th>\n",
       "      <td>Oct-12</td>\n",
       "      <td>1154293</td>\n",
       "    </tr>\n",
       "    <tr>\n",
       "      <th>1</th>\n",
       "      <td>Nov-12</td>\n",
       "      <td>885773</td>\n",
       "    </tr>\n",
       "    <tr>\n",
       "      <th>2</th>\n",
       "      <td>Dec-12</td>\n",
       "      <td>-448704</td>\n",
       "    </tr>\n",
       "    <tr>\n",
       "      <th>3</th>\n",
       "      <td>Jan-13</td>\n",
       "      <td>563679</td>\n",
       "    </tr>\n",
       "    <tr>\n",
       "      <th>4</th>\n",
       "      <td>Feb-13</td>\n",
       "      <td>555394</td>\n",
       "    </tr>\n",
       "  </tbody>\n",
       "</table>\n",
       "</div>"
      ],
      "text/plain": [
       "     Date  Revenue\n",
       "0  Oct-12  1154293\n",
       "1  Nov-12   885773\n",
       "2  Dec-12  -448704\n",
       "3  Jan-13   563679\n",
       "4  Feb-13   555394"
      ]
     },
     "execution_count": 2,
     "metadata": {},
     "output_type": "execute_result"
    }
   ],
   "source": [
    "# Import the CSV into a pandas DataFrame\n",
    "csv_path = \"budget_data_1.csv\"\n",
    "budget_df = pd.read_csv(csv_path)\n",
    "budget_df.head()"
   ]
  },
  {
   "cell_type": "code",
   "execution_count": 3,
   "metadata": {},
   "outputs": [
    {
     "data": {
      "text/html": [
       "<div>\n",
       "<style scoped>\n",
       "    .dataframe tbody tr th:only-of-type {\n",
       "        vertical-align: middle;\n",
       "    }\n",
       "\n",
       "    .dataframe tbody tr th {\n",
       "        vertical-align: top;\n",
       "    }\n",
       "\n",
       "    .dataframe thead th {\n",
       "        text-align: right;\n",
       "    }\n",
       "</style>\n",
       "<table border=\"1\" class=\"dataframe\">\n",
       "  <thead>\n",
       "    <tr style=\"text-align: right;\">\n",
       "      <th></th>\n",
       "      <th>Date</th>\n",
       "      <th>Revenue</th>\n",
       "      <th>Month</th>\n",
       "    </tr>\n",
       "  </thead>\n",
       "  <tbody>\n",
       "    <tr>\n",
       "      <th>0</th>\n",
       "      <td>Oct-12</td>\n",
       "      <td>1154293</td>\n",
       "      <td>Oct</td>\n",
       "    </tr>\n",
       "    <tr>\n",
       "      <th>1</th>\n",
       "      <td>Nov-12</td>\n",
       "      <td>885773</td>\n",
       "      <td>Nov</td>\n",
       "    </tr>\n",
       "    <tr>\n",
       "      <th>2</th>\n",
       "      <td>Dec-12</td>\n",
       "      <td>-448704</td>\n",
       "      <td>Dec</td>\n",
       "    </tr>\n",
       "    <tr>\n",
       "      <th>3</th>\n",
       "      <td>Jan-13</td>\n",
       "      <td>563679</td>\n",
       "      <td>Jan</td>\n",
       "    </tr>\n",
       "    <tr>\n",
       "      <th>4</th>\n",
       "      <td>Feb-13</td>\n",
       "      <td>555394</td>\n",
       "      <td>Feb</td>\n",
       "    </tr>\n",
       "  </tbody>\n",
       "</table>\n",
       "</div>"
      ],
      "text/plain": [
       "     Date  Revenue Month\n",
       "0  Oct-12  1154293   Oct\n",
       "1  Nov-12   885773   Nov\n",
       "2  Dec-12  -448704   Dec\n",
       "3  Jan-13   563679   Jan\n",
       "4  Feb-13   555394   Feb"
      ]
     },
     "execution_count": 3,
     "metadata": {},
     "output_type": "execute_result"
    }
   ],
   "source": [
    "# The total number of months included in the dataset\n",
    "def get_month(dt):\n",
    "    return dt.split(\"-\")[0]\n",
    "\n",
    "budget_df[\"Month\"]=budget_df[\"Date\"].apply(get_month)\n",
    "budget_df.head()"
   ]
  },
  {
   "cell_type": "code",
   "execution_count": 4,
   "metadata": {},
   "outputs": [
    {
     "name": "stdout",
     "output_type": "stream",
     "text": [
      "The total number of months included in the dataset is 41 months.\n"
     ]
    }
   ],
   "source": [
    "months=budget_df[\"Month\"].count()\n",
    "\n",
    "print(\"The total number of months included in the dataset is \" + str(months) + \" months.\")"
   ]
  },
  {
   "cell_type": "code",
   "execution_count": 5,
   "metadata": {},
   "outputs": [
    {
     "name": "stdout",
     "output_type": "stream",
     "text": [
      "The total amount of revenue gained over the entire period $18971412.00 dollars\n"
     ]
    }
   ],
   "source": [
    "# The total amount of revenue gained over the entire period\n",
    "total=budget_df[\"Revenue\"].sum()\n",
    "\n",
    "print(\"The total amount of revenue gained over the entire period $\" + str(total) + \".00 dollars\")"
   ]
  },
  {
   "cell_type": "code",
   "execution_count": 6,
   "metadata": {},
   "outputs": [
    {
     "data": {
      "text/plain": [
       "41"
      ]
     },
     "execution_count": 6,
     "metadata": {},
     "output_type": "execute_result"
    }
   ],
   "source": [
    "count = len(budget_df.index)\n",
    "count"
   ]
  },
  {
   "cell_type": "code",
   "execution_count": 7,
   "metadata": {},
   "outputs": [
    {
     "data": {
      "text/plain": [
       "0    1154293\n",
       "1     885773\n",
       "2    -448704\n",
       "3     563679\n",
       "4     555394\n",
       "Name: Revenue, dtype: int64"
      ]
     },
     "execution_count": 7,
     "metadata": {},
     "output_type": "execute_result"
    }
   ],
   "source": [
    "# The average change in revenue between months over the entire period\n",
    "revenue_df=budget_df[\"Revenue\"]\n",
    "revenue_df.head()"
   ]
  },
  {
   "cell_type": "code",
   "execution_count": 17,
   "metadata": {},
   "outputs": [
    {
     "data": {
      "text/plain": [
       "1      885773\n",
       "2     -448704\n",
       "3      563679\n",
       "4      555394\n",
       "5      631974\n",
       "6      957395\n",
       "7     1104047\n",
       "8      693464\n",
       "9      454932\n",
       "10     727272\n",
       "11     125016\n",
       "12     339251\n",
       "13      78523\n",
       "14     977084\n",
       "15    1158718\n",
       "16     332681\n",
       "17    -341227\n",
       "18     173826\n",
       "19     742611\n",
       "20    1189806\n",
       "21     607363\n",
       "22   -1172384\n",
       "23     587993\n",
       "24     295198\n",
       "25    -300390\n",
       "26     468995\n",
       "27     698452\n",
       "28     967828\n",
       "29    -454873\n",
       "30     375723\n",
       "31    1140526\n",
       "32      83836\n",
       "33     413189\n",
       "34     551363\n",
       "35    1195111\n",
       "36     657081\n",
       "37      66659\n",
       "38     803301\n",
       "39    -953301\n",
       "40     883934\n",
       "Name: Revenue, dtype: int64"
      ]
     },
     "execution_count": 17,
     "metadata": {},
     "output_type": "execute_result"
    }
   ],
   "source": [
    "revenue2_df=revenue_df[1:]\n",
    "\n",
    "revenue2_df"
   ]
  },
  {
   "cell_type": "code",
   "execution_count": 16,
   "metadata": {},
   "outputs": [
    {
     "name": "stdout",
     "output_type": "stream",
     "text": [
      "The average change in revenue between months is $-6758.975 dollars\n"
     ]
    }
   ],
   "source": [
    "diff_months =  [x - y for x, y in zip(revenue2_df, revenue_df)]\n",
    "diff2= pd.DataFrame(diff_months)\n",
    "av_change=diff2.sum()/(count-1)\n",
    "av_change\n",
    "\n",
    "print(\"The average change in revenue between months is $\" + str(av_change[0]) + \" dollars\")\n"
   ]
  },
  {
   "cell_type": "code",
   "execution_count": 12,
   "metadata": {},
   "outputs": [
    {
     "data": {
      "text/plain": [
       "[-268520,\n",
       " -1334477,\n",
       " 1012383,\n",
       " -8285,\n",
       " 76580,\n",
       " 325421,\n",
       " 146652,\n",
       " -410583,\n",
       " -238532,\n",
       " 272340,\n",
       " -602256,\n",
       " 214235,\n",
       " -260728,\n",
       " 898561,\n",
       " 181634,\n",
       " -826037,\n",
       " -673908,\n",
       " 515053,\n",
       " 568785,\n",
       " 447195,\n",
       " -582443,\n",
       " -1779747,\n",
       " 1760377,\n",
       " -292795,\n",
       " -595588,\n",
       " 769385,\n",
       " 229457,\n",
       " 269376,\n",
       " -1422701,\n",
       " 830596,\n",
       " 764803,\n",
       " -1056690,\n",
       " 329353,\n",
       " 138174,\n",
       " 643748,\n",
       " -538030,\n",
       " -590422,\n",
       " 736642,\n",
       " -1756602,\n",
       " 1837235]"
      ]
     },
     "execution_count": 12,
     "metadata": {},
     "output_type": "execute_result"
    }
   ],
   "source": [
    "diff_months\n"
   ]
  },
  {
   "cell_type": "code",
   "execution_count": null,
   "metadata": {
    "collapsed": true
   },
   "outputs": [],
   "source": []
  }
 ],
 "metadata": {
  "kernelspec": {
   "display_name": "Python 3",
   "language": "python",
   "name": "python3"
  },
  "language_info": {
   "codemirror_mode": {
    "name": "ipython",
    "version": 3
   },
   "file_extension": ".py",
   "mimetype": "text/x-python",
   "name": "python",
   "nbconvert_exporter": "python",
   "pygments_lexer": "ipython3",
   "version": "3.6.1"
  }
 },
 "nbformat": 4,
 "nbformat_minor": 2
}
