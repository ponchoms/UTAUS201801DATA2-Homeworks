{
 "cells": [
  {
   "cell_type": "code",
   "execution_count": 1,
   "metadata": {
    "collapsed": true
   },
   "outputs": [],
   "source": [
    "import bs4 as bs\n",
    "import urllib.request"
   ]
  },
  {
   "cell_type": "code",
   "execution_count": 2,
   "metadata": {},
   "outputs": [],
   "source": [
    "sauce = urllib.request.urlopen('https://pythonprogramming.net/parsememcparseface/').read()\n",
    "soup = bs.BeautifulSoup(sauce, 'lxml')"
   ]
  },
  {
   "cell_type": "code",
   "execution_count": 4,
   "metadata": {},
   "outputs": [
    {
     "name": "stdout",
     "output_type": "stream",
     "text": [
      "<nav style=\"background-color:#003F72\">\n",
      "<div class=\"nav-wrapper container\">\n",
      "<a class=\"brand-logo\" href=\"/\"><img class=\"img-responsive\" src=\"/static/images/mainlogowhitethick.jpg\" style=\"width:50px; height;50px; margin-top:5px\"/></a>\n",
      "<a class=\"button-collapse\" data-activates=\"navsidebar\" href=\"#\"><i class=\"mdi-navigation-menu\"></i></a>\n",
      "<ul class=\"right hide-on-med-and-down\">\n",
      "<li><i class=\"material-icons\">search</i></li>\n",
      "<li>\n",
      "<form action=\"/search/?l=hi\" id=\"searchform\" method=\"get\" style=\"height:50px; padding-top:10px\">\n",
      "<input id=\"search\" name=\"q\" placeholder=\"search\" style=\"font-size:16px\" type=\"search\"/>\n",
      "</form>\n",
      "</li>\n",
      "<li><a href=\"/\">Home</a></li>\n",
      "<li><a class=\"tooltipped\" data-delay=\"50\" data-position=\"bottom\" data-tooltip=\"sudo apt-get upgrade\" href=\"/+=1/\">+=1</a></li>\n",
      "<!--<li><a href=\"/store/python-hoodie/\">Store</a></li>-->\n",
      "<li><a href=\"/support/\">Support the Content</a></li>\n",
      "<li><a href=\"https://goo.gl/7zgAVQ\" target=\"blank\"><!--<i class=\"material-icons\">question_answer</i>-->Community</a></li>\n",
      "<li><a href=\"/login/\">Log in</a></li>\n",
      "<li><a href=\"/register/\">Sign up</a></li>\n",
      "</ul>\n",
      "<ul class=\"side-nav\" id=\"navsidebar\">\n",
      "<li>\n",
      "<form action=\"/search/?l=hi\" id=\"searchform\" method=\"get\" style=\"height:50px; padding-top:10px\">\n",
      "<input id=\"search\" name=\"q\" placeholder=\"search\" style=\"font-size:16px\" type=\"search\"/>\n",
      "</form>\n",
      "</li>\n",
      "<li><a href=\"/\">Home</a></li>\n",
      "<li><a class=\"tooltipped\" data-delay=\"50\" data-position=\"bottom\" data-tooltip=\"sudo apt-get upgrade\" href=\"/+=1/\">+=1</a></li>\n",
      "<!--<li><a href=\"/store/python-hoodie/\">Store</a></li>-->\n",
      "<li><a href=\"/support/\">Support the Content</a></li>\n",
      "<li><a href=\"https://goo.gl/7zgAVQ\" target=\"blank\"><!--<i class=\"material-icons\">question_answer</i>-->Community</a></li>\n",
      "<li><a href=\"/login/\">Log in</a></li>\n",
      "<li><a href=\"/register/\">Sign up</a></li>\n",
      "</ul>\n",
      "</div>\n",
      "</nav>\n"
     ]
    }
   ],
   "source": [
    "nav = soup.nav\n",
    "print(nav)\n"
   ]
  },
  {
   "cell_type": "code",
   "execution_count": 5,
   "metadata": {},
   "outputs": [
    {
     "name": "stdout",
     "output_type": "stream",
     "text": [
      "/\n",
      "#\n",
      "/\n",
      "/+=1/\n",
      "/support/\n",
      "https://goo.gl/7zgAVQ\n",
      "/login/\n",
      "/register/\n",
      "/\n",
      "/+=1/\n",
      "/support/\n",
      "https://goo.gl/7zgAVQ\n",
      "/login/\n",
      "/register/\n"
     ]
    }
   ],
   "source": [
    "for url in nav.find_all(\"a\"):\n",
    "    print(url.get(\"href\"))"
   ]
  },
  {
   "cell_type": "code",
   "execution_count": 7,
   "metadata": {},
   "outputs": [
    {
     "name": "stdout",
     "output_type": "stream",
     "text": [
      "Oh, hello! This is a wonderful page meant to let you practice web scraping. This page was originally created to help people work with the Beautiful Soup 4 library.\n",
      "The following table gives some general information for the following programming languages:\n",
      "I think it's clear that, on a scale of 1-10, python is:\n",
      "Javascript (dynamic data) test:\n",
      "y u bad tho?\n",
      "Whᶐt hαppéns now¿\n",
      "sitemap\n"
     ]
    }
   ],
   "source": [
    "body = soup.body\n",
    "for paragraph in body.find_all(\"p\"):\n",
    "    print (paragraph.text)"
   ]
  },
  {
   "cell_type": "code",
   "execution_count": 8,
   "metadata": {},
   "outputs": [
    {
     "name": "stdout",
     "output_type": "stream",
     "text": [
      "\n",
      "Oh, hello! This is a wonderful page meant to let you practice web scraping. This page was originally created to help people work with the Beautiful Soup 4 library.\n",
      "The following table gives some general information for the following programming languages:\n",
      "\n",
      "Python\n",
      "Pascal\n",
      "Lisp\n",
      "D#\n",
      "Cobol\n",
      "Fortran\n",
      "Haskell\n",
      "\n",
      "\n",
      "\n",
      "Program Name\n",
      "Internet Points\n",
      "Kittens?\n",
      "\n",
      "\n",
      "Python\n",
      "932914021\n",
      "Definitely\n",
      "\n",
      "\n",
      "Pascal\n",
      "532\n",
      "Unlikely\n",
      "\n",
      "\n",
      "Lisp\n",
      "1522\n",
      "Uncertain\n",
      "\n",
      "\n",
      "D#\n",
      "12\n",
      "Possibly\n",
      "\n",
      "\n",
      "Cobol\n",
      "3\n",
      "No.\n",
      "\n",
      "\n",
      "Fortran\n",
      "52124\n",
      "Yes.\n",
      "\n",
      "\n",
      "Haskell\n",
      "24\n",
      "lol.\n",
      "\n",
      "\n",
      "I think it's clear that, on a scale of 1-10, python is:\n",
      "\n",
      "\n",
      "\n",
      "\n",
      "\n",
      "\n",
      "Javascript (dynamic data) test:\n",
      "y u bad tho?\n",
      "\n",
      "     document.getElementById('yesnojs').innerHTML = 'Look at you shinin!';\n",
      "  \n",
      "\n",
      "Beautiful is better than ugly.\n",
      "Explicit is better than implicit.\n",
      "Simple is better than complex.\n",
      "Complex is better than complicated.\n",
      "Flat is better than nested.\n",
      "Sparse is better than dense.\n",
      "Readability counts.\n",
      "Special cases aren't special enough to break the rules.\n",
      "Although practicality beats purity.\n",
      "Errors should never pass silently.\n",
      "Unless explicitly silenced.\n",
      "In the face of ambiguity, refuse the temptation to guess.\n",
      "There should be one-- and preferably only one --obvious way to do it.\n",
      "Although that way may not be obvious at first unless you're Dutch.\n",
      "Now is better than never.\n",
      "Although never is often better than *right* now.\n",
      "If the implementation is hard to explain, it's a bad idea.\n",
      "If the implementation is easy to explain, it may be a good idea.\n",
      "Namespaces are one honking great idea -- let's do more of those!\n",
      "Whᶐt hαppéns now¿\n",
      "sitemap\n",
      "\n"
     ]
    }
   ],
   "source": [
    "for div in soup.find_all(\"div\", class_=\"body\"):\n",
    "    print (div.text)"
   ]
  },
  {
   "cell_type": "code",
   "execution_count": null,
   "metadata": {},
   "outputs": [],
   "source": []
  },
  {
   "cell_type": "code",
   "execution_count": null,
   "metadata": {},
   "outputs": [],
   "source": []
  },
  {
   "cell_type": "code",
   "execution_count": null,
   "metadata": {},
   "outputs": [],
   "source": []
  },
  {
   "cell_type": "code",
   "execution_count": null,
   "metadata": {},
   "outputs": [],
   "source": []
  }
 ],
 "metadata": {
  "kernelspec": {
   "display_name": "Python [conda env:PythonData]",
   "language": "python",
   "name": "conda-env-PythonData-py"
  },
  "language_info": {
   "codemirror_mode": {
    "name": "ipython",
    "version": 3
   },
   "file_extension": ".py",
   "mimetype": "text/x-python",
   "name": "python",
   "nbconvert_exporter": "python",
   "pygments_lexer": "ipython3",
   "version": "3.6.1"
  }
 },
 "nbformat": 4,
 "nbformat_minor": 2
}
